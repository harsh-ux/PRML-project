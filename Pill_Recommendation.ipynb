{
  "nbformat": 4,
  "nbformat_minor": 0,
  "metadata": {
    "colab": {
      "name": "Copy of Pill-Recommendation.ipynb",
      "provenance": [],
      "include_colab_link": true
    },
    "kernelspec": {
      "name": "python3",
      "display_name": "Python 3"
    },
    "language_info": {
      "name": "python"
    },
    "accelerator": "GPU"
  },
  "cells": [
    {
      "cell_type": "markdown",
      "metadata": {
        "id": "view-in-github",
        "colab_type": "text"
      },
      "source": [
        "<a href=\"https://colab.research.google.com/github/harsh-ux/PRML-project/blob/main/Pill_Recommendation.ipynb\" target=\"_parent\"><img src=\"https://colab.research.google.com/assets/colab-badge.svg\" alt=\"Open In Colab\"/></a>"
      ]
    },
    {
      "cell_type": "code",
      "metadata": {
        "id": "UQIyDqj0J9ql"
      },
      "source": [
        "import time\n",
        "import pandas as pd\n",
        "import numpy as np\n",
        "import seaborn as sns\n",
        "from matplotlib import pyplot as plt\n",
        "from sklearn.svm import SVC\n",
        "from sklearn.model_selection import train_test_split, StratifiedKFold, cross_val_score\n",
        "from sklearn.pipeline import make_pipeline, Pipeline\n",
        "from sklearn.metrics import classification_report\n",
        "from sklearn.model_selection import GridSearchCV\n",
        "from sklearn.metrics import accuracy_score, f1_score, roc_curve, auc, confusion_matrix, roc_auc_score, recall_score, precision_score"
      ],
      "execution_count": 1,
      "outputs": []
    },
    {
      "cell_type": "code",
      "metadata": {
        "id": "HT8I0ceWXwjt",
        "colab": {
          "base_uri": "https://localhost:8080/"
        },
        "outputId": "90c4fb24-47d9-4225-b1b0-9cfe31ec5747"
      },
      "source": [
        "from google.colab import drive\n",
        "drive.mount('/content/drive',force_remount=True)\n",
        "# train = pd.read_csv('drive/My Drive/drugsComTrain_raw.csv')\n",
        "# test = pd.read_csv('drive/My Drive/drugsComTest_raw.csv')\n",
        "train = pd.read_csv('drive/My Drive/drugsCom_raw/drugsComTrain_raw.csv')\n",
        "test = pd.read_csv('drive/My Drive/drugsCom_raw/drugsComTest_raw.csv')\n",
        "# getting the shapes\n",
        "print(\"Shape of train :\", train.shape)\n",
        "print(\"Shape of test :\", test.shape)"
      ],
      "execution_count": 2,
      "outputs": [
        {
          "output_type": "stream",
          "text": [
            "Mounted at /content/drive\n",
            "Shape of train : (161297, 7)\n",
            "Shape of test : (53766, 7)\n"
          ],
          "name": "stdout"
        }
      ]
    },
    {
      "cell_type": "code",
      "metadata": {
        "id": "H-KXObLyYE9q",
        "colab": {
          "base_uri": "https://localhost:8080/",
          "height": 195
        },
        "outputId": "df7b3fa7-8c10-4324-f753-79d9847461c7"
      },
      "source": [
        "train.head()"
      ],
      "execution_count": 3,
      "outputs": [
        {
          "output_type": "execute_result",
          "data": {
            "text/html": [
              "<div>\n",
              "<style scoped>\n",
              "    .dataframe tbody tr th:only-of-type {\n",
              "        vertical-align: middle;\n",
              "    }\n",
              "\n",
              "    .dataframe tbody tr th {\n",
              "        vertical-align: top;\n",
              "    }\n",
              "\n",
              "    .dataframe thead th {\n",
              "        text-align: right;\n",
              "    }\n",
              "</style>\n",
              "<table border=\"1\" class=\"dataframe\">\n",
              "  <thead>\n",
              "    <tr style=\"text-align: right;\">\n",
              "      <th></th>\n",
              "      <th>uniqueID</th>\n",
              "      <th>drugName</th>\n",
              "      <th>condition</th>\n",
              "      <th>review</th>\n",
              "      <th>rating</th>\n",
              "      <th>date</th>\n",
              "      <th>usefulCount</th>\n",
              "    </tr>\n",
              "  </thead>\n",
              "  <tbody>\n",
              "    <tr>\n",
              "      <th>0</th>\n",
              "      <td>206461</td>\n",
              "      <td>Valsartan</td>\n",
              "      <td>Left Ventricular Dysfunction</td>\n",
              "      <td>\"It has no side effect, I take it in combinati...</td>\n",
              "      <td>9</td>\n",
              "      <td>20-May-12</td>\n",
              "      <td>27</td>\n",
              "    </tr>\n",
              "    <tr>\n",
              "      <th>1</th>\n",
              "      <td>95260</td>\n",
              "      <td>Guanfacine</td>\n",
              "      <td>ADHD</td>\n",
              "      <td>\"My son is halfway through his fourth week of ...</td>\n",
              "      <td>8</td>\n",
              "      <td>27-Apr-10</td>\n",
              "      <td>192</td>\n",
              "    </tr>\n",
              "    <tr>\n",
              "      <th>2</th>\n",
              "      <td>92703</td>\n",
              "      <td>Lybrel</td>\n",
              "      <td>Birth Control</td>\n",
              "      <td>\"I used to take another oral contraceptive, wh...</td>\n",
              "      <td>5</td>\n",
              "      <td>14-Dec-09</td>\n",
              "      <td>17</td>\n",
              "    </tr>\n",
              "    <tr>\n",
              "      <th>3</th>\n",
              "      <td>138000</td>\n",
              "      <td>Ortho Evra</td>\n",
              "      <td>Birth Control</td>\n",
              "      <td>\"This is my first time using any form of birth...</td>\n",
              "      <td>8</td>\n",
              "      <td>3-Nov-15</td>\n",
              "      <td>10</td>\n",
              "    </tr>\n",
              "    <tr>\n",
              "      <th>4</th>\n",
              "      <td>35696</td>\n",
              "      <td>Buprenorphine / naloxone</td>\n",
              "      <td>Opiate Dependence</td>\n",
              "      <td>\"Suboxone has completely turned my life around...</td>\n",
              "      <td>9</td>\n",
              "      <td>27-Nov-16</td>\n",
              "      <td>37</td>\n",
              "    </tr>\n",
              "  </tbody>\n",
              "</table>\n",
              "</div>"
            ],
            "text/plain": [
              "   uniqueID                  drugName  ...       date usefulCount\n",
              "0    206461                 Valsartan  ...  20-May-12          27\n",
              "1     95260                Guanfacine  ...  27-Apr-10         192\n",
              "2     92703                    Lybrel  ...  14-Dec-09          17\n",
              "3    138000                Ortho Evra  ...   3-Nov-15          10\n",
              "4     35696  Buprenorphine / naloxone  ...  27-Nov-16          37\n",
              "\n",
              "[5 rows x 7 columns]"
            ]
          },
          "metadata": {
            "tags": []
          },
          "execution_count": 3
        }
      ]
    },
    {
      "cell_type": "code",
      "metadata": {
        "colab": {
          "base_uri": "https://localhost:8080/",
          "height": 195
        },
        "id": "DKpAg1evaL5T",
        "outputId": "945f216f-796e-455a-8325-4c2f797bf69c"
      },
      "source": [
        "test.head()"
      ],
      "execution_count": 4,
      "outputs": [
        {
          "output_type": "execute_result",
          "data": {
            "text/html": [
              "<div>\n",
              "<style scoped>\n",
              "    .dataframe tbody tr th:only-of-type {\n",
              "        vertical-align: middle;\n",
              "    }\n",
              "\n",
              "    .dataframe tbody tr th {\n",
              "        vertical-align: top;\n",
              "    }\n",
              "\n",
              "    .dataframe thead th {\n",
              "        text-align: right;\n",
              "    }\n",
              "</style>\n",
              "<table border=\"1\" class=\"dataframe\">\n",
              "  <thead>\n",
              "    <tr style=\"text-align: right;\">\n",
              "      <th></th>\n",
              "      <th>uniqueID</th>\n",
              "      <th>drugName</th>\n",
              "      <th>condition</th>\n",
              "      <th>review</th>\n",
              "      <th>rating</th>\n",
              "      <th>date</th>\n",
              "      <th>usefulCount</th>\n",
              "    </tr>\n",
              "  </thead>\n",
              "  <tbody>\n",
              "    <tr>\n",
              "      <th>0</th>\n",
              "      <td>163740</td>\n",
              "      <td>Mirtazapine</td>\n",
              "      <td>Depression</td>\n",
              "      <td>\"I&amp;#039;ve tried a few antidepressants over th...</td>\n",
              "      <td>10</td>\n",
              "      <td>28-Feb-12</td>\n",
              "      <td>22</td>\n",
              "    </tr>\n",
              "    <tr>\n",
              "      <th>1</th>\n",
              "      <td>206473</td>\n",
              "      <td>Mesalamine</td>\n",
              "      <td>Crohn's Disease, Maintenance</td>\n",
              "      <td>\"My son has Crohn&amp;#039;s disease and has done ...</td>\n",
              "      <td>8</td>\n",
              "      <td>17-May-09</td>\n",
              "      <td>17</td>\n",
              "    </tr>\n",
              "    <tr>\n",
              "      <th>2</th>\n",
              "      <td>159672</td>\n",
              "      <td>Bactrim</td>\n",
              "      <td>Urinary Tract Infection</td>\n",
              "      <td>\"Quick reduction of symptoms\"</td>\n",
              "      <td>9</td>\n",
              "      <td>29-Sep-17</td>\n",
              "      <td>3</td>\n",
              "    </tr>\n",
              "    <tr>\n",
              "      <th>3</th>\n",
              "      <td>39293</td>\n",
              "      <td>Contrave</td>\n",
              "      <td>Weight Loss</td>\n",
              "      <td>\"Contrave combines drugs that were used for al...</td>\n",
              "      <td>9</td>\n",
              "      <td>5-Mar-17</td>\n",
              "      <td>35</td>\n",
              "    </tr>\n",
              "    <tr>\n",
              "      <th>4</th>\n",
              "      <td>97768</td>\n",
              "      <td>Cyclafem 1 / 35</td>\n",
              "      <td>Birth Control</td>\n",
              "      <td>\"I have been on this birth control for one cyc...</td>\n",
              "      <td>9</td>\n",
              "      <td>22-Oct-15</td>\n",
              "      <td>4</td>\n",
              "    </tr>\n",
              "  </tbody>\n",
              "</table>\n",
              "</div>"
            ],
            "text/plain": [
              "   uniqueID         drugName  ...       date usefulCount\n",
              "0    163740      Mirtazapine  ...  28-Feb-12          22\n",
              "1    206473       Mesalamine  ...  17-May-09          17\n",
              "2    159672          Bactrim  ...  29-Sep-17           3\n",
              "3     39293         Contrave  ...   5-Mar-17          35\n",
              "4     97768  Cyclafem 1 / 35  ...  22-Oct-15           4\n",
              "\n",
              "[5 rows x 7 columns]"
            ]
          },
          "metadata": {
            "tags": []
          },
          "execution_count": 4
        }
      ]
    },
    {
      "cell_type": "markdown",
      "metadata": {
        "id": "Fa53J8pXQZR3"
      },
      "source": [
        "# Preprocessing"
      ]
    },
    {
      "cell_type": "code",
      "metadata": {
        "colab": {
          "base_uri": "https://localhost:8080/"
        },
        "id": "z0R27T0waVC8",
        "outputId": "0cc12327-1595-4b8c-fd12-c52309eef75a"
      },
      "source": [
        "# as both the dataset contains same columns we can combine them for better analysis\n",
        "data = pd.concat([train, test])\n",
        "\n",
        "# checking the shape\n",
        "data.shape"
      ],
      "execution_count": 5,
      "outputs": [
        {
          "output_type": "execute_result",
          "data": {
            "text/plain": [
              "(215063, 7)"
            ]
          },
          "metadata": {
            "tags": []
          },
          "execution_count": 5
        }
      ]
    },
    {
      "cell_type": "code",
      "metadata": {
        "colab": {
          "base_uri": "https://localhost:8080/",
          "height": 284
        },
        "id": "DlwHUNp7aYWH",
        "outputId": "4912ba43-1abd-4fee-aaf9-159036c44a3c"
      },
      "source": [
        "data.describe()"
      ],
      "execution_count": 6,
      "outputs": [
        {
          "output_type": "execute_result",
          "data": {
            "text/html": [
              "<div>\n",
              "<style scoped>\n",
              "    .dataframe tbody tr th:only-of-type {\n",
              "        vertical-align: middle;\n",
              "    }\n",
              "\n",
              "    .dataframe tbody tr th {\n",
              "        vertical-align: top;\n",
              "    }\n",
              "\n",
              "    .dataframe thead th {\n",
              "        text-align: right;\n",
              "    }\n",
              "</style>\n",
              "<table border=\"1\" class=\"dataframe\">\n",
              "  <thead>\n",
              "    <tr style=\"text-align: right;\">\n",
              "      <th></th>\n",
              "      <th>uniqueID</th>\n",
              "      <th>rating</th>\n",
              "      <th>usefulCount</th>\n",
              "    </tr>\n",
              "  </thead>\n",
              "  <tbody>\n",
              "    <tr>\n",
              "      <th>count</th>\n",
              "      <td>215063.000000</td>\n",
              "      <td>215063.000000</td>\n",
              "      <td>215063.000000</td>\n",
              "    </tr>\n",
              "    <tr>\n",
              "      <th>mean</th>\n",
              "      <td>116039.364814</td>\n",
              "      <td>6.990008</td>\n",
              "      <td>28.001004</td>\n",
              "    </tr>\n",
              "    <tr>\n",
              "      <th>std</th>\n",
              "      <td>67007.913366</td>\n",
              "      <td>3.275554</td>\n",
              "      <td>36.346069</td>\n",
              "    </tr>\n",
              "    <tr>\n",
              "      <th>min</th>\n",
              "      <td>0.000000</td>\n",
              "      <td>1.000000</td>\n",
              "      <td>0.000000</td>\n",
              "    </tr>\n",
              "    <tr>\n",
              "      <th>25%</th>\n",
              "      <td>58115.500000</td>\n",
              "      <td>5.000000</td>\n",
              "      <td>6.000000</td>\n",
              "    </tr>\n",
              "    <tr>\n",
              "      <th>50%</th>\n",
              "      <td>115867.000000</td>\n",
              "      <td>8.000000</td>\n",
              "      <td>16.000000</td>\n",
              "    </tr>\n",
              "    <tr>\n",
              "      <th>75%</th>\n",
              "      <td>173963.500000</td>\n",
              "      <td>10.000000</td>\n",
              "      <td>36.000000</td>\n",
              "    </tr>\n",
              "    <tr>\n",
              "      <th>max</th>\n",
              "      <td>232291.000000</td>\n",
              "      <td>10.000000</td>\n",
              "      <td>1291.000000</td>\n",
              "    </tr>\n",
              "  </tbody>\n",
              "</table>\n",
              "</div>"
            ],
            "text/plain": [
              "            uniqueID         rating    usefulCount\n",
              "count  215063.000000  215063.000000  215063.000000\n",
              "mean   116039.364814       6.990008      28.001004\n",
              "std     67007.913366       3.275554      36.346069\n",
              "min         0.000000       1.000000       0.000000\n",
              "25%     58115.500000       5.000000       6.000000\n",
              "50%    115867.000000       8.000000      16.000000\n",
              "75%    173963.500000      10.000000      36.000000\n",
              "max    232291.000000      10.000000    1291.000000"
            ]
          },
          "metadata": {
            "tags": []
          },
          "execution_count": 6
        }
      ]
    },
    {
      "cell_type": "code",
      "metadata": {
        "colab": {
          "base_uri": "https://localhost:8080/"
        },
        "id": "Sut-6SlkagTE",
        "outputId": "b12302e1-8df0-4623-eb6f-42f230ee4da3"
      },
      "source": [
        "data.info()"
      ],
      "execution_count": 7,
      "outputs": [
        {
          "output_type": "stream",
          "text": [
            "<class 'pandas.core.frame.DataFrame'>\n",
            "Int64Index: 215063 entries, 0 to 53765\n",
            "Data columns (total 7 columns):\n",
            " #   Column       Non-Null Count   Dtype \n",
            "---  ------       --------------   ----- \n",
            " 0   uniqueID     215063 non-null  int64 \n",
            " 1   drugName     215063 non-null  object\n",
            " 2   condition    213869 non-null  object\n",
            " 3   review       215063 non-null  object\n",
            " 4   rating       215063 non-null  int64 \n",
            " 5   date         215063 non-null  object\n",
            " 6   usefulCount  215063 non-null  int64 \n",
            "dtypes: int64(3), object(4)\n",
            "memory usage: 13.1+ MB\n"
          ],
          "name": "stdout"
        }
      ]
    },
    {
      "cell_type": "markdown",
      "metadata": {
        "id": "-JjG_Jlml-zM"
      },
      "source": [
        "Extracting year,month and day from the date column"
      ]
    },
    {
      "cell_type": "code",
      "metadata": {
        "id": "OdDWY8OYbnCY"
      },
      "source": [
        "# converting the date into datetime format\n",
        "data['date'] = pd.to_datetime(data['date'], errors = 'coerce')\n",
        "\n",
        "# now extracting year from date\n",
        "data['Year'] = data['date'].dt.year\n",
        "\n",
        "# extracting the month from the date\n",
        "data['month'] = data['date'].dt.month\n",
        "\n",
        "# extracting the days from the date\n",
        "data['day'] = data['date'].dt.day"
      ],
      "execution_count": 8,
      "outputs": []
    },
    {
      "cell_type": "markdown",
      "metadata": {
        "id": "5wI66HLlaqe0"
      },
      "source": [
        "Check for null values"
      ]
    },
    {
      "cell_type": "code",
      "metadata": {
        "colab": {
          "base_uri": "https://localhost:8080/"
        },
        "id": "-pzoIy09aoFV",
        "outputId": "c4f9539a-fa5f-4cb3-c2f4-6580c8e1bcc7"
      },
      "source": [
        "data.isnull().any()"
      ],
      "execution_count": 9,
      "outputs": [
        {
          "output_type": "execute_result",
          "data": {
            "text/plain": [
              "uniqueID       False\n",
              "drugName       False\n",
              "condition       True\n",
              "review         False\n",
              "rating         False\n",
              "date           False\n",
              "usefulCount    False\n",
              "Year           False\n",
              "month          False\n",
              "day            False\n",
              "dtype: bool"
            ]
          },
          "metadata": {
            "tags": []
          },
          "execution_count": 9
        }
      ]
    },
    {
      "cell_type": "markdown",
      "metadata": {
        "id": "iwGS7Yhpbwmn"
      },
      "source": [
        "Add review sentiment column which acts as target variable. It gives a (good,bad)-(1,0) value based on rating of the drug"
      ]
    },
    {
      "cell_type": "code",
      "metadata": {
        "colab": {
          "base_uri": "https://localhost:8080/"
        },
        "id": "N-s4FDirbboO",
        "outputId": "a093f833-c12d-45c5-c1fe-7e944404592b"
      },
      "source": [
        "# feature engineering \n",
        "# let's make a new column review sentiment \n",
        "\n",
        "data.loc[(data['rating'] >= 7), 'Review_Sentiment'] = 2\n",
        "data.loc[(data['rating']== 5), 'Review_Sentiment'] = 1\n",
        "data.loc[(data['rating']== 6), 'Review_Sentiment'] = 1\n",
        "data.loc[(data['rating']<5), 'Review_Sentiment'] = 0\n",
        "data['Review_Sentiment'].value_counts()"
      ],
      "execution_count": 61,
      "outputs": [
        {
          "output_type": "execute_result",
          "data": {
            "text/plain": [
              "2.0    105531\n",
              "0.0     39579\n",
              "1.0     14154\n",
              "Name: Review_Sentiment, dtype: int64"
            ]
          },
          "metadata": {
            "tags": []
          },
          "execution_count": 61
        }
      ]
    },
    {
      "cell_type": "code",
      "metadata": {
        "colab": {
          "base_uri": "https://localhost:8080/"
        },
        "id": "JAWr-Wp0a6LS",
        "outputId": "56bfb023-eaab-45fe-8251-20391acb5768"
      },
      "source": [
        "data['condition'].isnull().sum()"
      ],
      "execution_count": 30,
      "outputs": [
        {
          "output_type": "execute_result",
          "data": {
            "text/plain": [
              "0"
            ]
          },
          "metadata": {
            "tags": []
          },
          "execution_count": 30
        }
      ]
    },
    {
      "cell_type": "code",
      "metadata": {
        "colab": {
          "base_uri": "https://localhost:8080/"
        },
        "id": "cz-1dTzKa9JP",
        "outputId": "7a8cfbdc-593d-4b5d-c37f-75e2d49f6a8a"
      },
      "source": [
        "# we will delete the rows so that the data does not overfits \n",
        "\n",
        "data = data.dropna(axis = 0)\n",
        "\n",
        "# checking the new shape of the data\n",
        "data.shape"
      ],
      "execution_count": 31,
      "outputs": [
        {
          "output_type": "execute_result",
          "data": {
            "text/plain": [
              "(159332, 12)"
            ]
          },
          "metadata": {
            "tags": []
          },
          "execution_count": 31
        }
      ]
    },
    {
      "cell_type": "code",
      "metadata": {
        "colab": {
          "base_uri": "https://localhost:8080/"
        },
        "id": "XKDGZDYxcPNo",
        "outputId": "d95a51f5-f69c-419e-92d6-84ddbb1c4bdb"
      },
      "source": [
        "# importing the important libraries \n",
        "\n",
        "import re\n",
        "from bs4 import BeautifulSoup\n",
        "import nltk\n",
        "nltk.download('stopwords')\n",
        "from nltk.corpus import stopwords\n",
        "from nltk.stem.snowball import SnowballStemmer\n",
        "from nltk.stem.porter import PorterStemmer"
      ],
      "execution_count": 32,
      "outputs": [
        {
          "output_type": "stream",
          "text": [
            "[nltk_data] Downloading package stopwords to /root/nltk_data...\n",
            "[nltk_data]   Package stopwords is already up-to-date!\n"
          ],
          "name": "stdout"
        }
      ]
    },
    {
      "cell_type": "code",
      "metadata": {
        "id": "H-927tAecSS-"
      },
      "source": [
        "# removing some stopwords from the list of stopwords as they are important for drug recommendation\n",
        "\n",
        "stops = set(stopwords.words('english'))\n",
        "\n",
        "not_stop = [\"aren't\",\"couldn't\",\"didn't\",\"doesn't\",\"don't\",\"hadn't\",\"hasn't\",\"haven't\",\"isn't\",\"mightn't\",\n",
        "            \"mustn't\",\"needn't\",\"no\",\"nor\",\"not\",\"shan't\",\"shouldn't\",\"wasn't\",\"weren't\",\"wouldn't\"]\n",
        "for i in not_stop:\n",
        "    stops.remove(i)"
      ],
      "execution_count": 33,
      "outputs": []
    },
    {
      "cell_type": "code",
      "metadata": {
        "colab": {
          "base_uri": "https://localhost:8080/"
        },
        "id": "OketBEXTcm-2",
        "outputId": "bebb0d71-f2c0-474b-ad94-148245c5e05d"
      },
      "source": [
        "data.columns"
      ],
      "execution_count": 34,
      "outputs": [
        {
          "output_type": "execute_result",
          "data": {
            "text/plain": [
              "Index(['uniqueID', 'drugName', 'condition', 'review', 'rating', 'date',\n",
              "       'usefulCount', 'Year', 'month', 'day', 'Review_Sentiment',\n",
              "       'review_clean'],\n",
              "      dtype='object')"
            ]
          },
          "metadata": {
            "tags": []
          },
          "execution_count": 34
        }
      ]
    },
    {
      "cell_type": "code",
      "metadata": {
        "colab": {
          "base_uri": "https://localhost:8080/",
          "height": 639
        },
        "id": "oxuSrIqgcp31",
        "outputId": "8651a272-f3ef-4748-d713-c2dd118d19f9"
      },
      "source": [
        "df_condition = data.groupby(['condition'])['drugName'].nunique().sort_values(ascending=False)\n",
        "df_condition = pd.DataFrame(df_condition).reset_index()\n",
        "df_condition.tail(20)"
      ],
      "execution_count": 35,
      "outputs": [
        {
          "output_type": "execute_result",
          "data": {
            "text/html": [
              "<div>\n",
              "<style scoped>\n",
              "    .dataframe tbody tr th:only-of-type {\n",
              "        vertical-align: middle;\n",
              "    }\n",
              "\n",
              "    .dataframe tbody tr th {\n",
              "        vertical-align: top;\n",
              "    }\n",
              "\n",
              "    .dataframe thead th {\n",
              "        text-align: right;\n",
              "    }\n",
              "</style>\n",
              "<table border=\"1\" class=\"dataframe\">\n",
              "  <thead>\n",
              "    <tr style=\"text-align: right;\">\n",
              "      <th></th>\n",
              "      <th>condition</th>\n",
              "      <th>drugName</th>\n",
              "    </tr>\n",
              "  </thead>\n",
              "  <tbody>\n",
              "    <tr>\n",
              "      <th>673</th>\n",
              "      <td>Aspergillosis, Aspergilloma</td>\n",
              "      <td>1</td>\n",
              "    </tr>\n",
              "    <tr>\n",
              "      <th>674</th>\n",
              "      <td>Ventricular Arrhythmia</td>\n",
              "      <td>1</td>\n",
              "    </tr>\n",
              "    <tr>\n",
              "      <th>675</th>\n",
              "      <td>Keratitis</td>\n",
              "      <td>1</td>\n",
              "    </tr>\n",
              "    <tr>\n",
              "      <th>676</th>\n",
              "      <td>Giant Cell Tumor of Bone</td>\n",
              "      <td>1</td>\n",
              "    </tr>\n",
              "    <tr>\n",
              "      <th>677</th>\n",
              "      <td>Skin Disinfection, Preoperative</td>\n",
              "      <td>1</td>\n",
              "    </tr>\n",
              "    <tr>\n",
              "      <th>678</th>\n",
              "      <td>Postoperative Increased Intraocular Pressure</td>\n",
              "      <td>1</td>\n",
              "    </tr>\n",
              "    <tr>\n",
              "      <th>679</th>\n",
              "      <td>Reversal of Nondepolarizing Muscle Relaxants</td>\n",
              "      <td>1</td>\n",
              "    </tr>\n",
              "    <tr>\n",
              "      <th>680</th>\n",
              "      <td>Small Bowel or Pancreatic Fistula</td>\n",
              "      <td>1</td>\n",
              "    </tr>\n",
              "    <tr>\n",
              "      <th>681</th>\n",
              "      <td>Platelet Aggregation Inhibition</td>\n",
              "      <td>1</td>\n",
              "    </tr>\n",
              "    <tr>\n",
              "      <th>682</th>\n",
              "      <td>Syringomyelia</td>\n",
              "      <td>1</td>\n",
              "    </tr>\n",
              "    <tr>\n",
              "      <th>683</th>\n",
              "      <td>Meningococcal Meningitis Prophylaxis</td>\n",
              "      <td>1</td>\n",
              "    </tr>\n",
              "    <tr>\n",
              "      <th>684</th>\n",
              "      <td>Thyrotoxicosis</td>\n",
              "      <td>1</td>\n",
              "    </tr>\n",
              "    <tr>\n",
              "      <th>685</th>\n",
              "      <td>Anemia, Sickle Cell</td>\n",
              "      <td>1</td>\n",
              "    </tr>\n",
              "    <tr>\n",
              "      <th>686</th>\n",
              "      <td>Gonadotropin Inhibition</td>\n",
              "      <td>1</td>\n",
              "    </tr>\n",
              "    <tr>\n",
              "      <th>687</th>\n",
              "      <td>Radionuclide Myocardial Perfusion Study</td>\n",
              "      <td>1</td>\n",
              "    </tr>\n",
              "    <tr>\n",
              "      <th>688</th>\n",
              "      <td>Peritonitis</td>\n",
              "      <td>1</td>\n",
              "    </tr>\n",
              "    <tr>\n",
              "      <th>689</th>\n",
              "      <td>Dissociative Identity Disorde</td>\n",
              "      <td>1</td>\n",
              "    </tr>\n",
              "    <tr>\n",
              "      <th>690</th>\n",
              "      <td>Hypokalemic Periodic Paralysis</td>\n",
              "      <td>1</td>\n",
              "    </tr>\n",
              "    <tr>\n",
              "      <th>691</th>\n",
              "      <td>Mycoplasma Pneumonia</td>\n",
              "      <td>1</td>\n",
              "    </tr>\n",
              "    <tr>\n",
              "      <th>692</th>\n",
              "      <td>Hemophilia B</td>\n",
              "      <td>1</td>\n",
              "    </tr>\n",
              "  </tbody>\n",
              "</table>\n",
              "</div>"
            ],
            "text/plain": [
              "                                        condition  drugName\n",
              "673                   Aspergillosis, Aspergilloma         1\n",
              "674                        Ventricular Arrhythmia         1\n",
              "675                                     Keratitis         1\n",
              "676                      Giant Cell Tumor of Bone         1\n",
              "677               Skin Disinfection, Preoperative         1\n",
              "678  Postoperative Increased Intraocular Pressure         1\n",
              "679  Reversal of Nondepolarizing Muscle Relaxants         1\n",
              "680             Small Bowel or Pancreatic Fistula         1\n",
              "681               Platelet Aggregation Inhibition         1\n",
              "682                                 Syringomyelia         1\n",
              "683          Meningococcal Meningitis Prophylaxis         1\n",
              "684                                Thyrotoxicosis         1\n",
              "685                           Anemia, Sickle Cell         1\n",
              "686                       Gonadotropin Inhibition         1\n",
              "687       Radionuclide Myocardial Perfusion Study         1\n",
              "688                                   Peritonitis         1\n",
              "689                 Dissociative Identity Disorde         1\n",
              "690                Hypokalemic Periodic Paralysis         1\n",
              "691                          Mycoplasma Pneumonia         1\n",
              "692                                  Hemophilia B         1"
            ]
          },
          "metadata": {
            "tags": []
          },
          "execution_count": 35
        }
      ]
    },
    {
      "cell_type": "markdown",
      "metadata": {
        "id": "pflJ6Q65c7pV"
      },
      "source": [
        "Removing medical conditions which have only one drug associated with it in the dataset"
      ]
    },
    {
      "cell_type": "code",
      "metadata": {
        "id": "mvkCOuhNc03T"
      },
      "source": [
        "# setting a df with conditions with only one drug\n",
        "df_condition_1 = df_condition[df_condition['drugName'] == 1].reset_index()\n",
        "\n",
        "all_list = set(data.index)\n",
        "\n",
        "# deleting them\n",
        "condition_list = []\n",
        "for i,j in enumerate(data['condition']):\n",
        "    for c in list(df_condition_1['condition']):\n",
        "        if j == c:\n",
        "            condition_list.append(i)\n",
        "            \n",
        "new_idx = all_list.difference(set(condition_list))\n",
        "data = data.iloc[list(new_idx)].reset_index()\n",
        "del data['index']"
      ],
      "execution_count": 36,
      "outputs": []
    },
    {
      "cell_type": "markdown",
      "metadata": {
        "id": "JAgoNQ4IdHSZ"
      },
      "source": [
        "removing the conditions with the word \"\\span\" in it.\n"
      ]
    },
    {
      "cell_type": "code",
      "metadata": {
        "id": "y6FCE4DRdDdF"
      },
      "source": [
        "all_list = set(data.index)\n",
        "span_list = []\n",
        "for i,j in enumerate(data['condition']):\n",
        "    if '</span>' in j:\n",
        "        span_list.append(i)\n",
        "new_idx = all_list.difference(set(span_list))\n",
        "data = data.iloc[list(new_idx)].reset_index()\n",
        "del data['index']"
      ],
      "execution_count": 37,
      "outputs": []
    },
    {
      "cell_type": "code",
      "metadata": {
        "colab": {
          "base_uri": "https://localhost:8080/"
        },
        "id": "BcePLbJ9dJEB",
        "outputId": "2f2b7c80-7116-4d05-b1eb-07b648037825"
      },
      "source": [
        "data.shape"
      ],
      "execution_count": 38,
      "outputs": [
        {
          "output_type": "execute_result",
          "data": {
            "text/plain": [
              "(159264, 12)"
            ]
          },
          "metadata": {
            "tags": []
          },
          "execution_count": 38
        }
      ]
    },
    {
      "cell_type": "markdown",
      "metadata": {
        "id": "m2zxwNQDdhyv"
      },
      "source": [
        "# Applying data cleanup with -\n",
        "\n",
        "\n",
        "1.   Removing HTML tags\n",
        "2.   Removing non letters\n",
        "3.   Convert all to lower case\n",
        "4.   Remove stopwords\n",
        "5.   Apply stemming\n",
        "\n"
      ]
    },
    {
      "cell_type": "code",
      "metadata": {
        "id": "7CMWLiGBdO7L"
      },
      "source": [
        "stemmer = SnowballStemmer('english')\n",
        "\n",
        "def review_to_words(raw_review):\n",
        "    # 1. Delete HTML \n",
        "    review_text = BeautifulSoup(raw_review, 'html.parser').get_text()\n",
        "    # 2. Make a space\n",
        "    letters_only = re.sub('[^a-zA-Z]', ' ', review_text)\n",
        "    # 3. lower letters\n",
        "    words = letters_only.lower().split()\n",
        "    # 4. Stopwords \n",
        "    meaningful_words = [w for w in words if not w in stops]\n",
        "    # 5. Stemming\n",
        "    stemming_words = [stemmer.stem(w) for w in meaningful_words]\n",
        "    # 6. space join words\n",
        "    return( ' '.join(stemming_words))"
      ],
      "execution_count": 39,
      "outputs": []
    },
    {
      "cell_type": "code",
      "metadata": {
        "colab": {
          "base_uri": "https://localhost:8080/"
        },
        "id": "RxvlgxTcdS87",
        "outputId": "51756e61-397c-46f3-b480-4d4403051f13"
      },
      "source": [
        "%time data['review_clean'] = data['review'].apply(review_to_words)"
      ],
      "execution_count": 40,
      "outputs": [
        {
          "output_type": "stream",
          "text": [
            "CPU times: user 1min 43s, sys: 319 ms, total: 1min 44s\n",
            "Wall time: 1min 44s\n"
          ],
          "name": "stdout"
        }
      ]
    },
    {
      "cell_type": "markdown",
      "metadata": {
        "id": "A-SVWIpfeRxw"
      },
      "source": [
        "Using the entire data as for test and train instead of the original breakup since all have same columns"
      ]
    },
    {
      "cell_type": "code",
      "metadata": {
        "colab": {
          "base_uri": "https://localhost:8080/"
        },
        "id": "NBibZHsDeQny",
        "outputId": "c455d8ba-a535-4a9e-c566-836b012a4371"
      },
      "source": [
        "df_train, df_test = train_test_split(data, test_size = 0.25, random_state = 0)\n",
        "\n",
        "# checking the shape \n",
        "print(\"Shape of train:\", df_train.shape)\n",
        "print(\"Shape of test: \", df_test.shape)"
      ],
      "execution_count": 41,
      "outputs": [
        {
          "output_type": "stream",
          "text": [
            "Shape of train: (119448, 12)\n",
            "Shape of test:  (39816, 12)\n"
          ],
          "name": "stdout"
        }
      ]
    },
    {
      "cell_type": "markdown",
      "metadata": {
        "id": "i2yw7Yi-ed-1"
      },
      "source": [
        "Making a bag of words using CountVectorise"
      ]
    },
    {
      "cell_type": "code",
      "metadata": {
        "colab": {
          "base_uri": "https://localhost:8080/"
        },
        "id": "88W6oNE8ear6",
        "outputId": "d1fe55c1-ff37-45ee-99ce-d732d6076e85"
      },
      "source": [
        "from sklearn.feature_extraction.text import CountVectorizer\n",
        "from sklearn.pipeline import Pipeline\n",
        "\n",
        "cv = CountVectorizer(max_features = 5000, lowercase=True, binary=True)\n",
        "# cv = CountVectorizer()\n",
        "pipeline = Pipeline([('vect',cv)])\n",
        "\n",
        "# df_train_features = pipeline.fit_transform(df_train['review_clean'])\n",
        "# df_train_features = cv.fit_transform(df_train['review_clean']).toarray()\n",
        "df_train_features = cv.fit_transform(df_train['review_clean'])\n",
        "df_test_features = pipeline.fit_transform(df_test['review_clean'])\n",
        "\n",
        "print(\"Performing Bag of Words - CountVectorise\\n\")\n",
        "print(\"df_train_features :\", df_train_features.shape)\n",
        "print(\"df_test_features :\", df_test_features.shape)"
      ],
      "execution_count": 23,
      "outputs": [
        {
          "output_type": "stream",
          "text": [
            "Performing Bag of Words - CountVectorise\n",
            "\n",
            "df_train_features : (119499, 5000)\n",
            "df_test_features : (39833, 5000)\n"
          ],
          "name": "stdout"
        }
      ]
    },
    {
      "cell_type": "code",
      "metadata": {
        "id": "L0X8GKjVV409"
      },
      "source": [
        "df_train_features = df_train_features.toarray()"
      ],
      "execution_count": 24,
      "outputs": []
    },
    {
      "cell_type": "code",
      "metadata": {
        "id": "k-SwzcUVGTaa"
      },
      "source": [
        "y_train = df_train['Review_Sentiment']\n",
        "y_test = df_test['Review_Sentiment']"
      ],
      "execution_count": 62,
      "outputs": []
    },
    {
      "cell_type": "code",
      "metadata": {
        "id": "vPaQvibKpo2H"
      },
      "source": [
        "from keras.utils import to_categorical\n",
        "y_train = to_categorical(y_train)\n",
        "y_test = to_categorical(y_test)"
      ],
      "execution_count": 63,
      "outputs": []
    },
    {
      "cell_type": "code",
      "metadata": {
        "id": "3M5LgBWUYTp5",
        "outputId": "541e586a-8d4f-4760-a993-e85dd26a55c1",
        "colab": {
          "base_uri": "https://localhost:8080/"
        }
      },
      "source": [
        "y_test.shape"
      ],
      "execution_count": 64,
      "outputs": [
        {
          "output_type": "execute_result",
          "data": {
            "text/plain": [
              "(39816, 2)"
            ]
          },
          "metadata": {
            "tags": []
          },
          "execution_count": 64
        }
      ]
    },
    {
      "cell_type": "markdown",
      "metadata": {
        "id": "oVwmckn1GM3E"
      },
      "source": [
        "# SVM"
      ]
    },
    {
      "cell_type": "code",
      "metadata": {
        "id": "2AIqLbZcx9iZ"
      },
      "source": [
        "svmClassifier = SVC(kernel=\"linear\", class_weight=\"balanced\", C=0.003)\n",
        "t0 = time.time()\n",
        "\n",
        "svmClassifier.fit(df_train_features, y_train)\n",
        "t1 = time.time()\n",
        "\n",
        "svmPredictions = svmClassifier.predict(df_test_features)\n",
        "t2 = time.time()\n",
        "\n",
        "time_linear_train = t1-t0\n",
        "time_linear_predict = t2-t1\n",
        "\n",
        "# results\n",
        "print(\"Training time: %fs; Prediction time: %fs\" % (time_linear_train, time_linear_predict))\n",
        "report = classification_report(y_test, svmPredictions, output_dict=True)\n",
        "print('0.0: ', report['0.0'])\n",
        "print('1.0: ', report['1.0'])\n",
        "print('accuracy: ', report['accuracy'])\n",
        "print('macro avg: ', report['macro avg'])\n",
        "print('weighted avg: ', report['weighted avg'])"
      ],
      "execution_count": null,
      "outputs": []
    },
    {
      "cell_type": "markdown",
      "metadata": {
        "id": "v34AhANzRQqP"
      },
      "source": [
        "# Deep Learning Model"
      ]
    },
    {
      "cell_type": "code",
      "metadata": {
        "id": "o8mLA_0AOZTy"
      },
      "source": [
        "# import keras \n",
        "# from keras.models import Sequential, Model\n",
        "# from keras.layers import Dense, Input\n",
        "# from keras.layers import Activation\n",
        "# from keras.layers import Dropout\n",
        "# from keras.layers import Bidirectional\n",
        "# from keras.layers import BatchNormalization\n",
        "# from keras.layers import LSTM\n",
        "# from keras.preprocessing.sequence import pad_sequences"
      ],
      "execution_count": null,
      "outputs": []
    },
    {
      "cell_type": "code",
      "metadata": {
        "id": "NpNwaDDlWM9U"
      },
      "source": [
        "# making our dependent variable\n",
        "solution = y_test.copy()\n",
        "\n",
        "# Model Structure\n",
        "model = Sequential()\n",
        "model.add(Input(shape=(df_train_features.shape[1],)))\n",
        "model.add(Dense(200))\n",
        "model.add(BatchNormalization())\n",
        "model.add(Activation('relu'))\n",
        "model.add(Dropout(0.5))\n",
        "\n",
        "model.add(Dense(300))\n",
        "model.add(BatchNormalization())\n",
        "model.add(Activation('relu'))\n",
        "model.add(Dropout(0.5))\n",
        "\n",
        "model.add(Dense(100, activation = 'relu'))\n",
        "model.add(Dense(1, activation = 'sigmoid'))\n",
        "\n",
        "#  Model compile\n",
        "model.compile(optimizer='adam', loss='binary_crossentropy', metrics=['accuracy'])\n",
        "# inputs = Input(shape=(df_train_features.shape[1],), sparse=True)\n",
        "# L1 = (Dense(200))(inputs)\n",
        "# L1_N = (BatchNormalization())(L1)\n",
        "# L1_Act = (Activation('relu'))(L1_N)\n",
        "# L1_Drop = (Dropout(0.5))(L1_Act)\n",
        "# L2 = (Dense(200))(L1_Drop)\n",
        "# L2_N = (BatchNormalization())(L2)\n",
        "# L2_Act = (Activation('relu'))(L2_N)\n",
        "# L2_Drop = Dropout(0.5)(L2_Act)\n",
        "# L3 = (Dense(100, activation = 'relu'))(L2_Drop)\n",
        "# outputs = (Dense(1, activation = 'sigmoid'))(L3)\n",
        "# model = Model(inputs=inputs, outputs=outputs)\n",
        "# model.compile(loss='categorical_crossentropy', optimizer='adam', metrics=['accuracy'])"
      ],
      "execution_count": null,
      "outputs": []
    },
    {
      "cell_type": "code",
      "metadata": {
        "id": "mxulRqO4WSkc"
      },
      "source": [
        "model.summary()"
      ],
      "execution_count": null,
      "outputs": []
    },
    {
      "cell_type": "code",
      "metadata": {
        "id": "px_jGO3wpGSW"
      },
      "source": [
        "print(df_train_features)"
      ],
      "execution_count": null,
      "outputs": []
    },
    {
      "cell_type": "code",
      "metadata": {
        "id": "Ed5xLKccpTTd"
      },
      "source": [
        "df_train['review_clean']"
      ],
      "execution_count": null,
      "outputs": []
    },
    {
      "cell_type": "code",
      "metadata": {
        "id": "HLEuRnMQFH6O"
      },
      "source": [
        "def batch_generator(X, y, batch_size):\n",
        "    number_of_batches = X.shape[0]/batch_size\n",
        "    counter=0\n",
        "    shuffle_index = np.arange(np.shape(y)[0])\n",
        "    np.random.shuffle(shuffle_index)\n",
        "    X =  X[shuffle_index, :]\n",
        "    y =  y[shuffle_index]\n",
        "    while 1:\n",
        "        index_batch = shuffle_index[batch_size*counter:batch_size*(counter+1)]\n",
        "        X_batch = X[index_batch,:].todense()\n",
        "        y_batch = y[index_batch]\n",
        "        counter += 1\n",
        "        yield(np.array(X_batch),y_batch)\n",
        "        if (counter < number_of_batches):\n",
        "            np.random.shuffle(shuffle_index)\n",
        "            counter=0"
      ],
      "execution_count": null,
      "outputs": []
    },
    {
      "cell_type": "code",
      "metadata": {
        "id": "WH0_OaMvWYcv"
      },
      "source": [
        "# 4. Train model\n",
        "hist = model.fit(df_train_features, y_train, epochs=10, batch_size=64)\n",
        "# steps = 10\n",
        "# for i in range(steps):\n",
        "#   print(model.train_on_batch(df_train_features, y_train, ))\n",
        "# print(model.metrics_names)\n",
        "# batch_size = 64\n",
        "# nb_epoch = 5\n",
        "# model.fit_generator(generator=batch_generator(df_train_features, y_train, batch_size),\n",
        "#                     epochs=nb_epoch)\n",
        "# 5. Traing process\n",
        "%matplotlib inline\n",
        "import matplotlib.pyplot as plt\n",
        "\n",
        "fig, loss_ax = plt.subplots()\n",
        "\n",
        "acc_ax = loss_ax.twinx()\n",
        "\n",
        "loss_ax.set_ylim([0.0, 1.0])\n",
        "acc_ax.set_ylim([0.0, 1.0])\n",
        "\n",
        "loss_ax.plot(hist.history['loss'], 'y', label='train loss')\n",
        "acc_ax.plot(hist.history['accuracy'], 'b', label='train acc')\n",
        "\n",
        "loss_ax.set_xlabel('epoch')\n",
        "loss_ax.set_ylabel('loss')\n",
        "acc_ax.set_ylabel('accuray')\n",
        "\n",
        "loss_ax.legend(loc='upper left')\n",
        "acc_ax.legend(loc='lower left')\n",
        "\n",
        "plt.show()"
      ],
      "execution_count": null,
      "outputs": []
    },
    {
      "cell_type": "code",
      "metadata": {
        "id": "MprW-EeDcyxh"
      },
      "source": [
        "y_pred = model.predict(df_test_features.toarray())"
      ],
      "execution_count": null,
      "outputs": []
    },
    {
      "cell_type": "code",
      "metadata": {
        "id": "Gpr32NziczPX"
      },
      "source": [
        "print(accuracy_score(y_test, y_pred))"
      ],
      "execution_count": null,
      "outputs": []
    },
    {
      "cell_type": "markdown",
      "metadata": {
        "id": "FIw3W3SGTu2C"
      },
      "source": [
        "# Deep Learning Model 2"
      ]
    },
    {
      "cell_type": "code",
      "metadata": {
        "id": "MqDQ-O1mTx6b",
        "outputId": "4a1d9214-4140-44b1-8f01-a430f3420a5b",
        "colab": {
          "base_uri": "https://localhost:8080/",
          "height": 1000
        }
      },
      "source": [
        "from keras.models import Sequential\n",
        "from keras.layers import Dense, LSTM, Embedding, Dropout\n",
        "from sklearn.feature_extraction.text import CountVectorizer, TfidfVectorizer\n",
        "from nltk.corpus import stopwords\n",
        "from keras.utils import to_categorical\n",
        "from gensim.models import Word2Vec\n",
        "from nltk.cluster import KMeansClusterer\n",
        "import nltk\n",
        "import tensorflow_hub as hub\n",
        "import tensorflow as tf\n",
        "from numpy.random import seed\n",
        "hub_layer = hub.KerasLayer(\"https://tfhub.dev/google/tf2-preview/nnlm-en-dim128/1\", output_shape=[50], \n",
        "                           input_shape=[], dtype=tf.string, name='input', trainable=False)\n",
        "np.random.seed(1)\n",
        "model = Sequential()\n",
        "model.add(hub_layer)\n",
        "model.add(Dense(units=1024, activation='relu', input_dim=df_train_features.shape[1]))\n",
        "model.add(Dropout(0.5))\n",
        "model.add(Dense(units=2, activation='softmax', name='output'))\n",
        "\n",
        "model.compile(loss='categorical_crossentropy', optimizer='adam', metrics=['accuracy'])\n",
        "model.summary()\n",
        "hist = model.fit(df_train['review_clean'], y_train, epochs=50, batch_size=128)\n",
        "\n",
        "%matplotlib inline\n",
        "import matplotlib.pyplot as plt\n",
        "\n",
        "fig, loss_ax = plt.subplots()\n",
        "\n",
        "acc_ax = loss_ax.twinx()\n",
        "\n",
        "loss_ax.set_ylim([0.0, 1.0])\n",
        "acc_ax.set_ylim([0.0, 1.0])\n",
        "\n",
        "loss_ax.plot(hist.history['loss'], 'y', label='train loss')\n",
        "acc_ax.plot(hist.history['accuracy'], 'b', label='train acc')\n",
        "\n",
        "loss_ax.set_xlabel('epoch')\n",
        "loss_ax.set_ylabel('loss')\n",
        "acc_ax.set_ylabel('accuray')\n",
        "\n",
        "loss_ax.legend(loc='upper left')\n",
        "acc_ax.legend(loc='lower left')\n",
        "\n",
        "plt.show()"
      ],
      "execution_count": 65,
      "outputs": [
        {
          "output_type": "stream",
          "text": [
            "WARNING:tensorflow:11 out of the last 11 calls to <function recreate_function.<locals>.restored_function_body at 0x7f54fa4ac4d0> triggered tf.function retracing. Tracing is expensive and the excessive number of tracings could be due to (1) creating @tf.function repeatedly in a loop, (2) passing tensors with different shapes, (3) passing Python objects instead of tensors. For (1), please define your @tf.function outside of the loop. For (2), @tf.function has experimental_relax_shapes=True option that relaxes argument shapes that can avoid unnecessary retracing. For (3), please refer to https://www.tensorflow.org/guide/function#controlling_retracing and https://www.tensorflow.org/api_docs/python/tf/function for  more details.\n"
          ],
          "name": "stdout"
        },
        {
          "output_type": "stream",
          "text": [
            "WARNING:tensorflow:11 out of the last 11 calls to <function recreate_function.<locals>.restored_function_body at 0x7f54fa4ac4d0> triggered tf.function retracing. Tracing is expensive and the excessive number of tracings could be due to (1) creating @tf.function repeatedly in a loop, (2) passing tensors with different shapes, (3) passing Python objects instead of tensors. For (1), please define your @tf.function outside of the loop. For (2), @tf.function has experimental_relax_shapes=True option that relaxes argument shapes that can avoid unnecessary retracing. For (3), please refer to https://www.tensorflow.org/guide/function#controlling_retracing and https://www.tensorflow.org/api_docs/python/tf/function for  more details.\n"
          ],
          "name": "stderr"
        },
        {
          "output_type": "stream",
          "text": [
            "WARNING:tensorflow:11 out of the last 11 calls to <function recreate_function.<locals>.restored_function_body at 0x7f54fa4b24d0> triggered tf.function retracing. Tracing is expensive and the excessive number of tracings could be due to (1) creating @tf.function repeatedly in a loop, (2) passing tensors with different shapes, (3) passing Python objects instead of tensors. For (1), please define your @tf.function outside of the loop. For (2), @tf.function has experimental_relax_shapes=True option that relaxes argument shapes that can avoid unnecessary retracing. For (3), please refer to https://www.tensorflow.org/guide/function#controlling_retracing and https://www.tensorflow.org/api_docs/python/tf/function for  more details.\n"
          ],
          "name": "stdout"
        },
        {
          "output_type": "stream",
          "text": [
            "WARNING:tensorflow:11 out of the last 11 calls to <function recreate_function.<locals>.restored_function_body at 0x7f54fa4b24d0> triggered tf.function retracing. Tracing is expensive and the excessive number of tracings could be due to (1) creating @tf.function repeatedly in a loop, (2) passing tensors with different shapes, (3) passing Python objects instead of tensors. For (1), please define your @tf.function outside of the loop. For (2), @tf.function has experimental_relax_shapes=True option that relaxes argument shapes that can avoid unnecessary retracing. For (3), please refer to https://www.tensorflow.org/guide/function#controlling_retracing and https://www.tensorflow.org/api_docs/python/tf/function for  more details.\n"
          ],
          "name": "stderr"
        },
        {
          "output_type": "stream",
          "text": [
            "Model: \"sequential_9\"\n",
            "_________________________________________________________________\n",
            "Layer (type)                 Output Shape              Param #   \n",
            "=================================================================\n",
            "input (KerasLayer)           (None, 128)               124642688 \n",
            "_________________________________________________________________\n",
            "dense_12 (Dense)             (None, 1024)              132096    \n",
            "_________________________________________________________________\n",
            "dropout_9 (Dropout)          (None, 1024)              0         \n",
            "_________________________________________________________________\n",
            "output (Dense)               (None, 2)                 2050      \n",
            "=================================================================\n",
            "Total params: 124,776,834\n",
            "Trainable params: 134,146\n",
            "Non-trainable params: 124,642,688\n",
            "_________________________________________________________________\n",
            "Epoch 1/50\n",
            "934/934 [==============================] - 5s 5ms/step - loss: 0.3126 - accuracy: 0.9070\n",
            "Epoch 2/50\n",
            "934/934 [==============================] - 6s 6ms/step - loss: 0.2875 - accuracy: 0.9123\n",
            "Epoch 3/50\n",
            "934/934 [==============================] - 6s 6ms/step - loss: 0.2859 - accuracy: 0.9122\n",
            "Epoch 4/50\n",
            "934/934 [==============================] - 4s 5ms/step - loss: 0.2860 - accuracy: 0.9102\n",
            "Epoch 5/50\n",
            "934/934 [==============================] - 5s 6ms/step - loss: 0.2818 - accuracy: 0.9117\n",
            "Epoch 6/50\n",
            "934/934 [==============================] - 6s 6ms/step - loss: 0.2806 - accuracy: 0.9115\n",
            "Epoch 7/50\n",
            "934/934 [==============================] - 6s 6ms/step - loss: 0.2779 - accuracy: 0.9110\n",
            "Epoch 8/50\n",
            "934/934 [==============================] - 6s 6ms/step - loss: 0.2745 - accuracy: 0.9111\n",
            "Epoch 9/50\n",
            "934/934 [==============================] - 5s 6ms/step - loss: 0.2709 - accuracy: 0.9118\n",
            "Epoch 10/50\n",
            "934/934 [==============================] - 5s 6ms/step - loss: 0.2698 - accuracy: 0.9106\n",
            "Epoch 11/50\n",
            "934/934 [==============================] - 5s 6ms/step - loss: 0.2645 - accuracy: 0.9119\n",
            "Epoch 12/50\n",
            "934/934 [==============================] - 5s 5ms/step - loss: 0.2608 - accuracy: 0.9128\n",
            "Epoch 13/50\n",
            "934/934 [==============================] - 6s 6ms/step - loss: 0.2579 - accuracy: 0.9124\n",
            "Epoch 14/50\n",
            "934/934 [==============================] - 5s 5ms/step - loss: 0.2508 - accuracy: 0.9148\n",
            "Epoch 15/50\n",
            "934/934 [==============================] - 6s 6ms/step - loss: 0.2492 - accuracy: 0.9144\n",
            "Epoch 16/50\n",
            "934/934 [==============================] - 6s 6ms/step - loss: 0.2431 - accuracy: 0.9159\n",
            "Epoch 17/50\n",
            "934/934 [==============================] - 6s 6ms/step - loss: 0.2431 - accuracy: 0.9157\n",
            "Epoch 18/50\n",
            "934/934 [==============================] - 6s 6ms/step - loss: 0.2353 - accuracy: 0.9177\n",
            "Epoch 19/50\n",
            "934/934 [==============================] - 6s 6ms/step - loss: 0.2316 - accuracy: 0.9185\n",
            "Epoch 20/50\n",
            "934/934 [==============================] - 6s 6ms/step - loss: 0.2302 - accuracy: 0.9171\n",
            "Epoch 21/50\n",
            "934/934 [==============================] - 6s 6ms/step - loss: 0.2247 - accuracy: 0.9203\n",
            "Epoch 22/50\n",
            "934/934 [==============================] - 6s 6ms/step - loss: 0.2224 - accuracy: 0.9207\n",
            "Epoch 23/50\n",
            "934/934 [==============================] - 6s 6ms/step - loss: 0.2193 - accuracy: 0.9217\n",
            "Epoch 24/50\n",
            "934/934 [==============================] - 6s 6ms/step - loss: 0.2134 - accuracy: 0.9235\n",
            "Epoch 25/50\n",
            "934/934 [==============================] - 6s 6ms/step - loss: 0.2112 - accuracy: 0.9238\n",
            "Epoch 26/50\n",
            "934/934 [==============================] - 6s 6ms/step - loss: 0.2077 - accuracy: 0.9243\n",
            "Epoch 27/50\n",
            "934/934 [==============================] - 5s 6ms/step - loss: 0.2043 - accuracy: 0.9252\n",
            "Epoch 28/50\n",
            "934/934 [==============================] - 5s 5ms/step - loss: 0.2015 - accuracy: 0.9260\n",
            "Epoch 29/50\n",
            "934/934 [==============================] - 6s 6ms/step - loss: 0.1994 - accuracy: 0.9263\n",
            "Epoch 30/50\n",
            "934/934 [==============================] - 6s 6ms/step - loss: 0.1937 - accuracy: 0.9290\n",
            "Epoch 31/50\n",
            "934/934 [==============================] - 4s 5ms/step - loss: 0.1908 - accuracy: 0.9298\n",
            "Epoch 32/50\n",
            "934/934 [==============================] - 4s 4ms/step - loss: 0.1906 - accuracy: 0.9289\n",
            "Epoch 33/50\n",
            "934/934 [==============================] - 4s 5ms/step - loss: 0.1872 - accuracy: 0.9306\n",
            "Epoch 34/50\n",
            "934/934 [==============================] - 6s 6ms/step - loss: 0.1840 - accuracy: 0.9317\n",
            "Epoch 35/50\n",
            "934/934 [==============================] - 6s 6ms/step - loss: 0.1807 - accuracy: 0.9335\n",
            "Epoch 36/50\n",
            "934/934 [==============================] - 6s 6ms/step - loss: 0.1762 - accuracy: 0.9342\n",
            "Epoch 37/50\n",
            "934/934 [==============================] - 6s 6ms/step - loss: 0.1741 - accuracy: 0.9353\n",
            "Epoch 38/50\n",
            "934/934 [==============================] - 6s 6ms/step - loss: 0.1741 - accuracy: 0.9351\n",
            "Epoch 39/50\n",
            "934/934 [==============================] - 5s 5ms/step - loss: 0.1729 - accuracy: 0.9352\n",
            "Epoch 40/50\n",
            "934/934 [==============================] - 4s 5ms/step - loss: 0.1669 - accuracy: 0.9375\n",
            "Epoch 41/50\n",
            "934/934 [==============================] - 4s 4ms/step - loss: 0.1657 - accuracy: 0.9376\n",
            "Epoch 42/50\n",
            "934/934 [==============================] - 5s 5ms/step - loss: 0.1644 - accuracy: 0.9384\n",
            "Epoch 43/50\n",
            "934/934 [==============================] - 6s 6ms/step - loss: 0.1621 - accuracy: 0.9389\n",
            "Epoch 44/50\n",
            "934/934 [==============================] - 6s 6ms/step - loss: 0.1578 - accuracy: 0.9409\n",
            "Epoch 45/50\n",
            "934/934 [==============================] - 6s 6ms/step - loss: 0.1575 - accuracy: 0.9412\n",
            "Epoch 46/50\n",
            "934/934 [==============================] - 5s 5ms/step - loss: 0.1568 - accuracy: 0.9410\n",
            "Epoch 47/50\n",
            "934/934 [==============================] - 4s 5ms/step - loss: 0.1517 - accuracy: 0.9433\n",
            "Epoch 48/50\n",
            "934/934 [==============================] - 4s 5ms/step - loss: 0.1478 - accuracy: 0.9447\n",
            "Epoch 49/50\n",
            "934/934 [==============================] - 4s 4ms/step - loss: 0.1522 - accuracy: 0.9429\n",
            "Epoch 50/50\n",
            "934/934 [==============================] - 4s 5ms/step - loss: 0.1488 - accuracy: 0.9425\n"
          ],
          "name": "stdout"
        },
        {
          "output_type": "display_data",
          "data": {
            "image/png": "[encoded data removed]",
            "text/plain": [
              "<Figure size 432x288 with 2 Axes>"
            ]
          },
          "metadata": {
            "tags": [],
            "needs_background": "light"
          }
        }
      ]
    },
    {
      "cell_type": "code",
      "metadata": {
        "id": "e6MrrzjqY3Cc"
      },
      "source": [
        "y_pred = model.predict(df_test['review_clean'])"
      ],
      "execution_count": 70,
      "outputs": []
    },
    {
      "cell_type": "code",
      "metadata": {
        "id": "yUaWCS3xr-Cb"
      },
      "source": [
        "y_pred = (y_pred > 0.5) "
      ],
      "execution_count": 72,
      "outputs": []
    },
    {
      "cell_type": "code",
      "metadata": {
        "id": "MfmLjro3bEh7",
        "outputId": "8b853042-bd05-4202-f25d-c51fd1868e68",
        "colab": {
          "base_uri": "https://localhost:8080/"
        }
      },
      "source": [
        "print(accuracy_score(y_test,y_pred))"
      ],
      "execution_count": 73,
      "outputs": [
        {
          "output_type": "stream",
          "text": [
            "0.921740004018485\n"
          ],
          "name": "stdout"
        }
      ]
    },
    {
      "cell_type": "markdown",
      "metadata": {
        "id": "9mJ2-uaQOZc5"
      },
      "source": [
        "# Random Forest"
      ]
    },
    {
      "cell_type": "code",
      "metadata": {
        "id": "SwdtqMmrPac8"
      },
      "source": [
        "from sklearn.ensemble import RandomForestClassifier"
      ],
      "execution_count": null,
      "outputs": []
    },
    {
      "cell_type": "code",
      "metadata": {
        "id": "Wh2r9kjjOdUY"
      },
      "source": [
        "start = time.time()\n",
        "rfc = RandomForestClassifier(n_estimators=150, random_state=42, max_depth = 1000)\n",
        "rfc.fit(df_train_features, df_train['Review_Sentiment'])\n",
        "end = time.time()\n",
        "print(\"Training time: %s\" % str(end-start))\n",
        "\n",
        "# Evaluates model on test set\n",
        "pred = rfc.predict(df_test_features)\n",
        "\n",
        "print(\"Accuracy: %s\" % str(rfc.score(df_test_features, df_test['Review_Sentiment'])))\n"
      ],
      "execution_count": null,
      "outputs": []
    },
    {
      "cell_type": "markdown",
      "metadata": {
        "id": "iQSGN-KSqrIa"
      },
      "source": [
        "# Bayes Classification"
      ]
    },
    {
      "cell_type": "code",
      "metadata": {
        "id": "qobpGM_Tqukk"
      },
      "source": [
        "from sklearn.naive_bayes import MultinomialNB"
      ],
      "execution_count": null,
      "outputs": []
    },
    {
      "cell_type": "code",
      "metadata": {
        "id": "m8vD9maHreMQ"
      },
      "source": [
        "start = time.time()\n",
        "multiNB = MultinomialNB().fit(df_train_features, df_train['Review_Sentiment'])\n",
        "end = time.time()\n",
        "print(\"Training time: %s\" % str(end-start))\n",
        "\n",
        "# Evaluates model on test set\n",
        "pred = multiNB.predict(df_test_features)\n",
        "\n",
        "print(\"Accuracy: %s\" % str(multiNB.score(df_test_features, df_test['Review_Sentiment'])))"
      ],
      "execution_count": null,
      "outputs": []
    }
  ]
}