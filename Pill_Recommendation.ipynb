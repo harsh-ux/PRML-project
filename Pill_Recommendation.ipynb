{
  "nbformat": 4,
  "nbformat_minor": 0,
  "metadata": {
    "colab": {
      "name": "Copy of Pill-Recommendation.ipynb",
      "provenance": [],
      "include_colab_link": true
    },
    "kernelspec": {
      "name": "python3",
      "display_name": "Python 3"
    },
    "language_info": {
      "name": "python"
    },
    "accelerator": "GPU"
  },
  "cells": [
    {
      "cell_type": "markdown",
      "metadata": {
        "id": "view-in-github",
        "colab_type": "text"
      },
      "source": [
        "<a href=\"https://colab.research.google.com/github/gaditi123/PRML-project/blob/main/Pill_Recommendation.ipynb\" target=\"_parent\"><img src=\"https://colab.research.google.com/assets/colab-badge.svg\" alt=\"Open In Colab\"/></a>"
      ]
    },
    {
      "cell_type": "code",
      "metadata": {
        "id": "UQIyDqj0J9ql"
      },
      "source": [
        "import time\n",
        "import pandas as pd\n",
        "import numpy as np\n",
        "import seaborn as sns\n",
        "from matplotlib import pyplot as plt\n",
        "from sklearn.svm import SVC\n",
        "from sklearn.model_selection import train_test_split, StratifiedKFold, cross_val_score\n",
        "from sklearn.pipeline import make_pipeline, Pipeline\n",
        "from sklearn.metrics import classification_report\n",
        "from sklearn.model_selection import GridSearchCV\n",
        "from sklearn.metrics import accuracy_score, f1_score, roc_curve, auc, confusion_matrix, roc_auc_score, recall_score, precision_score"
      ],
      "execution_count": 1,
      "outputs": []
    },
    {
      "cell_type": "code",
      "metadata": {
        "id": "HT8I0ceWXwjt",
        "colab": {
          "base_uri": "https://localhost:8080/"
        },
        "outputId": "e9b9f722-9790-43d0-e93f-a654b38f5aab"
      },
      "source": [
        "from google.colab import drive\n",
        "drive.mount('/content/drive',force_remount=True)\n",
        "train = pd.read_csv('drive/My Drive/drugsComTrain_raw.csv')\n",
        "test = pd.read_csv('drive/My Drive/drugsComTest_raw.csv')\n",
        "# train = pd.read_csv('drive/My Drive/drugsCom_raw/drugsComTrain_raw.csv')\n",
        "# test = pd.read_csv('drive/My Drive/drugsCom_raw/drugsComTest_raw.csv')\n",
        "# getting the shapes\n",
        "print(\"Shape of train :\", train.shape)\n",
        "print(\"Shape of test :\", test.shape)"
      ],
      "execution_count": 3,
      "outputs": [
        {
          "output_type": "stream",
          "text": [
            "Mounted at /content/drive\n",
            "Shape of train : (161297, 7)\n",
            "Shape of test : (53766, 7)\n"
          ],
          "name": "stdout"
        }
      ]
    },
    {
      "cell_type": "code",
      "metadata": {
        "id": "H-KXObLyYE9q",
        "colab": {
          "base_uri": "https://localhost:8080/",
          "height": 195
        },
        "outputId": "df7b3fa7-8c10-4324-f753-79d9847461c7"
      },
      "source": [
        "train.head()"
      ],
      "execution_count": null,
      "outputs": [
        {
          "output_type": "execute_result",
          "data": {
            "text/html": [
              "<div>\n",
              "<style scoped>\n",
              "    .dataframe tbody tr th:only-of-type {\n",
              "        vertical-align: middle;\n",
              "    }\n",
              "\n",
              "    .dataframe tbody tr th {\n",
              "        vertical-align: top;\n",
              "    }\n",
              "\n",
              "    .dataframe thead th {\n",
              "        text-align: right;\n",
              "    }\n",
              "</style>\n",
              "<table border=\"1\" class=\"dataframe\">\n",
              "  <thead>\n",
              "    <tr style=\"text-align: right;\">\n",
              "      <th></th>\n",
              "      <th>uniqueID</th>\n",
              "      <th>drugName</th>\n",
              "      <th>condition</th>\n",
              "      <th>review</th>\n",
              "      <th>rating</th>\n",
              "      <th>date</th>\n",
              "      <th>usefulCount</th>\n",
              "    </tr>\n",
              "  </thead>\n",
              "  <tbody>\n",
              "    <tr>\n",
              "      <th>0</th>\n",
              "      <td>206461</td>\n",
              "      <td>Valsartan</td>\n",
              "      <td>Left Ventricular Dysfunction</td>\n",
              "      <td>\"It has no side effect, I take it in combinati...</td>\n",
              "      <td>9</td>\n",
              "      <td>20-May-12</td>\n",
              "      <td>27</td>\n",
              "    </tr>\n",
              "    <tr>\n",
              "      <th>1</th>\n",
              "      <td>95260</td>\n",
              "      <td>Guanfacine</td>\n",
              "      <td>ADHD</td>\n",
              "      <td>\"My son is halfway through his fourth week of ...</td>\n",
              "      <td>8</td>\n",
              "      <td>27-Apr-10</td>\n",
              "      <td>192</td>\n",
              "    </tr>\n",
              "    <tr>\n",
              "      <th>2</th>\n",
              "      <td>92703</td>\n",
              "      <td>Lybrel</td>\n",
              "      <td>Birth Control</td>\n",
              "      <td>\"I used to take another oral contraceptive, wh...</td>\n",
              "      <td>5</td>\n",
              "      <td>14-Dec-09</td>\n",
              "      <td>17</td>\n",
              "    </tr>\n",
              "    <tr>\n",
              "      <th>3</th>\n",
              "      <td>138000</td>\n",
              "      <td>Ortho Evra</td>\n",
              "      <td>Birth Control</td>\n",
              "      <td>\"This is my first time using any form of birth...</td>\n",
              "      <td>8</td>\n",
              "      <td>3-Nov-15</td>\n",
              "      <td>10</td>\n",
              "    </tr>\n",
              "    <tr>\n",
              "      <th>4</th>\n",
              "      <td>35696</td>\n",
              "      <td>Buprenorphine / naloxone</td>\n",
              "      <td>Opiate Dependence</td>\n",
              "      <td>\"Suboxone has completely turned my life around...</td>\n",
              "      <td>9</td>\n",
              "      <td>27-Nov-16</td>\n",
              "      <td>37</td>\n",
              "    </tr>\n",
              "  </tbody>\n",
              "</table>\n",
              "</div>"
            ],
            "text/plain": [
              "   uniqueID                  drugName  ...       date usefulCount\n",
              "0    206461                 Valsartan  ...  20-May-12          27\n",
              "1     95260                Guanfacine  ...  27-Apr-10         192\n",
              "2     92703                    Lybrel  ...  14-Dec-09          17\n",
              "3    138000                Ortho Evra  ...   3-Nov-15          10\n",
              "4     35696  Buprenorphine / naloxone  ...  27-Nov-16          37\n",
              "\n",
              "[5 rows x 7 columns]"
            ]
          },
          "metadata": {
            "tags": []
          },
          "execution_count": 3
        }
      ]
    },
    {
      "cell_type": "code",
      "metadata": {
        "colab": {
          "base_uri": "https://localhost:8080/",
          "height": 195
        },
        "id": "DKpAg1evaL5T",
        "outputId": "945f216f-796e-455a-8325-4c2f797bf69c"
      },
      "source": [
        "test.head()"
      ],
      "execution_count": null,
      "outputs": [
        {
          "output_type": "execute_result",
          "data": {
            "text/html": [
              "<div>\n",
              "<style scoped>\n",
              "    .dataframe tbody tr th:only-of-type {\n",
              "        vertical-align: middle;\n",
              "    }\n",
              "\n",
              "    .dataframe tbody tr th {\n",
              "        vertical-align: top;\n",
              "    }\n",
              "\n",
              "    .dataframe thead th {\n",
              "        text-align: right;\n",
              "    }\n",
              "</style>\n",
              "<table border=\"1\" class=\"dataframe\">\n",
              "  <thead>\n",
              "    <tr style=\"text-align: right;\">\n",
              "      <th></th>\n",
              "      <th>uniqueID</th>\n",
              "      <th>drugName</th>\n",
              "      <th>condition</th>\n",
              "      <th>review</th>\n",
              "      <th>rating</th>\n",
              "      <th>date</th>\n",
              "      <th>usefulCount</th>\n",
              "    </tr>\n",
              "  </thead>\n",
              "  <tbody>\n",
              "    <tr>\n",
              "      <th>0</th>\n",
              "      <td>163740</td>\n",
              "      <td>Mirtazapine</td>\n",
              "      <td>Depression</td>\n",
              "      <td>\"I&amp;#039;ve tried a few antidepressants over th...</td>\n",
              "      <td>10</td>\n",
              "      <td>28-Feb-12</td>\n",
              "      <td>22</td>\n",
              "    </tr>\n",
              "    <tr>\n",
              "      <th>1</th>\n",
              "      <td>206473</td>\n",
              "      <td>Mesalamine</td>\n",
              "      <td>Crohn's Disease, Maintenance</td>\n",
              "      <td>\"My son has Crohn&amp;#039;s disease and has done ...</td>\n",
              "      <td>8</td>\n",
              "      <td>17-May-09</td>\n",
              "      <td>17</td>\n",
              "    </tr>\n",
              "    <tr>\n",
              "      <th>2</th>\n",
              "      <td>159672</td>\n",
              "      <td>Bactrim</td>\n",
              "      <td>Urinary Tract Infection</td>\n",
              "      <td>\"Quick reduction of symptoms\"</td>\n",
              "      <td>9</td>\n",
              "      <td>29-Sep-17</td>\n",
              "      <td>3</td>\n",
              "    </tr>\n",
              "    <tr>\n",
              "      <th>3</th>\n",
              "      <td>39293</td>\n",
              "      <td>Contrave</td>\n",
              "      <td>Weight Loss</td>\n",
              "      <td>\"Contrave combines drugs that were used for al...</td>\n",
              "      <td>9</td>\n",
              "      <td>5-Mar-17</td>\n",
              "      <td>35</td>\n",
              "    </tr>\n",
              "    <tr>\n",
              "      <th>4</th>\n",
              "      <td>97768</td>\n",
              "      <td>Cyclafem 1 / 35</td>\n",
              "      <td>Birth Control</td>\n",
              "      <td>\"I have been on this birth control for one cyc...</td>\n",
              "      <td>9</td>\n",
              "      <td>22-Oct-15</td>\n",
              "      <td>4</td>\n",
              "    </tr>\n",
              "  </tbody>\n",
              "</table>\n",
              "</div>"
            ],
            "text/plain": [
              "   uniqueID         drugName  ...       date usefulCount\n",
              "0    163740      Mirtazapine  ...  28-Feb-12          22\n",
              "1    206473       Mesalamine  ...  17-May-09          17\n",
              "2    159672          Bactrim  ...  29-Sep-17           3\n",
              "3     39293         Contrave  ...   5-Mar-17          35\n",
              "4     97768  Cyclafem 1 / 35  ...  22-Oct-15           4\n",
              "\n",
              "[5 rows x 7 columns]"
            ]
          },
          "metadata": {
            "tags": []
          },
          "execution_count": 4
        }
      ]
    },
    {
      "cell_type": "markdown",
      "metadata": {
        "id": "Fa53J8pXQZR3"
      },
      "source": [
        "# Preprocessing"
      ]
    },
    {
      "cell_type": "code",
      "metadata": {
        "colab": {
          "base_uri": "https://localhost:8080/"
        },
        "id": "z0R27T0waVC8",
        "outputId": "97d5b2a8-4bbe-4163-c607-9b403529dc6d"
      },
      "source": [
        "# as both the dataset contains same columns we can combine them for better analysis\n",
        "data = pd.concat([train, test])\n",
        "\n",
        "# checking the shape\n",
        "data.shape"
      ],
      "execution_count": 4,
      "outputs": [
        {
          "output_type": "execute_result",
          "data": {
            "text/plain": [
              "(215063, 7)"
            ]
          },
          "metadata": {
            "tags": []
          },
          "execution_count": 4
        }
      ]
    },
    {
      "cell_type": "code",
      "metadata": {
        "colab": {
          "base_uri": "https://localhost:8080/",
          "height": 0
        },
        "id": "DlwHUNp7aYWH",
        "outputId": "73172c37-2275-4f57-e92b-81ab5520a268"
      },
      "source": [
        "data.describe()"
      ],
      "execution_count": 5,
      "outputs": [
        {
          "output_type": "execute_result",
          "data": {
            "text/html": [
              "<div>\n",
              "<style scoped>\n",
              "    .dataframe tbody tr th:only-of-type {\n",
              "        vertical-align: middle;\n",
              "    }\n",
              "\n",
              "    .dataframe tbody tr th {\n",
              "        vertical-align: top;\n",
              "    }\n",
              "\n",
              "    .dataframe thead th {\n",
              "        text-align: right;\n",
              "    }\n",
              "</style>\n",
              "<table border=\"1\" class=\"dataframe\">\n",
              "  <thead>\n",
              "    <tr style=\"text-align: right;\">\n",
              "      <th></th>\n",
              "      <th>uniqueID</th>\n",
              "      <th>rating</th>\n",
              "      <th>usefulCount</th>\n",
              "    </tr>\n",
              "  </thead>\n",
              "  <tbody>\n",
              "    <tr>\n",
              "      <th>count</th>\n",
              "      <td>215063.000000</td>\n",
              "      <td>215063.000000</td>\n",
              "      <td>215063.000000</td>\n",
              "    </tr>\n",
              "    <tr>\n",
              "      <th>mean</th>\n",
              "      <td>116039.364814</td>\n",
              "      <td>6.990008</td>\n",
              "      <td>28.001004</td>\n",
              "    </tr>\n",
              "    <tr>\n",
              "      <th>std</th>\n",
              "      <td>67007.913366</td>\n",
              "      <td>3.275554</td>\n",
              "      <td>36.346069</td>\n",
              "    </tr>\n",
              "    <tr>\n",
              "      <th>min</th>\n",
              "      <td>0.000000</td>\n",
              "      <td>1.000000</td>\n",
              "      <td>0.000000</td>\n",
              "    </tr>\n",
              "    <tr>\n",
              "      <th>25%</th>\n",
              "      <td>58115.500000</td>\n",
              "      <td>5.000000</td>\n",
              "      <td>6.000000</td>\n",
              "    </tr>\n",
              "    <tr>\n",
              "      <th>50%</th>\n",
              "      <td>115867.000000</td>\n",
              "      <td>8.000000</td>\n",
              "      <td>16.000000</td>\n",
              "    </tr>\n",
              "    <tr>\n",
              "      <th>75%</th>\n",
              "      <td>173963.500000</td>\n",
              "      <td>10.000000</td>\n",
              "      <td>36.000000</td>\n",
              "    </tr>\n",
              "    <tr>\n",
              "      <th>max</th>\n",
              "      <td>232291.000000</td>\n",
              "      <td>10.000000</td>\n",
              "      <td>1291.000000</td>\n",
              "    </tr>\n",
              "  </tbody>\n",
              "</table>\n",
              "</div>"
            ],
            "text/plain": [
              "            uniqueID         rating    usefulCount\n",
              "count  215063.000000  215063.000000  215063.000000\n",
              "mean   116039.364814       6.990008      28.001004\n",
              "std     67007.913366       3.275554      36.346069\n",
              "min         0.000000       1.000000       0.000000\n",
              "25%     58115.500000       5.000000       6.000000\n",
              "50%    115867.000000       8.000000      16.000000\n",
              "75%    173963.500000      10.000000      36.000000\n",
              "max    232291.000000      10.000000    1291.000000"
            ]
          },
          "metadata": {
            "tags": []
          },
          "execution_count": 5
        }
      ]
    },
    {
      "cell_type": "code",
      "metadata": {
        "colab": {
          "base_uri": "https://localhost:8080/"
        },
        "id": "Sut-6SlkagTE",
        "outputId": "470d3c7a-ce6e-47e0-b6c0-e0aaa68a9bda"
      },
      "source": [
        "data.info()"
      ],
      "execution_count": 6,
      "outputs": [
        {
          "output_type": "stream",
          "text": [
            "<class 'pandas.core.frame.DataFrame'>\n",
            "Int64Index: 215063 entries, 0 to 53765\n",
            "Data columns (total 7 columns):\n",
            " #   Column       Non-Null Count   Dtype \n",
            "---  ------       --------------   ----- \n",
            " 0   uniqueID     215063 non-null  int64 \n",
            " 1   drugName     215063 non-null  object\n",
            " 2   condition    213869 non-null  object\n",
            " 3   review       215063 non-null  object\n",
            " 4   rating       215063 non-null  int64 \n",
            " 5   date         215063 non-null  object\n",
            " 6   usefulCount  215063 non-null  int64 \n",
            "dtypes: int64(3), object(4)\n",
            "memory usage: 13.1+ MB\n"
          ],
          "name": "stdout"
        }
      ]
    },
    {
      "cell_type": "markdown",
      "metadata": {
        "id": "-JjG_Jlml-zM"
      },
      "source": [
        "Extracting year,month and day from the date column"
      ]
    },
    {
      "cell_type": "code",
      "metadata": {
        "id": "OdDWY8OYbnCY"
      },
      "source": [
        "# converting the date into datetime format\n",
        "data['date'] = pd.to_datetime(data['date'], errors = 'coerce')\n",
        "\n",
        "# now extracting year from date\n",
        "data['Year'] = data['date'].dt.year\n",
        "\n",
        "# extracting the month from the date\n",
        "data['month'] = data['date'].dt.month\n",
        "\n",
        "# extracting the days from the date\n",
        "data['day'] = data['date'].dt.day"
      ],
      "execution_count": 7,
      "outputs": []
    },
    {
      "cell_type": "markdown",
      "metadata": {
        "id": "5wI66HLlaqe0"
      },
      "source": [
        "Check for null values"
      ]
    },
    {
      "cell_type": "code",
      "metadata": {
        "colab": {
          "base_uri": "https://localhost:8080/"
        },
        "id": "-pzoIy09aoFV",
        "outputId": "aaa119af-9f5b-41c9-996f-25fd2b633ed5"
      },
      "source": [
        "data.isnull().any()"
      ],
      "execution_count": 8,
      "outputs": [
        {
          "output_type": "execute_result",
          "data": {
            "text/plain": [
              "uniqueID       False\n",
              "drugName       False\n",
              "condition       True\n",
              "review         False\n",
              "rating         False\n",
              "date           False\n",
              "usefulCount    False\n",
              "Year           False\n",
              "month          False\n",
              "day            False\n",
              "dtype: bool"
            ]
          },
          "metadata": {
            "tags": []
          },
          "execution_count": 8
        }
      ]
    },
    {
      "cell_type": "markdown",
      "metadata": {
        "id": "iwGS7Yhpbwmn"
      },
      "source": [
        "Add review sentiment column which acts as target variable. It gives a (good,bad)-(1,0) value based on rating of the drug"
      ]
    },
    {
      "cell_type": "code",
      "metadata": {
        "colab": {
          "base_uri": "https://localhost:8080/"
        },
        "id": "N-s4FDirbboO",
        "outputId": "17d7dfa4-9085-476d-c386-2be2e0114a10"
      },
      "source": [
        "# feature engineering \n",
        "# let's make a new column review sentiment \n",
        "\n",
        "data.loc[(data['rating'] >= 7), 'Review_Sentiment'] = 2\n",
        "data.loc[(data['rating']== 5), 'Review_Sentiment'] = 1\n",
        "data.loc[(data['rating']== 6), 'Review_Sentiment'] = 1\n",
        "data.loc[(data['rating']<5), 'Review_Sentiment'] = 0\n",
        "data['Review_Sentiment'].value_counts()"
      ],
      "execution_count": 9,
      "outputs": [
        {
          "output_type": "execute_result",
          "data": {
            "text/plain": [
              "2.0    142306\n",
              "0.0     53572\n",
              "1.0     19185\n",
              "Name: Review_Sentiment, dtype: int64"
            ]
          },
          "metadata": {
            "tags": []
          },
          "execution_count": 9
        }
      ]
    },
    {
      "cell_type": "code",
      "metadata": {
        "colab": {
          "base_uri": "https://localhost:8080/"
        },
        "id": "JAWr-Wp0a6LS",
        "outputId": "b9717aef-1a3a-4c9b-fd42-55eb2739c0c4"
      },
      "source": [
        "data['condition'].isnull().sum()"
      ],
      "execution_count": 10,
      "outputs": [
        {
          "output_type": "execute_result",
          "data": {
            "text/plain": [
              "1194"
            ]
          },
          "metadata": {
            "tags": []
          },
          "execution_count": 10
        }
      ]
    },
    {
      "cell_type": "code",
      "metadata": {
        "colab": {
          "base_uri": "https://localhost:8080/"
        },
        "id": "cz-1dTzKa9JP",
        "outputId": "ca185664-7abf-4593-851d-390e5e5de4a6"
      },
      "source": [
        "# we will delete the rows so that the data does not overfits \n",
        "\n",
        "data = data.dropna(axis = 0)\n",
        "\n",
        "# checking the new shape of the data\n",
        "data.shape"
      ],
      "execution_count": 11,
      "outputs": [
        {
          "output_type": "execute_result",
          "data": {
            "text/plain": [
              "(213869, 11)"
            ]
          },
          "metadata": {
            "tags": []
          },
          "execution_count": 11
        }
      ]
    },
    {
      "cell_type": "code",
      "metadata": {
        "colab": {
          "base_uri": "https://localhost:8080/"
        },
        "id": "XKDGZDYxcPNo",
        "outputId": "24762330-6632-4759-83a3-15bfc2b2de0e"
      },
      "source": [
        "# importing the important libraries \n",
        "\n",
        "import re\n",
        "from bs4 import BeautifulSoup\n",
        "import nltk\n",
        "nltk.download('stopwords')\n",
        "from nltk.corpus import stopwords\n",
        "from nltk.stem.snowball import SnowballStemmer\n",
        "from nltk.stem.porter import PorterStemmer"
      ],
      "execution_count": 12,
      "outputs": [
        {
          "output_type": "stream",
          "text": [
            "[nltk_data] Downloading package stopwords to /root/nltk_data...\n",
            "[nltk_data]   Unzipping corpora/stopwords.zip.\n"
          ],
          "name": "stdout"
        }
      ]
    },
    {
      "cell_type": "code",
      "metadata": {
        "id": "H-927tAecSS-"
      },
      "source": [
        "# removing some stopwords from the list of stopwords as they are important for drug recommendation\n",
        "\n",
        "stops = set(stopwords.words('english'))\n",
        "\n",
        "not_stop = [\"aren't\",\"couldn't\",\"didn't\",\"doesn't\",\"don't\",\"hadn't\",\"hasn't\",\"haven't\",\"isn't\",\"mightn't\",\n",
        "            \"mustn't\",\"needn't\",\"no\",\"nor\",\"not\",\"shan't\",\"shouldn't\",\"wasn't\",\"weren't\",\"wouldn't\"]\n",
        "for i in not_stop:\n",
        "    stops.remove(i)"
      ],
      "execution_count": 13,
      "outputs": []
    },
    {
      "cell_type": "code",
      "metadata": {
        "colab": {
          "base_uri": "https://localhost:8080/"
        },
        "id": "OketBEXTcm-2",
        "outputId": "926f724d-478f-42ac-de34-cef93e3b44f6"
      },
      "source": [
        "data.columns"
      ],
      "execution_count": 14,
      "outputs": [
        {
          "output_type": "execute_result",
          "data": {
            "text/plain": [
              "Index(['uniqueID', 'drugName', 'condition', 'review', 'rating', 'date',\n",
              "       'usefulCount', 'Year', 'month', 'day', 'Review_Sentiment'],\n",
              "      dtype='object')"
            ]
          },
          "metadata": {
            "tags": []
          },
          "execution_count": 14
        }
      ]
    },
    {
      "cell_type": "code",
      "metadata": {
        "colab": {
          "base_uri": "https://localhost:8080/",
          "height": 0
        },
        "id": "oxuSrIqgcp31",
        "outputId": "b4709ab9-0cb3-45d9-b3b0-aff02af8fed6"
      },
      "source": [
        "df_condition = data.groupby(['condition'])['drugName'].nunique().sort_values(ascending=False)\n",
        "df_condition = pd.DataFrame(df_condition).reset_index()\n",
        "df_condition.tail(20)"
      ],
      "execution_count": 15,
      "outputs": [
        {
          "output_type": "execute_result",
          "data": {
            "text/html": [
              "<div>\n",
              "<style scoped>\n",
              "    .dataframe tbody tr th:only-of-type {\n",
              "        vertical-align: middle;\n",
              "    }\n",
              "\n",
              "    .dataframe tbody tr th {\n",
              "        vertical-align: top;\n",
              "    }\n",
              "\n",
              "    .dataframe thead th {\n",
              "        text-align: right;\n",
              "    }\n",
              "</style>\n",
              "<table border=\"1\" class=\"dataframe\">\n",
              "  <thead>\n",
              "    <tr style=\"text-align: right;\">\n",
              "      <th></th>\n",
              "      <th>condition</th>\n",
              "      <th>drugName</th>\n",
              "    </tr>\n",
              "  </thead>\n",
              "  <tbody>\n",
              "    <tr>\n",
              "      <th>896</th>\n",
              "      <td>Short Stature</td>\n",
              "      <td>1</td>\n",
              "    </tr>\n",
              "    <tr>\n",
              "      <th>897</th>\n",
              "      <td>Hemangioma</td>\n",
              "      <td>1</td>\n",
              "    </tr>\n",
              "    <tr>\n",
              "      <th>898</th>\n",
              "      <td>Short Stature for Age</td>\n",
              "      <td>1</td>\n",
              "    </tr>\n",
              "    <tr>\n",
              "      <th>899</th>\n",
              "      <td>Sleep Paralysis</td>\n",
              "      <td>1</td>\n",
              "    </tr>\n",
              "    <tr>\n",
              "      <th>900</th>\n",
              "      <td>Gestational Diabetes</td>\n",
              "      <td>1</td>\n",
              "    </tr>\n",
              "    <tr>\n",
              "      <th>901</th>\n",
              "      <td>Gastric Cance</td>\n",
              "      <td>1</td>\n",
              "    </tr>\n",
              "    <tr>\n",
              "      <th>902</th>\n",
              "      <td>Gallbladder Disease</td>\n",
              "      <td>1</td>\n",
              "    </tr>\n",
              "    <tr>\n",
              "      <th>903</th>\n",
              "      <td>Dermatitis Herpetiformis</td>\n",
              "      <td>1</td>\n",
              "    </tr>\n",
              "    <tr>\n",
              "      <th>904</th>\n",
              "      <td>Somatoform Pain Disorde</td>\n",
              "      <td>1</td>\n",
              "    </tr>\n",
              "    <tr>\n",
              "      <th>905</th>\n",
              "      <td>Esophageal Variceal Hemorrhage Prophylaxis</td>\n",
              "      <td>1</td>\n",
              "    </tr>\n",
              "    <tr>\n",
              "      <th>906</th>\n",
              "      <td>Esophageal Spasm</td>\n",
              "      <td>1</td>\n",
              "    </tr>\n",
              "    <tr>\n",
              "      <th>907</th>\n",
              "      <td>Sporotrichosis</td>\n",
              "      <td>1</td>\n",
              "    </tr>\n",
              "    <tr>\n",
              "      <th>908</th>\n",
              "      <td>Epididymitis, Sexually Transmitted</td>\n",
              "      <td>1</td>\n",
              "    </tr>\n",
              "    <tr>\n",
              "      <th>909</th>\n",
              "      <td>Pertussis</td>\n",
              "      <td>1</td>\n",
              "    </tr>\n",
              "    <tr>\n",
              "      <th>910</th>\n",
              "      <td>Ehrlichiosis</td>\n",
              "      <td>1</td>\n",
              "    </tr>\n",
              "    <tr>\n",
              "      <th>911</th>\n",
              "      <td>Steroid Responsive Inflammatory Conditions</td>\n",
              "      <td>1</td>\n",
              "    </tr>\n",
              "    <tr>\n",
              "      <th>912</th>\n",
              "      <td>Ectopic Pregnancy</td>\n",
              "      <td>1</td>\n",
              "    </tr>\n",
              "    <tr>\n",
              "      <th>913</th>\n",
              "      <td>Diagnostic Bronchograms</td>\n",
              "      <td>1</td>\n",
              "    </tr>\n",
              "    <tr>\n",
              "      <th>914</th>\n",
              "      <td>Systemic Candidiasis</td>\n",
              "      <td>1</td>\n",
              "    </tr>\n",
              "    <tr>\n",
              "      <th>915</th>\n",
              "      <td>Epicondylitis, Tennis Elbow</td>\n",
              "      <td>1</td>\n",
              "    </tr>\n",
              "  </tbody>\n",
              "</table>\n",
              "</div>"
            ],
            "text/plain": [
              "                                      condition  drugName\n",
              "896                               Short Stature         1\n",
              "897                                  Hemangioma         1\n",
              "898                       Short Stature for Age         1\n",
              "899                             Sleep Paralysis         1\n",
              "900                        Gestational Diabetes         1\n",
              "901                               Gastric Cance         1\n",
              "902                         Gallbladder Disease         1\n",
              "903                    Dermatitis Herpetiformis         1\n",
              "904                     Somatoform Pain Disorde         1\n",
              "905  Esophageal Variceal Hemorrhage Prophylaxis         1\n",
              "906                            Esophageal Spasm         1\n",
              "907                              Sporotrichosis         1\n",
              "908          Epididymitis, Sexually Transmitted         1\n",
              "909                                   Pertussis         1\n",
              "910                                Ehrlichiosis         1\n",
              "911  Steroid Responsive Inflammatory Conditions         1\n",
              "912                           Ectopic Pregnancy         1\n",
              "913                     Diagnostic Bronchograms         1\n",
              "914                        Systemic Candidiasis         1\n",
              "915                 Epicondylitis, Tennis Elbow         1"
            ]
          },
          "metadata": {
            "tags": []
          },
          "execution_count": 15
        }
      ]
    },
    {
      "cell_type": "markdown",
      "metadata": {
        "id": "pflJ6Q65c7pV"
      },
      "source": [
        "Removing medical conditions which have only one drug associated with it in the dataset"
      ]
    },
    {
      "cell_type": "code",
      "metadata": {
        "id": "mvkCOuhNc03T"
      },
      "source": [
        "# setting a df with conditions with only one drug\n",
        "df_condition_1 = df_condition[df_condition['drugName'] == 1].reset_index()\n",
        "\n",
        "all_list = set(data.index)\n",
        "\n",
        "# deleting them\n",
        "condition_list = []\n",
        "for i,j in enumerate(data['condition']):\n",
        "    for c in list(df_condition_1['condition']):\n",
        "        if j == c:\n",
        "            condition_list.append(i)\n",
        "            \n",
        "new_idx = all_list.difference(set(condition_list))\n",
        "data = data.iloc[list(new_idx)].reset_index()\n",
        "del data['index']"
      ],
      "execution_count": 16,
      "outputs": []
    },
    {
      "cell_type": "markdown",
      "metadata": {
        "id": "JAgoNQ4IdHSZ"
      },
      "source": [
        "removing the conditions with the word \"\\span\" in it.\n"
      ]
    },
    {
      "cell_type": "code",
      "metadata": {
        "id": "y6FCE4DRdDdF"
      },
      "source": [
        "all_list = set(data.index)\n",
        "span_list = []\n",
        "for i,j in enumerate(data['condition']):\n",
        "    if '</span>' in j:\n",
        "        span_list.append(i)\n",
        "new_idx = all_list.difference(set(span_list))\n",
        "data = data.iloc[list(new_idx)].reset_index()\n",
        "del data['index']"
      ],
      "execution_count": 17,
      "outputs": []
    },
    {
      "cell_type": "code",
      "metadata": {
        "colab": {
          "base_uri": "https://localhost:8080/"
        },
        "id": "BcePLbJ9dJEB",
        "outputId": "2edf8bf2-8f93-4d4c-a34f-eea067aaf446"
      },
      "source": [
        "data.shape"
      ],
      "execution_count": 18,
      "outputs": [
        {
          "output_type": "execute_result",
          "data": {
            "text/plain": [
              "(159332, 11)"
            ]
          },
          "metadata": {
            "tags": []
          },
          "execution_count": 18
        }
      ]
    },
    {
      "cell_type": "markdown",
      "metadata": {
        "id": "m2zxwNQDdhyv"
      },
      "source": [
        "# Applying data cleanup with -\n",
        "\n",
        "\n",
        "1.   Removing HTML tags\n",
        "2.   Removing non letters\n",
        "3.   Convert all to lower case\n",
        "4.   Remove stopwords\n",
        "5.   Apply stemming\n",
        "\n"
      ]
    },
    {
      "cell_type": "code",
      "metadata": {
        "id": "7CMWLiGBdO7L"
      },
      "source": [
        "stemmer = SnowballStemmer('english')\n",
        "\n",
        "def review_to_words(raw_review):\n",
        "    # 1. Delete HTML \n",
        "    review_text = BeautifulSoup(raw_review, 'html.parser').get_text()\n",
        "    # 2. Make a space\n",
        "    letters_only = re.sub('[^a-zA-Z]', ' ', review_text)\n",
        "    # 3. lower letters\n",
        "    words = letters_only.lower().split()\n",
        "    # 4. Stopwords \n",
        "    meaningful_words = [w for w in words if not w in stops]\n",
        "    # 5. Stemming\n",
        "    stemming_words = [stemmer.stem(w) for w in meaningful_words]\n",
        "    # 6. space join words\n",
        "    return( ' '.join(stemming_words))"
      ],
      "execution_count": 19,
      "outputs": []
    },
    {
      "cell_type": "code",
      "metadata": {
        "colab": {
          "base_uri": "https://localhost:8080/"
        },
        "id": "RxvlgxTcdS87",
        "outputId": "b1e1e3ff-12ae-49c9-8600-e752a28316fa"
      },
      "source": [
        "%time data['review_clean'] = data['review'].apply(review_to_words)"
      ],
      "execution_count": 20,
      "outputs": [
        {
          "output_type": "stream",
          "text": [
            "CPU times: user 2min 1s, sys: 714 ms, total: 2min 2s\n",
            "Wall time: 2min 2s\n"
          ],
          "name": "stdout"
        }
      ]
    },
    {
      "cell_type": "markdown",
      "metadata": {
        "id": "A-SVWIpfeRxw"
      },
      "source": [
        "Using the entire data as for test and train instead of the original breakup since all have same columns"
      ]
    },
    {
      "cell_type": "code",
      "metadata": {
        "colab": {
          "base_uri": "https://localhost:8080/"
        },
        "id": "NBibZHsDeQny",
        "outputId": "b72439eb-3333-43c6-c252-d06846255378"
      },
      "source": [
        "df_train, df_test = train_test_split(data, test_size = 0.25, random_state = 0)\n",
        "\n",
        "# checking the shape \n",
        "print(\"Shape of train:\", df_train.shape)\n",
        "print(\"Shape of test: \", df_test.shape)"
      ],
      "execution_count": 21,
      "outputs": [
        {
          "output_type": "stream",
          "text": [
            "Shape of train: (119499, 12)\n",
            "Shape of test:  (39833, 12)\n"
          ],
          "name": "stdout"
        }
      ]
    },
    {
      "cell_type": "markdown",
      "metadata": {
        "id": "i2yw7Yi-ed-1"
      },
      "source": [
        "Making a bag of words using CountVectorise"
      ]
    },
    {
      "cell_type": "code",
      "metadata": {
        "colab": {
          "base_uri": "https://localhost:8080/"
        },
        "id": "88W6oNE8ear6",
        "outputId": "143b0a97-4b9e-4cec-aa9a-03dbcdc68f63"
      },
      "source": [
        "from sklearn.feature_extraction.text import CountVectorizer\n",
        "from sklearn.pipeline import Pipeline\n",
        "\n",
        "cv = CountVectorizer(max_features = 5000, lowercase=True, binary=True)\n",
        "# cv = CountVectorizer()\n",
        "pipeline = Pipeline([('vect',cv)])\n",
        "\n",
        "# df_train_features = pipeline.fit_transform(df_train['review_clean'])\n",
        "# df_train_features = cv.fit_transform(df_train['review_clean']).toarray()\n",
        "df_train_features = cv.fit_transform(df_train['review_clean'])\n",
        "df_test_features = pipeline.fit_transform(df_test['review_clean'])\n",
        "\n",
        "print(\"Performing Bag of Words - CountVectorise\\n\")\n",
        "print(\"df_train_features :\", df_train_features.shape)\n",
        "print(\"df_test_features :\", df_test_features.shape)"
      ],
      "execution_count": 22,
      "outputs": [
        {
          "output_type": "stream",
          "text": [
            "Performing Bag of Words - CountVectorise\n",
            "\n",
            "df_train_features : (119499, 5000)\n",
            "df_test_features : (39833, 5000)\n"
          ],
          "name": "stdout"
        }
      ]
    },
    {
      "cell_type": "code",
      "metadata": {
        "id": "L0X8GKjVV409"
      },
      "source": [
        "df_train_features = df_train_features.toarray()"
      ],
      "execution_count": 23,
      "outputs": []
    },
    {
      "cell_type": "code",
      "metadata": {
        "id": "k-SwzcUVGTaa"
      },
      "source": [
        "y_train = df_train['Review_Sentiment']\n",
        "y_test = df_test['Review_Sentiment']"
      ],
      "execution_count": 24,
      "outputs": []
    },
    {
      "cell_type": "code",
      "metadata": {
        "id": "vPaQvibKpo2H"
      },
      "source": [
        "from keras.utils import to_categorical\n",
        "y_train = to_categorical(y_train)\n",
        "y_test = to_categorical(y_test)"
      ],
      "execution_count": 25,
      "outputs": []
    },
    {
      "cell_type": "code",
      "metadata": {
        "id": "3M5LgBWUYTp5",
        "colab": {
          "base_uri": "https://localhost:8080/"
        },
        "outputId": "f5602827-997e-4937-d8c7-3e81cfaab048"
      },
      "source": [
        "y_test.shape"
      ],
      "execution_count": 26,
      "outputs": [
        {
          "output_type": "execute_result",
          "data": {
            "text/plain": [
              "(39833, 3)"
            ]
          },
          "metadata": {
            "tags": []
          },
          "execution_count": 26
        }
      ]
    },
    {
      "cell_type": "markdown",
      "metadata": {
        "id": "oVwmckn1GM3E"
      },
      "source": [
        "# SVM"
      ]
    },
    {
      "cell_type": "code",
      "metadata": {
        "id": "2AIqLbZcx9iZ"
      },
      "source": [
        "svmClassifier = SVC(kernel=\"linear\", class_weight=\"balanced\", C=0.003)\n",
        "t0 = time.time()\n",
        "\n",
        "svmClassifier.fit(df_train_features, y_train)\n",
        "t1 = time.time()\n",
        "\n",
        "svmPredictions = svmClassifier.predict(df_test_features)\n",
        "t2 = time.time()\n",
        "\n",
        "time_linear_train = t1-t0\n",
        "time_linear_predict = t2-t1\n",
        "\n",
        "# results\n",
        "print(\"Training time: %fs; Prediction time: %fs\" % (time_linear_train, time_linear_predict))\n",
        "report = classification_report(y_test, svmPredictions, output_dict=True)\n",
        "print('0.0: ', report['0.0'])\n",
        "print('1.0: ', report['1.0'])\n",
        "print('accuracy: ', report['accuracy'])\n",
        "print('macro avg: ', report['macro avg'])\n",
        "print('weighted avg: ', report['weighted avg'])"
      ],
      "execution_count": null,
      "outputs": []
    },
    {
      "cell_type": "markdown",
      "metadata": {
        "id": "v34AhANzRQqP"
      },
      "source": [
        "# Deep Learning Model"
      ]
    },
    {
      "cell_type": "code",
      "metadata": {
        "id": "o8mLA_0AOZTy"
      },
      "source": [
        "# import keras \n",
        "# from keras.models import Sequential, Model\n",
        "# from keras.layers import Dense, Input\n",
        "# from keras.layers import Activation\n",
        "# from keras.layers import Dropout\n",
        "# from keras.layers import Bidirectional\n",
        "# from keras.layers import BatchNormalization\n",
        "# from keras.layers import LSTM\n",
        "# from keras.preprocessing.sequence import pad_sequences"
      ],
      "execution_count": null,
      "outputs": []
    },
    {
      "cell_type": "code",
      "metadata": {
        "id": "NpNwaDDlWM9U"
      },
      "source": [
        "# making our dependent variable\n",
        "solution = y_test.copy()\n",
        "\n",
        "# Model Structure\n",
        "model = Sequential()\n",
        "model.add(Input(shape=(df_train_features.shape[1],)))\n",
        "model.add(Dense(200))\n",
        "model.add(BatchNormalization())\n",
        "model.add(Activation('relu'))\n",
        "model.add(Dropout(0.5))\n",
        "\n",
        "model.add(Dense(300))\n",
        "model.add(BatchNormalization())\n",
        "model.add(Activation('relu'))\n",
        "model.add(Dropout(0.5))\n",
        "\n",
        "model.add(Dense(100, activation = 'relu'))\n",
        "model.add(Dense(1, activation = 'sigmoid'))\n",
        "\n",
        "#  Model compile\n",
        "model.compile(optimizer='adam', loss='binary_crossentropy', metrics=['accuracy'])\n",
        "# inputs = Input(shape=(df_train_features.shape[1],), sparse=True)\n",
        "# L1 = (Dense(200))(inputs)\n",
        "# L1_N = (BatchNormalization())(L1)\n",
        "# L1_Act = (Activation('relu'))(L1_N)\n",
        "# L1_Drop = (Dropout(0.5))(L1_Act)\n",
        "# L2 = (Dense(200))(L1_Drop)\n",
        "# L2_N = (BatchNormalization())(L2)\n",
        "# L2_Act = (Activation('relu'))(L2_N)\n",
        "# L2_Drop = Dropout(0.5)(L2_Act)\n",
        "# L3 = (Dense(100, activation = 'relu'))(L2_Drop)\n",
        "# outputs = (Dense(1, activation = 'sigmoid'))(L3)\n",
        "# model = Model(inputs=inputs, outputs=outputs)\n",
        "# model.compile(loss='categorical_crossentropy', optimizer='adam', metrics=['accuracy'])"
      ],
      "execution_count": null,
      "outputs": []
    },
    {
      "cell_type": "code",
      "metadata": {
        "id": "mxulRqO4WSkc"
      },
      "source": [
        "model.summary()"
      ],
      "execution_count": null,
      "outputs": []
    },
    {
      "cell_type": "code",
      "metadata": {
        "id": "px_jGO3wpGSW"
      },
      "source": [
        "print(df_train_features)"
      ],
      "execution_count": null,
      "outputs": []
    },
    {
      "cell_type": "code",
      "metadata": {
        "id": "Ed5xLKccpTTd"
      },
      "source": [
        "df_train['review_clean']"
      ],
      "execution_count": null,
      "outputs": []
    },
    {
      "cell_type": "code",
      "metadata": {
        "id": "HLEuRnMQFH6O"
      },
      "source": [
        "def batch_generator(X, y, batch_size):\n",
        "    number_of_batches = X.shape[0]/batch_size\n",
        "    counter=0\n",
        "    shuffle_index = np.arange(np.shape(y)[0])\n",
        "    np.random.shuffle(shuffle_index)\n",
        "    X =  X[shuffle_index, :]\n",
        "    y =  y[shuffle_index]\n",
        "    while 1:\n",
        "        index_batch = shuffle_index[batch_size*counter:batch_size*(counter+1)]\n",
        "        X_batch = X[index_batch,:].todense()\n",
        "        y_batch = y[index_batch]\n",
        "        counter += 1\n",
        "        yield(np.array(X_batch),y_batch)\n",
        "        if (counter < number_of_batches):\n",
        "            np.random.shuffle(shuffle_index)\n",
        "            counter=0"
      ],
      "execution_count": null,
      "outputs": []
    },
    {
      "cell_type": "code",
      "metadata": {
        "id": "WH0_OaMvWYcv"
      },
      "source": [
        "# 4. Train model\n",
        "hist = model.fit(df_train_features, y_train, epochs=10, batch_size=64)\n",
        "# steps = 10\n",
        "# for i in range(steps):\n",
        "#   print(model.train_on_batch(df_train_features, y_train, ))\n",
        "# print(model.metrics_names)\n",
        "# batch_size = 64\n",
        "# nb_epoch = 5\n",
        "# model.fit_generator(generator=batch_generator(df_train_features, y_train, batch_size),\n",
        "#                     epochs=nb_epoch)\n",
        "# 5. Traing process\n",
        "%matplotlib inline\n",
        "import matplotlib.pyplot as plt\n",
        "\n",
        "fig, loss_ax = plt.subplots()\n",
        "\n",
        "acc_ax = loss_ax.twinx()\n",
        "\n",
        "loss_ax.set_ylim([0.0, 1.0])\n",
        "acc_ax.set_ylim([0.0, 1.0])\n",
        "\n",
        "loss_ax.plot(hist.history['loss'], 'y', label='train loss')\n",
        "acc_ax.plot(hist.history['accuracy'], 'b', label='train acc')\n",
        "\n",
        "loss_ax.set_xlabel('epoch')\n",
        "loss_ax.set_ylabel('loss')\n",
        "acc_ax.set_ylabel('accuray')\n",
        "\n",
        "loss_ax.legend(loc='upper left')\n",
        "acc_ax.legend(loc='lower left')\n",
        "\n",
        "plt.show()"
      ],
      "execution_count": null,
      "outputs": []
    },
    {
      "cell_type": "code",
      "metadata": {
        "id": "MprW-EeDcyxh"
      },
      "source": [
        "y_pred = model.predict(df_test_features.toarray())"
      ],
      "execution_count": null,
      "outputs": []
    },
    {
      "cell_type": "code",
      "metadata": {
        "id": "Gpr32NziczPX"
      },
      "source": [
        "print(accuracy_score(y_test, y_pred))"
      ],
      "execution_count": null,
      "outputs": []
    },
    {
      "cell_type": "markdown",
      "metadata": {
        "id": "FIw3W3SGTu2C"
      },
      "source": [
        "# Deep Learning Model 2"
      ]
    },
    {
      "cell_type": "code",
      "metadata": {
        "id": "MqDQ-O1mTx6b",
        "colab": {
          "base_uri": "https://localhost:8080/",
          "height": 1000
        },
        "outputId": "4a1d9214-4140-44b1-8f01-a430f3420a5b"
      },
      "source": [
        "from keras.models import Sequential\n",
        "from keras.layers import Dense, LSTM, Embedding, Dropout\n",
        "from sklearn.feature_extraction.text import CountVectorizer, TfidfVectorizer\n",
        "from nltk.corpus import stopwords\n",
        "from keras.utils import to_categorical\n",
        "from gensim.models import Word2Vec\n",
        "from nltk.cluster import KMeansClusterer\n",
        "import nltk\n",
        "import tensorflow_hub as hub\n",
        "import tensorflow as tf\n",
        "from numpy.random import seed\n",
        "hub_layer = hub.KerasLayer(\"https://tfhub.dev/google/tf2-preview/nnlm-en-dim128/1\", output_shape=[50], \n",
        "                           input_shape=[], dtype=tf.string, name='input', trainable=False)\n",
        "np.random.seed(1)\n",
        "model = Sequential()\n",
        "model.add(hub_layer)\n",
        "model.add(Dense(units=1024, activation='relu', input_dim=df_train_features.shape[1]))\n",
        "model.add(Dropout(0.5))\n",
        "model.add(Dense(units=2, activation='softmax', name='output'))\n",
        "\n",
        "model.compile(loss='categorical_crossentropy', optimizer='adam', metrics=['accuracy'])\n",
        "model.summary()\n",
        "hist = model.fit(df_train['review_clean'], y_train, epochs=50, batch_size=128)\n",
        "\n",
        "%matplotlib inline\n",
        "import matplotlib.pyplot as plt\n",
        "\n",
        "fig, loss_ax = plt.subplots()\n",
        "\n",
        "acc_ax = loss_ax.twinx()\n",
        "\n",
        "loss_ax.set_ylim([0.0, 1.0])\n",
        "acc_ax.set_ylim([0.0, 1.0])\n",
        "\n",
        "loss_ax.plot(hist.history['loss'], 'y', label='train loss')\n",
        "acc_ax.plot(hist.history['accuracy'], 'b', label='train acc')\n",
        "\n",
        "loss_ax.set_xlabel('epoch')\n",
        "loss_ax.set_ylabel('loss')\n",
        "acc_ax.set_ylabel('accuray')\n",
        "\n",
        "loss_ax.legend(loc='upper left')\n",
        "acc_ax.legend(loc='lower left')\n",
        "\n",
        "plt.show()"
      ],
      "execution_count": null,
      "outputs": [
        {
          "output_type": "stream",
          "text": [
            "WARNING:tensorflow:11 out of the last 11 calls to <function recreate_function.<locals>.restored_function_body at 0x7f54fa4ac4d0> triggered tf.function retracing. Tracing is expensive and the excessive number of tracings could be due to (1) creating @tf.function repeatedly in a loop, (2) passing tensors with different shapes, (3) passing Python objects instead of tensors. For (1), please define your @tf.function outside of the loop. For (2), @tf.function has experimental_relax_shapes=True option that relaxes argument shapes that can avoid unnecessary retracing. For (3), please refer to https://www.tensorflow.org/guide/function#controlling_retracing and https://www.tensorflow.org/api_docs/python/tf/function for  more details.\n"
          ],
          "name": "stdout"
        },
        {
          "output_type": "stream",
          "text": [
            "WARNING:tensorflow:11 out of the last 11 calls to <function recreate_function.<locals>.restored_function_body at 0x7f54fa4ac4d0> triggered tf.function retracing. Tracing is expensive and the excessive number of tracings could be due to (1) creating @tf.function repeatedly in a loop, (2) passing tensors with different shapes, (3) passing Python objects instead of tensors. For (1), please define your @tf.function outside of the loop. For (2), @tf.function has experimental_relax_shapes=True option that relaxes argument shapes that can avoid unnecessary retracing. For (3), please refer to https://www.tensorflow.org/guide/function#controlling_retracing and https://www.tensorflow.org/api_docs/python/tf/function for  more details.\n"
          ],
          "name": "stderr"
        },
        {
          "output_type": "stream",
          "text": [
            "WARNING:tensorflow:11 out of the last 11 calls to <function recreate_function.<locals>.restored_function_body at 0x7f54fa4b24d0> triggered tf.function retracing. Tracing is expensive and the excessive number of tracings could be due to (1) creating @tf.function repeatedly in a loop, (2) passing tensors with different shapes, (3) passing Python objects instead of tensors. For (1), please define your @tf.function outside of the loop. For (2), @tf.function has experimental_relax_shapes=True option that relaxes argument shapes that can avoid unnecessary retracing. For (3), please refer to https://www.tensorflow.org/guide/function#controlling_retracing and https://www.tensorflow.org/api_docs/python/tf/function for  more details.\n"
          ],
          "name": "stdout"
        },
        {
          "output_type": "stream",
          "text": [
            "WARNING:tensorflow:11 out of the last 11 calls to <function recreate_function.<locals>.restored_function_body at 0x7f54fa4b24d0> triggered tf.function retracing. Tracing is expensive and the excessive number of tracings could be due to (1) creating @tf.function repeatedly in a loop, (2) passing tensors with different shapes, (3) passing Python objects instead of tensors. For (1), please define your @tf.function outside of the loop. For (2), @tf.function has experimental_relax_shapes=True option that relaxes argument shapes that can avoid unnecessary retracing. For (3), please refer to https://www.tensorflow.org/guide/function#controlling_retracing and https://www.tensorflow.org/api_docs/python/tf/function for  more details.\n"
          ],
          "name": "stderr"
        },
        {
          "output_type": "stream",
          "text": [
            "Model: \"sequential_9\"\n",
            "_________________________________________________________________\n",
            "Layer (type)                 Output Shape              Param #   \n",
            "=================================================================\n",
            "input (KerasLayer)           (None, 128)               124642688 \n",
            "_________________________________________________________________\n",
            "dense_12 (Dense)             (None, 1024)              132096    \n",
            "_________________________________________________________________\n",
            "dropout_9 (Dropout)          (None, 1024)              0         \n",
            "_________________________________________________________________\n",
            "output (Dense)               (None, 2)                 2050      \n",
            "=================================================================\n",
            "Total params: 124,776,834\n",
            "Trainable params: 134,146\n",
            "Non-trainable params: 124,642,688\n",
            "_________________________________________________________________\n",
            "Epoch 1/50\n",
            "934/934 [==============================] - 5s 5ms/step - loss: 0.3126 - accuracy: 0.9070\n",
            "Epoch 2/50\n",
            "934/934 [==============================] - 6s 6ms/step - loss: 0.2875 - accuracy: 0.9123\n",
            "Epoch 3/50\n",
            "934/934 [==============================] - 6s 6ms/step - loss: 0.2859 - accuracy: 0.9122\n",
            "Epoch 4/50\n",
            "934/934 [==============================] - 4s 5ms/step - loss: 0.2860 - accuracy: 0.9102\n",
            "Epoch 5/50\n",
            "934/934 [==============================] - 5s 6ms/step - loss: 0.2818 - accuracy: 0.9117\n",
            "Epoch 6/50\n",
            "934/934 [==============================] - 6s 6ms/step - loss: 0.2806 - accuracy: 0.9115\n",
            "Epoch 7/50\n",
            "934/934 [==============================] - 6s 6ms/step - loss: 0.2779 - accuracy: 0.9110\n",
            "Epoch 8/50\n",
            "934/934 [==============================] - 6s 6ms/step - loss: 0.2745 - accuracy: 0.9111\n",
            "Epoch 9/50\n",
            "934/934 [==============================] - 5s 6ms/step - loss: 0.2709 - accuracy: 0.9118\n",
            "Epoch 10/50\n",
            "934/934 [==============================] - 5s 6ms/step - loss: 0.2698 - accuracy: 0.9106\n",
            "Epoch 11/50\n",
            "934/934 [==============================] - 5s 6ms/step - loss: 0.2645 - accuracy: 0.9119\n",
            "Epoch 12/50\n",
            "934/934 [==============================] - 5s 5ms/step - loss: 0.2608 - accuracy: 0.9128\n",
            "Epoch 13/50\n",
            "934/934 [==============================] - 6s 6ms/step - loss: 0.2579 - accuracy: 0.9124\n",
            "Epoch 14/50\n",
            "934/934 [==============================] - 5s 5ms/step - loss: 0.2508 - accuracy: 0.9148\n",
            "Epoch 15/50\n",
            "934/934 [==============================] - 6s 6ms/step - loss: 0.2492 - accuracy: 0.9144\n",
            "Epoch 16/50\n",
            "934/934 [==============================] - 6s 6ms/step - loss: 0.2431 - accuracy: 0.9159\n",
            "Epoch 17/50\n",
            "934/934 [==============================] - 6s 6ms/step - loss: 0.2431 - accuracy: 0.9157\n",
            "Epoch 18/50\n",
            "934/934 [==============================] - 6s 6ms/step - loss: 0.2353 - accuracy: 0.9177\n",
            "Epoch 19/50\n",
            "934/934 [==============================] - 6s 6ms/step - loss: 0.2316 - accuracy: 0.9185\n",
            "Epoch 20/50\n",
            "934/934 [==============================] - 6s 6ms/step - loss: 0.2302 - accuracy: 0.9171\n",
            "Epoch 21/50\n",
            "934/934 [==============================] - 6s 6ms/step - loss: 0.2247 - accuracy: 0.9203\n",
            "Epoch 22/50\n",
            "934/934 [==============================] - 6s 6ms/step - loss: 0.2224 - accuracy: 0.9207\n",
            "Epoch 23/50\n",
            "934/934 [==============================] - 6s 6ms/step - loss: 0.2193 - accuracy: 0.9217\n",
            "Epoch 24/50\n",
            "934/934 [==============================] - 6s 6ms/step - loss: 0.2134 - accuracy: 0.9235\n",
            "Epoch 25/50\n",
            "934/934 [==============================] - 6s 6ms/step - loss: 0.2112 - accuracy: 0.9238\n",
            "Epoch 26/50\n",
            "934/934 [==============================] - 6s 6ms/step - loss: 0.2077 - accuracy: 0.9243\n",
            "Epoch 27/50\n",
            "934/934 [==============================] - 5s 6ms/step - loss: 0.2043 - accuracy: 0.9252\n",
            "Epoch 28/50\n",
            "934/934 [==============================] - 5s 5ms/step - loss: 0.2015 - accuracy: 0.9260\n",
            "Epoch 29/50\n",
            "934/934 [==============================] - 6s 6ms/step - loss: 0.1994 - accuracy: 0.9263\n",
            "Epoch 30/50\n",
            "934/934 [==============================] - 6s 6ms/step - loss: 0.1937 - accuracy: 0.9290\n",
            "Epoch 31/50\n",
            "934/934 [==============================] - 4s 5ms/step - loss: 0.1908 - accuracy: 0.9298\n",
            "Epoch 32/50\n",
            "934/934 [==============================] - 4s 4ms/step - loss: 0.1906 - accuracy: 0.9289\n",
            "Epoch 33/50\n",
            "934/934 [==============================] - 4s 5ms/step - loss: 0.1872 - accuracy: 0.9306\n",
            "Epoch 34/50\n",
            "934/934 [==============================] - 6s 6ms/step - loss: 0.1840 - accuracy: 0.9317\n",
            "Epoch 35/50\n",
            "934/934 [==============================] - 6s 6ms/step - loss: 0.1807 - accuracy: 0.9335\n",
            "Epoch 36/50\n",
            "934/934 [==============================] - 6s 6ms/step - loss: 0.1762 - accuracy: 0.9342\n",
            "Epoch 37/50\n",
            "934/934 [==============================] - 6s 6ms/step - loss: 0.1741 - accuracy: 0.9353\n",
            "Epoch 38/50\n",
            "934/934 [==============================] - 6s 6ms/step - loss: 0.1741 - accuracy: 0.9351\n",
            "Epoch 39/50\n",
            "934/934 [==============================] - 5s 5ms/step - loss: 0.1729 - accuracy: 0.9352\n",
            "Epoch 40/50\n",
            "934/934 [==============================] - 4s 5ms/step - loss: 0.1669 - accuracy: 0.9375\n",
            "Epoch 41/50\n",
            "934/934 [==============================] - 4s 4ms/step - loss: 0.1657 - accuracy: 0.9376\n",
            "Epoch 42/50\n",
            "934/934 [==============================] - 5s 5ms/step - loss: 0.1644 - accuracy: 0.9384\n",
            "Epoch 43/50\n",
            "934/934 [==============================] - 6s 6ms/step - loss: 0.1621 - accuracy: 0.9389\n",
            "Epoch 44/50\n",
            "934/934 [==============================] - 6s 6ms/step - loss: 0.1578 - accuracy: 0.9409\n",
            "Epoch 45/50\n",
            "934/934 [==============================] - 6s 6ms/step - loss: 0.1575 - accuracy: 0.9412\n",
            "Epoch 46/50\n",
            "934/934 [==============================] - 5s 5ms/step - loss: 0.1568 - accuracy: 0.9410\n",
            "Epoch 47/50\n",
            "934/934 [==============================] - 4s 5ms/step - loss: 0.1517 - accuracy: 0.9433\n",
            "Epoch 48/50\n",
            "934/934 [==============================] - 4s 5ms/step - loss: 0.1478 - accuracy: 0.9447\n",
            "Epoch 49/50\n",
            "934/934 [==============================] - 4s 4ms/step - loss: 0.1522 - accuracy: 0.9429\n",
            "Epoch 50/50\n",
            "934/934 [==============================] - 4s 5ms/step - loss: 0.1488 - accuracy: 0.9425\n"
          ],
          "name": "stdout"
        },
        {
          "output_type": "display_data",
          "data": {
            "image/png": "[encoded data removed]",
            "text/plain": [
              "<Figure size 432x288 with 2 Axes>"
            ]
          },
          "metadata": {
            "tags": [],
            "needs_background": "light"
          }
        }
      ]
    },
    {
      "cell_type": "code",
      "metadata": {
        "id": "e6MrrzjqY3Cc"
      },
      "source": [
        "y_pred = model.predict(df_test['review_clean'])"
      ],
      "execution_count": null,
      "outputs": []
    },
    {
      "cell_type": "code",
      "metadata": {
        "id": "yUaWCS3xr-Cb"
      },
      "source": [
        "y_pred = (y_pred > 0.5) "
      ],
      "execution_count": null,
      "outputs": []
    },
    {
      "cell_type": "code",
      "metadata": {
        "id": "MfmLjro3bEh7",
        "colab": {
          "base_uri": "https://localhost:8080/"
        },
        "outputId": "8b853042-bd05-4202-f25d-c51fd1868e68"
      },
      "source": [
        "print(accuracy_score(y_test,y_pred))"
      ],
      "execution_count": null,
      "outputs": [
        {
          "output_type": "stream",
          "text": [
            "0.921740004018485\n"
          ],
          "name": "stdout"
        }
      ]
    },
    {
      "cell_type": "markdown",
      "metadata": {
        "id": "9mJ2-uaQOZc5"
      },
      "source": [
        "# Random Forest"
      ]
    },
    {
      "cell_type": "code",
      "metadata": {
        "id": "SwdtqMmrPac8"
      },
      "source": [
        "from sklearn.ensemble import RandomForestClassifier"
      ],
      "execution_count": null,
      "outputs": []
    },
    {
      "cell_type": "code",
      "metadata": {
        "id": "Wh2r9kjjOdUY"
      },
      "source": [
        "start = time.time()\n",
        "rfc = RandomForestClassifier(n_estimators=150, random_state=42, max_depth = 1000)\n",
        "rfc.fit(df_train_features, df_train['Review_Sentiment'])\n",
        "end = time.time()\n",
        "print(\"Training time: %s\" % str(end-start))\n",
        "\n",
        "# Evaluates model on test set\n",
        "pred = rfc.predict(df_test_features)\n",
        "\n",
        "print(\"Accuracy: %s\" % str(rfc.score(df_test_features, df_test['Review_Sentiment'])))\n"
      ],
      "execution_count": null,
      "outputs": []
    },
    {
      "cell_type": "markdown",
      "metadata": {
        "id": "iQSGN-KSqrIa"
      },
      "source": [
        "# Bayes Classification"
      ]
    },
    {
      "cell_type": "code",
      "metadata": {
        "id": "qobpGM_Tqukk"
      },
      "source": [
        "from sklearn.naive_bayes import MultinomialNB"
      ],
      "execution_count": null,
      "outputs": []
    },
    {
      "cell_type": "code",
      "metadata": {
        "id": "m8vD9maHreMQ"
      },
      "source": [
        "start = time.time()\n",
        "multiNB = MultinomialNB().fit(df_train_features, df_train['Review_Sentiment'])\n",
        "end = time.time()\n",
        "print(\"Training time: %s\" % str(end-start))\n",
        "\n",
        "# Evaluates model on test set\n",
        "pred = multiNB.predict(df_test_features)\n",
        "\n",
        "print(\"Accuracy: %s\" % str(multiNB.score(df_test_features, df_test['Review_Sentiment'])))"
      ],
      "execution_count": null,
      "outputs": []
    },
    {
      "cell_type": "markdown",
      "metadata": {
        "id": "ft2IhNOYGe3b"
      },
      "source": [
        "# Using LGMB Classifier\n",
        "\n",
        "Under this section the following has been implemented -\n",
        "\n",
        "\n",
        "1.   LGBM classifier trained on X = useful_count . Remarks - Just useful_count does not help in giving good predictions. Accuracy of 66.201% \n",
        "2.   Implemented sentiment prediction via TextBlob on cleaned/processed reviews. *Remarks* - It gives low correaltion with rating and review_sentiment. It should show strong correlation.\n",
        "3. Implemented sentiment prediction via TextBlob on raw/unprocessed reviews. *Remarks* - It gives better correlation with rating and review_sentiment as compared to processed reviews.\n",
        "4. Implemented feature engineering and calculated various nuances of the data for exploration to see what importance/effect they have on the predictions.\n",
        "5. Trained LGBM classifer on the new columns(not using the review column) made using feature engineering to predict the review sentiment. *Remarks* - We see that the data obtained is a good representation of the revies column itself. It gives a high accuracy of 79.235%\n",
        "6. Found the feature importance of the newly made features.\n"
      ]
    },
    {
      "cell_type": "code",
      "metadata": {
        "id": "HDjl0RI1GkYv",
        "outputId": "3db03a44-bc61-498f-d70f-6a2dfed264cd",
        "colab": {
          "base_uri": "https://localhost:8080/"
        }
      },
      "source": [
        "from sklearn.metrics import roc_auc_score, precision_recall_curve, roc_curve, average_precision_score\n",
        "from sklearn.model_selection import KFold\n",
        "from lightgbm import LGBMClassifier\n",
        "from sklearn.metrics import confusion_matrix\n",
        "\n",
        "#folds = KFold(n_splits=5, shuffle=True, random_state=546789)\n",
        "target = df_train['Review_Sentiment']\n",
        "feats = ['usefulCount']\n",
        "\n",
        "sub_preds = np.zeros(df_test.shape[0])\n",
        "\n",
        "trn_x, val_x, trn_y, val_y = train_test_split(df_train[feats], target, test_size=0.2, random_state=42) \n",
        "feature_importance_df = pd.DataFrame() \n",
        "    \n",
        "clf = LGBMClassifier(\n",
        "        n_estimators=2000,\n",
        "        learning_rate=0.05,\n",
        "        num_leaves=30,\n",
        "        #colsample_bytree=.9,\n",
        "        subsample=.9,\n",
        "        max_depth=7,\n",
        "        reg_alpha=.1,\n",
        "        reg_lambda=.1,\n",
        "        min_split_gain=.01,\n",
        "        min_child_weight=2,\n",
        "        silent=-1,\n",
        "        verbose=-1,\n",
        "        )\n",
        "        \n",
        "clf.fit(trn_x, trn_y, \n",
        "        eval_set= [(trn_x, trn_y), (val_x, val_y)], \n",
        "        verbose=100, early_stopping_rounds=100  #30\n",
        "    )\n",
        "\n",
        "sub_preds = clf.predict(df_test[feats])\n",
        "        \n",
        "fold_importance_df = pd.DataFrame()\n",
        "fold_importance_df[\"feature\"] = feats\n",
        "fold_importance_df[\"importance\"] = clf.feature_importances_\n",
        "feature_importance_df = pd.concat([feature_importance_df, fold_importance_df], axis=0)"
      ],
      "execution_count": 41,
      "outputs": [
        {
          "output_type": "stream",
          "text": [
            "Training until validation scores don't improve for 100 rounds.\n",
            "[100]\ttraining's multi_logloss: 0.79064\tvalid_1's multi_logloss: 0.787103\n",
            "[200]\ttraining's multi_logloss: 0.790115\tvalid_1's multi_logloss: 0.787207\n",
            "Early stopping, best iteration is:\n",
            "[104]\ttraining's multi_logloss: 0.7906\tvalid_1's multi_logloss: 0.787093\n"
          ],
          "name": "stdout"
        }
      ]
    },
    {
      "cell_type": "code",
      "metadata": {
        "id": "57dSvBQ8HG8k",
        "outputId": "8e378c64-5fcc-492e-e56c-af250a96d5ba",
        "colab": {
          "base_uri": "https://localhost:8080/"
        }
      },
      "source": [
        "solution = df_test['Review_Sentiment']\n",
        "print(\"Accuracy: %s\" % str(accuracy_score(solution, sub_preds)))\n",
        "print(confusion_matrix(y_pred = sub_preds, y_true = solution))"
      ],
      "execution_count": 43,
      "outputs": [
        {
          "output_type": "stream",
          "text": [
            "Accuracy: 0.6620139080661763\n",
            "[[    0     0  9791]\n",
            " [    0     0  3672]\n",
            " [    0     0 26370]]\n"
          ],
          "name": "stdout"
        }
      ]
    },
    {
      "cell_type": "markdown",
      "metadata": {
        "id": "WjPVBGYeHNof"
      },
      "source": [
        "**TextBlob** - TextBlob is a python library and offers a simple API to access its methods and perform basic NLP tasks. It performs all tasks like stemming, lemming, tokenisation etc. \n",
        "\n",
        "The sentiment function of textblob returns two properties, polarity, and subjectivity.\n",
        "Polarity is float which lies in the range of [-1,1] where 1 means positive statement and -1 means a negative statement. Subjective sentences generally refer to personal opinion, emotion or judgment whereas objective refers to factual information. Subjectivity is also a float which lies in the range of [0,1]."
      ]
    },
    {
      "cell_type": "markdown",
      "metadata": {
        "id": "NUkEJiTMHvPl"
      },
      "source": [
        "**tqdm** - It basically is a loader/progress bar which tells how data has been processed/what is the progress. "
      ]
    },
    {
      "cell_type": "code",
      "metadata": {
        "id": "GRq0eAUpHKzS",
        "outputId": "2dbbb11b-2cca-4ea3-c254-f1f5f424ce2e",
        "colab": {
          "base_uri": "https://localhost:8080/",
          "height": 479
        }
      },
      "source": [
        "from textblob import TextBlob\n",
        "from tqdm import tqdm\n",
        "reviews = data['review_clean']\n",
        "\n",
        "Predict_Sentiment = []\n",
        "for review in tqdm(reviews):\n",
        "    blob = TextBlob(review)\n",
        "    Predict_Sentiment += [blob.sentiment.polarity]\n",
        "data[\"Predict_Sentiment\"] = Predict_Sentiment\n",
        "data.head()"
      ],
      "execution_count": 29,
      "outputs": [
        {
          "output_type": "stream",
          "text": [
            "100%|██████████| 159332/159332 [00:56<00:00, 2798.99it/s]\n"
          ],
          "name": "stderr"
        },
        {
          "output_type": "execute_result",
          "data": {
            "text/html": [
              "<div>\n",
              "<style scoped>\n",
              "    .dataframe tbody tr th:only-of-type {\n",
              "        vertical-align: middle;\n",
              "    }\n",
              "\n",
              "    .dataframe tbody tr th {\n",
              "        vertical-align: top;\n",
              "    }\n",
              "\n",
              "    .dataframe thead th {\n",
              "        text-align: right;\n",
              "    }\n",
              "</style>\n",
              "<table border=\"1\" class=\"dataframe\">\n",
              "  <thead>\n",
              "    <tr style=\"text-align: right;\">\n",
              "      <th></th>\n",
              "      <th>uniqueID</th>\n",
              "      <th>drugName</th>\n",
              "      <th>condition</th>\n",
              "      <th>review</th>\n",
              "      <th>rating</th>\n",
              "      <th>date</th>\n",
              "      <th>usefulCount</th>\n",
              "      <th>Year</th>\n",
              "      <th>month</th>\n",
              "      <th>day</th>\n",
              "      <th>Review_Sentiment</th>\n",
              "      <th>review_clean</th>\n",
              "      <th>Predict_Sentiment</th>\n",
              "    </tr>\n",
              "  </thead>\n",
              "  <tbody>\n",
              "    <tr>\n",
              "      <th>0</th>\n",
              "      <td>206461</td>\n",
              "      <td>Valsartan</td>\n",
              "      <td>Left Ventricular Dysfunction</td>\n",
              "      <td>\"It has no side effect, I take it in combinati...</td>\n",
              "      <td>9</td>\n",
              "      <td>2012-05-20</td>\n",
              "      <td>27</td>\n",
              "      <td>2012</td>\n",
              "      <td>5</td>\n",
              "      <td>20</td>\n",
              "      <td>2.0</td>\n",
              "      <td>no side effect take combin bystol mg fish oil</td>\n",
              "      <td>0.000000</td>\n",
              "    </tr>\n",
              "    <tr>\n",
              "      <th>1</th>\n",
              "      <td>95260</td>\n",
              "      <td>Guanfacine</td>\n",
              "      <td>ADHD</td>\n",
              "      <td>\"My son is halfway through his fourth week of ...</td>\n",
              "      <td>8</td>\n",
              "      <td>2010-04-27</td>\n",
              "      <td>192</td>\n",
              "      <td>2010</td>\n",
              "      <td>4</td>\n",
              "      <td>27</td>\n",
              "      <td>2.0</td>\n",
              "      <td>son halfway fourth week intuniv becam concern ...</td>\n",
              "      <td>0.114583</td>\n",
              "    </tr>\n",
              "    <tr>\n",
              "      <th>2</th>\n",
              "      <td>92703</td>\n",
              "      <td>Lybrel</td>\n",
              "      <td>Birth Control</td>\n",
              "      <td>\"I used to take another oral contraceptive, wh...</td>\n",
              "      <td>5</td>\n",
              "      <td>2009-12-14</td>\n",
              "      <td>17</td>\n",
              "      <td>2009</td>\n",
              "      <td>12</td>\n",
              "      <td>14</td>\n",
              "      <td>1.0</td>\n",
              "      <td>use take anoth oral contracept pill cycl happi...</td>\n",
              "      <td>0.105000</td>\n",
              "    </tr>\n",
              "    <tr>\n",
              "      <th>3</th>\n",
              "      <td>138000</td>\n",
              "      <td>Ortho Evra</td>\n",
              "      <td>Birth Control</td>\n",
              "      <td>\"This is my first time using any form of birth...</td>\n",
              "      <td>8</td>\n",
              "      <td>2015-11-03</td>\n",
              "      <td>10</td>\n",
              "      <td>2015</td>\n",
              "      <td>11</td>\n",
              "      <td>3</td>\n",
              "      <td>2.0</td>\n",
              "      <td>first time use form birth control glad went pa...</td>\n",
              "      <td>0.300000</td>\n",
              "    </tr>\n",
              "    <tr>\n",
              "      <th>4</th>\n",
              "      <td>35696</td>\n",
              "      <td>Buprenorphine / naloxone</td>\n",
              "      <td>Opiate Dependence</td>\n",
              "      <td>\"Suboxone has completely turned my life around...</td>\n",
              "      <td>9</td>\n",
              "      <td>2016-11-27</td>\n",
              "      <td>37</td>\n",
              "      <td>2016</td>\n",
              "      <td>11</td>\n",
              "      <td>27</td>\n",
              "      <td>2.0</td>\n",
              "      <td>suboxon complet turn life around feel healthie...</td>\n",
              "      <td>0.147037</td>\n",
              "    </tr>\n",
              "  </tbody>\n",
              "</table>\n",
              "</div>"
            ],
            "text/plain": [
              "   uniqueID  ... Predict_Sentiment\n",
              "0    206461  ...          0.000000\n",
              "1     95260  ...          0.114583\n",
              "2     92703  ...          0.105000\n",
              "3    138000  ...          0.300000\n",
              "4     35696  ...          0.147037\n",
              "\n",
              "[5 rows x 13 columns]"
            ]
          },
          "metadata": {
            "tags": []
          },
          "execution_count": 29
        }
      ]
    },
    {
      "cell_type": "markdown",
      "metadata": {
        "id": "MjnmsNzZH3z2"
      },
      "source": [
        "checking the correlation coef between predict sentiment and rating"
      ]
    },
    {
      "cell_type": "code",
      "metadata": {
        "id": "mnxF1keOHzpQ",
        "outputId": "3216a885-6825-4ee9-91c2-dd83c94a7911",
        "colab": {
          "base_uri": "https://localhost:8080/"
        }
      },
      "source": [
        "np.corrcoef(data[\"Predict_Sentiment\"], data[\"rating\"])"
      ],
      "execution_count": 30,
      "outputs": [
        {
          "output_type": "execute_result",
          "data": {
            "text/plain": [
              "array([[1.        , 0.25713182],\n",
              "       [0.25713182, 1.        ]])"
            ]
          },
          "metadata": {
            "tags": []
          },
          "execution_count": 30
        }
      ]
    },
    {
      "cell_type": "markdown",
      "metadata": {
        "id": "iEVOknSTH7TF"
      },
      "source": [
        "checking the correlation coef between predict sentiment and sentiment"
      ]
    },
    {
      "cell_type": "code",
      "metadata": {
        "id": "DonMfuO4H7xr",
        "outputId": "8824c21d-e3f2-45d8-e357-0c69ea219722",
        "colab": {
          "base_uri": "https://localhost:8080/"
        }
      },
      "source": [
        "np.corrcoef(data[\"Predict_Sentiment\"], data[\"Review_Sentiment\"])"
      ],
      "execution_count": 31,
      "outputs": [
        {
          "output_type": "execute_result",
          "data": {
            "text/plain": [
              "array([[1.        , 0.24306945],\n",
              "       [0.24306945, 1.        ]])"
            ]
          },
          "metadata": {
            "tags": []
          },
          "execution_count": 31
        }
      ]
    },
    {
      "cell_type": "markdown",
      "metadata": {
        "id": "AKF1uAZ0IHuz"
      },
      "source": [
        "Predicting sentiment on raw reviews(reviews without any preprocessing) to check of there is better correalation between the predicted sentiment and ratings and review_sentiment"
      ]
    },
    {
      "cell_type": "code",
      "metadata": {
        "id": "bJwNQ_S8IGLa",
        "outputId": "41f38872-096a-4401-802a-c2037e7b72f4",
        "colab": {
          "base_uri": "https://localhost:8080/"
        }
      },
      "source": [
        "reviews = data['review']\n",
        "\n",
        "Predict_Sentiment = []\n",
        "for review in tqdm(reviews):\n",
        "    blob = TextBlob(review)\n",
        "    Predict_Sentiment += [blob.sentiment.polarity]\n",
        "data[\"Predict_Sentiment2\"] = Predict_Sentiment"
      ],
      "execution_count": 32,
      "outputs": [
        {
          "output_type": "stream",
          "text": [
            "100%|██████████| 159332/159332 [01:52<00:00, 1410.86it/s]\n"
          ],
          "name": "stderr"
        }
      ]
    },
    {
      "cell_type": "code",
      "metadata": {
        "id": "GpdWatflIkUb",
        "outputId": "7b7481ba-6622-4648-805d-0c2b4cfdeaf2",
        "colab": {
          "base_uri": "https://localhost:8080/"
        }
      },
      "source": [
        "np.corrcoef(data[\"Predict_Sentiment2\"], data[\"rating\"])"
      ],
      "execution_count": 33,
      "outputs": [
        {
          "output_type": "execute_result",
          "data": {
            "text/plain": [
              "array([[1.        , 0.34883859],\n",
              "       [0.34883859, 1.        ]])"
            ]
          },
          "metadata": {
            "tags": []
          },
          "execution_count": 33
        }
      ]
    },
    {
      "cell_type": "code",
      "metadata": {
        "id": "6CS655IkInRg",
        "outputId": "66b855a9-91f9-4d04-9570-c061914a05e9",
        "colab": {
          "base_uri": "https://localhost:8080/"
        }
      },
      "source": [
        "np.corrcoef(data[\"Predict_Sentiment2\"], data[\"Review_Sentiment\"])"
      ],
      "execution_count": 34,
      "outputs": [
        {
          "output_type": "execute_result",
          "data": {
            "text/plain": [
              "array([[1.        , 0.32843284],\n",
              "       [0.32843284, 1.        ]])"
            ]
          },
          "metadata": {
            "tags": []
          },
          "execution_count": 34
        }
      ]
    },
    {
      "cell_type": "markdown",
      "metadata": {
        "id": "jKW4_7b4ItPh"
      },
      "source": [
        "Performing feature engineering"
      ]
    },
    {
      "cell_type": "code",
      "metadata": {
        "id": "AwzImxYAIwTQ",
        "outputId": "a4f875b5-77ef-4c6c-f34b-95ce21a4b88b",
        "colab": {
          "base_uri": "https://localhost:8080/"
        }
      },
      "source": [
        "# word count in each unclean comment\n",
        "data['count_sent'] = data[\"review\"].apply(lambda x: len(re.findall(\"\\n\",str(x)))+1)\n",
        "\n",
        "# Word count in each comment:\n",
        "data['count_word'] = data[\"review_clean\"].apply(lambda x: len(str(x).split()))\n",
        "\n",
        "# Unique word count\n",
        "data['count_unique_word'] = data[\"review_clean\"].apply(lambda x: len(set(str(x).split())))\n",
        "\n",
        "# Letter count\n",
        "data['count_letters'] = data[\"review_clean\"].apply(lambda x: len(str(x)))\n",
        "\n",
        "# punctuation count\n",
        "import string\n",
        "data[\"count_punctuations\"] = data[\"review\"].apply(lambda x: len([c for c in str(x) if c in string.punctuation]))\n",
        "\n",
        "# upper case words count\n",
        "data[\"count_words_upper\"] = data[\"review\"].apply(lambda x: len([w for w in str(x).split() if w.isupper()]))\n",
        "\n",
        "# title case words count\n",
        "data[\"count_words_title\"] = data[\"review\"].apply(lambda x: len([w for w in str(x).split() if w.istitle()]))\n",
        "\n",
        "# Number of stopwords\n",
        "data[\"count_stopwords\"] = data[\"review\"].apply(lambda x: len([w for w in str(x).lower().split() if w in stops]))\n",
        "\n",
        "# Average length of the words\n",
        "data[\"mean_word_len\"] = data[\"review_clean\"].apply(lambda x: np.mean([len(w) for w in str(x).split()]))\n",
        "\n",
        "# adding season\n",
        "data['season'] = data[\"month\"].apply(lambda x: 1 if ((x>2) & (x<6)) else(2 if (x>5) & (x<9) else (3 if (x>8) & (x<12) else 4)))"
      ],
      "execution_count": 35,
      "outputs": [
        {
          "output_type": "stream",
          "text": [
            "/usr/local/lib/python3.7/dist-packages/numpy/core/fromnumeric.py:3373: RuntimeWarning: Mean of empty slice.\n",
            "  out=out, **kwargs)\n"
          ],
          "name": "stderr"
        }
      ]
    },
    {
      "cell_type": "code",
      "metadata": {
        "id": "TZDZhQV1JWHE",
        "outputId": "db2508c9-3773-40a2-d9ca-4fffbc5989f0",
        "colab": {
          "base_uri": "https://localhost:8080/"
        }
      },
      "source": [
        "len_train = df_train.shape[0]\n",
        "print(len_train)"
      ],
      "execution_count": 36,
      "outputs": [
        {
          "output_type": "stream",
          "text": [
            "119499\n"
          ],
          "name": "stdout"
        }
      ]
    },
    {
      "cell_type": "code",
      "metadata": {
        "id": "Yvq8FfnAJcDd",
        "outputId": "39ac0b93-f860-4960-82db-a3b596ae0109",
        "colab": {
          "base_uri": "https://localhost:8080/"
        }
      },
      "source": [
        "df_train = data[:len_train]\n",
        "df_test = data[len_train:]\n",
        "\n",
        "df_train.columns"
      ],
      "execution_count": 37,
      "outputs": [
        {
          "output_type": "execute_result",
          "data": {
            "text/plain": [
              "Index(['uniqueID', 'drugName', 'condition', 'review', 'rating', 'date',\n",
              "       'usefulCount', 'Year', 'month', 'day', 'Review_Sentiment',\n",
              "       'review_clean', 'Predict_Sentiment', 'Predict_Sentiment2', 'count_sent',\n",
              "       'count_word', 'count_unique_word', 'count_letters',\n",
              "       'count_punctuations', 'count_words_upper', 'count_words_title',\n",
              "       'count_stopwords', 'mean_word_len', 'season'],\n",
              "      dtype='object')"
            ]
          },
          "metadata": {
            "tags": []
          },
          "execution_count": 37
        }
      ]
    },
    {
      "cell_type": "markdown",
      "metadata": {
        "id": "aiNPE8naJyeK"
      },
      "source": [
        "Training LGBM Classifier on all the features other than the review_clean, to get how all the other features affect the prediction."
      ]
    },
    {
      "cell_type": "code",
      "metadata": {
        "id": "mxqepAiBJu-X",
        "outputId": "973ffdda-6c33-4720-cf8b-71d37aef3b45",
        "colab": {
          "base_uri": "https://localhost:8080/"
        }
      },
      "source": [
        "target = df_train['Review_Sentiment']\n",
        "\n",
        "feats = ['usefulCount','day','Year','month','Predict_Sentiment','Predict_Sentiment2', 'count_sent',\n",
        "          'count_word', 'count_unique_word', 'count_letters', 'count_punctuations',\n",
        "          'count_words_upper', 'count_words_title', 'count_stopwords', 'mean_word_len', 'season']\n",
        "\n",
        "sub_preds = np.zeros(df_test.shape[0])\n",
        "\n",
        "trn_x, val_x, trn_y, val_y = train_test_split(df_train[feats], target, test_size=0.2, random_state=42) \n",
        "feature_importance_df = pd.DataFrame() \n",
        "    \n",
        "clf = LGBMClassifier(\n",
        "        n_estimators=10000,\n",
        "        learning_rate=0.10,\n",
        "        num_leaves=30,\n",
        "        #colsample_bytree=.9,\n",
        "        subsample=.9,\n",
        "        max_depth=7,\n",
        "        reg_alpha=.1,\n",
        "        reg_lambda=.1,\n",
        "        min_split_gain=.01,\n",
        "        min_child_weight=2,\n",
        "        silent=-1,\n",
        "        verbose=-1,\n",
        "        )\n",
        "clf.fit(trn_x, trn_y, \n",
        "        eval_set= [(trn_x, trn_y), (val_x, val_y)], \n",
        "        verbose=100, early_stopping_rounds=100)\n",
        "\n",
        "sub_preds = clf.predict(df_test[feats])\n",
        "        \n",
        "fold_importance_df = pd.DataFrame()\n",
        "fold_importance_df[\"feature\"] = feats\n",
        "fold_importance_df[\"importance\"] = clf.feature_importances_\n",
        "feature_importance_df = pd.concat([feature_importance_df, fold_importance_df], axis=0)"
      ],
      "execution_count": 44,
      "outputs": [
        {
          "output_type": "stream",
          "text": [
            "Training until validation scores don't improve for 100 rounds.\n",
            "[100]\ttraining's multi_logloss: 0.678922\tvalid_1's multi_logloss: 0.699039\n",
            "[200]\ttraining's multi_logloss: 0.648567\tvalid_1's multi_logloss: 0.691028\n",
            "[300]\ttraining's multi_logloss: 0.623173\tvalid_1's multi_logloss: 0.684542\n",
            "[400]\ttraining's multi_logloss: 0.59888\tvalid_1's multi_logloss: 0.678824\n",
            "[500]\ttraining's multi_logloss: 0.577521\tvalid_1's multi_logloss: 0.673486\n",
            "[600]\ttraining's multi_logloss: 0.557566\tvalid_1's multi_logloss: 0.668582\n",
            "[700]\ttraining's multi_logloss: 0.538661\tvalid_1's multi_logloss: 0.663837\n",
            "[800]\ttraining's multi_logloss: 0.52082\tvalid_1's multi_logloss: 0.659369\n",
            "[900]\ttraining's multi_logloss: 0.503205\tvalid_1's multi_logloss: 0.654383\n",
            "[1000]\ttraining's multi_logloss: 0.485884\tvalid_1's multi_logloss: 0.650499\n",
            "[1100]\ttraining's multi_logloss: 0.4708\tvalid_1's multi_logloss: 0.646732\n",
            "[1200]\ttraining's multi_logloss: 0.45523\tvalid_1's multi_logloss: 0.642825\n",
            "[1300]\ttraining's multi_logloss: 0.440697\tvalid_1's multi_logloss: 0.639391\n",
            "[1400]\ttraining's multi_logloss: 0.426602\tvalid_1's multi_logloss: 0.635849\n",
            "[1500]\ttraining's multi_logloss: 0.413958\tvalid_1's multi_logloss: 0.632878\n",
            "[1600]\ttraining's multi_logloss: 0.400899\tvalid_1's multi_logloss: 0.630085\n",
            "[1700]\ttraining's multi_logloss: 0.388848\tvalid_1's multi_logloss: 0.627344\n",
            "[1800]\ttraining's multi_logloss: 0.37687\tvalid_1's multi_logloss: 0.624413\n",
            "[1900]\ttraining's multi_logloss: 0.364796\tvalid_1's multi_logloss: 0.621823\n",
            "[2000]\ttraining's multi_logloss: 0.353463\tvalid_1's multi_logloss: 0.618996\n",
            "[2100]\ttraining's multi_logloss: 0.342827\tvalid_1's multi_logloss: 0.617016\n",
            "[2200]\ttraining's multi_logloss: 0.332595\tvalid_1's multi_logloss: 0.614699\n",
            "[2300]\ttraining's multi_logloss: 0.32285\tvalid_1's multi_logloss: 0.612727\n",
            "[2400]\ttraining's multi_logloss: 0.313133\tvalid_1's multi_logloss: 0.610612\n",
            "[2500]\ttraining's multi_logloss: 0.304201\tvalid_1's multi_logloss: 0.60901\n",
            "[2600]\ttraining's multi_logloss: 0.295476\tvalid_1's multi_logloss: 0.607678\n",
            "[2700]\ttraining's multi_logloss: 0.286906\tvalid_1's multi_logloss: 0.606279\n",
            "[2800]\ttraining's multi_logloss: 0.278519\tvalid_1's multi_logloss: 0.60478\n",
            "[2900]\ttraining's multi_logloss: 0.270093\tvalid_1's multi_logloss: 0.60319\n",
            "[3000]\ttraining's multi_logloss: 0.262223\tvalid_1's multi_logloss: 0.601848\n",
            "[3100]\ttraining's multi_logloss: 0.25453\tvalid_1's multi_logloss: 0.600766\n",
            "[3200]\ttraining's multi_logloss: 0.247059\tvalid_1's multi_logloss: 0.599619\n",
            "[3300]\ttraining's multi_logloss: 0.240019\tvalid_1's multi_logloss: 0.598906\n",
            "[3400]\ttraining's multi_logloss: 0.233079\tvalid_1's multi_logloss: 0.598177\n",
            "[3500]\ttraining's multi_logloss: 0.22665\tvalid_1's multi_logloss: 0.597404\n",
            "[3600]\ttraining's multi_logloss: 0.220251\tvalid_1's multi_logloss: 0.596335\n",
            "[3700]\ttraining's multi_logloss: 0.214022\tvalid_1's multi_logloss: 0.595723\n",
            "[3800]\ttraining's multi_logloss: 0.207774\tvalid_1's multi_logloss: 0.59485\n",
            "[3900]\ttraining's multi_logloss: 0.201712\tvalid_1's multi_logloss: 0.594508\n",
            "[4000]\ttraining's multi_logloss: 0.196124\tvalid_1's multi_logloss: 0.594159\n",
            "[4100]\ttraining's multi_logloss: 0.190695\tvalid_1's multi_logloss: 0.594052\n",
            "[4200]\ttraining's multi_logloss: 0.185439\tvalid_1's multi_logloss: 0.593622\n",
            "[4300]\ttraining's multi_logloss: 0.180435\tvalid_1's multi_logloss: 0.593377\n",
            "[4400]\ttraining's multi_logloss: 0.175459\tvalid_1's multi_logloss: 0.593166\n",
            "Early stopping, best iteration is:\n",
            "[4368]\ttraining's multi_logloss: 0.177172\tvalid_1's multi_logloss: 0.593064\n"
          ],
          "name": "stdout"
        }
      ]
    },
    {
      "cell_type": "code",
      "metadata": {
        "id": "y4Yec79uKL-d",
        "outputId": "a235f093-0a44-44fa-f206-ba00647f8839",
        "colab": {
          "base_uri": "https://localhost:8080/"
        }
      },
      "source": [
        "solution = df_test['Review_Sentiment']\n",
        "print(\"Accuracy: %s\" % str(accuracy_score(solution, sub_preds)))\n",
        "confusion_matrix(y_pred=sub_preds, y_true=solution)"
      ],
      "execution_count": 45,
      "outputs": [
        {
          "output_type": "stream",
          "text": [
            "Accuracy: 0.7923580950468204\n"
          ],
          "name": "stdout"
        },
        {
          "output_type": "execute_result",
          "data": {
            "text/plain": [
              "array([[ 5768,    47,  3976],\n",
              "       [  588,  1185,  1899],\n",
              "       [ 1680,    81, 24609]])"
            ]
          },
          "metadata": {
            "tags": []
          },
          "execution_count": 45
        }
      ]
    },
    {
      "cell_type": "markdown",
      "metadata": {
        "id": "1rWlSVJVKRHT"
      },
      "source": [
        "Plotting the featurew importance"
      ]
    },
    {
      "cell_type": "code",
      "metadata": {
        "id": "giUU2gjsKPuI",
        "outputId": "5a6b7429-5a0b-4883-877b-174d49aab566",
        "colab": {
          "base_uri": "https://localhost:8080/",
          "height": 729
        }
      },
      "source": [
        "cols = feature_importance_df[[\"feature\", \"importance\"]].groupby(\"feature\").mean().sort_values(\n",
        "    by=\"importance\", ascending = False)[:50].index\n",
        "\n",
        "best_features = feature_importance_df.loc[feature_importance_df.feature.isin(cols)]\n",
        "\n",
        "plt.figure(figsize=(14,10))\n",
        "sns.barplot(x=\"importance\", y=\"feature\", data = best_features.sort_values(by=\"importance\", ascending=False))\n",
        "plt.title('LightGBM Features (avg over folds)')\n",
        "plt.tight_layout()"
      ],
      "execution_count": 46,
      "outputs": [
        {
          "output_type": "display_data",
          "data": {
            "image/png": "[encoded data removed]",
            "text/plain": [
              "<Figure size 1008x720 with 1 Axes>"
            ]
          },
          "metadata": {
            "tags": [],
            "needs_background": "light"
          }
        }
      ]
    }
  ]
}