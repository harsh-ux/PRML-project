{
  "nbformat": 4,
  "nbformat_minor": 0,
  "metadata": {
    "colab": {
      "name": "Copy of Pill-Recommendation.ipynb",
      "provenance": [],
      "include_colab_link": true
    },
    "kernelspec": {
      "name": "python3",
      "display_name": "Python 3"
    },
    "language_info": {
      "name": "python"
    },
    "accelerator": "GPU"
  },
  "cells": [
    {
      "cell_type": "markdown",
      "metadata": {
        "id": "view-in-github",
        "colab_type": "text"
      },
      "source": [
        "<a href=\"https://colab.research.google.com/github/harsh-ux/PRML-project/blob/main/Pill_Recommendation.ipynb\" target=\"_parent\"><img src=\"https://colab.research.google.com/assets/colab-badge.svg\" alt=\"Open In Colab\"/></a>"
      ]
    },
    {
      "cell_type": "code",
      "metadata": {
        "id": "UQIyDqj0J9ql"
      },
      "source": [
        "import pandas as pd\n",
        "import numpy as np\n",
        "import seaborn as sns\n",
        "from matplotlib import pyplot as plt\n",
        "from sklearn.model_selection import train_test_split"
      ],
      "execution_count": 1,
      "outputs": []
    },
    {
      "cell_type": "code",
      "metadata": {
        "id": "HT8I0ceWXwjt",
        "colab": {
          "base_uri": "https://localhost:8080/"
        },
        "outputId": "b9f956e3-f753-4206-fe67-4e2005652f1d"
      },
      "source": [
        "from google.colab import drive\n",
        "drive.mount('/content/drive',force_remount=True)\n",
        "train = pd.read_csv('drive/My Drive/drugsCom_raw/drugsComTrain_raw.csv')\n",
        "test = pd.read_csv('drive/My Drive/drugsCom_raw/drugsComTest_raw.csv')\n",
        "\n",
        "# getting the shapes\n",
        "print(\"Shape of train :\", train.shape)\n",
        "print(\"Shape of test :\", test.shape)"
      ],
      "execution_count": 2,
      "outputs": [
        {
          "output_type": "stream",
          "text": [
            "Mounted at /content/drive\n",
            "Shape of train : (161297, 7)\n",
            "Shape of test : (53766, 7)\n"
          ],
          "name": "stdout"
        }
      ]
    },
    {
      "cell_type": "code",
      "metadata": {
        "id": "H-KXObLyYE9q",
        "colab": {
          "base_uri": "https://localhost:8080/",
          "height": 195
        },
        "outputId": "b39926e3-e376-4e43-cb42-7d84ea0095fb"
      },
      "source": [
        "train.head()"
      ],
      "execution_count": 3,
      "outputs": [
        {
          "output_type": "execute_result",
          "data": {
            "text/html": [
              "<div>\n",
              "<style scoped>\n",
              "    .dataframe tbody tr th:only-of-type {\n",
              "        vertical-align: middle;\n",
              "    }\n",
              "\n",
              "    .dataframe tbody tr th {\n",
              "        vertical-align: top;\n",
              "    }\n",
              "\n",
              "    .dataframe thead th {\n",
              "        text-align: right;\n",
              "    }\n",
              "</style>\n",
              "<table border=\"1\" class=\"dataframe\">\n",
              "  <thead>\n",
              "    <tr style=\"text-align: right;\">\n",
              "      <th></th>\n",
              "      <th>uniqueID</th>\n",
              "      <th>drugName</th>\n",
              "      <th>condition</th>\n",
              "      <th>review</th>\n",
              "      <th>rating</th>\n",
              "      <th>date</th>\n",
              "      <th>usefulCount</th>\n",
              "    </tr>\n",
              "  </thead>\n",
              "  <tbody>\n",
              "    <tr>\n",
              "      <th>0</th>\n",
              "      <td>206461</td>\n",
              "      <td>Valsartan</td>\n",
              "      <td>Left Ventricular Dysfunction</td>\n",
              "      <td>\"It has no side effect, I take it in combinati...</td>\n",
              "      <td>9</td>\n",
              "      <td>20-May-12</td>\n",
              "      <td>27</td>\n",
              "    </tr>\n",
              "    <tr>\n",
              "      <th>1</th>\n",
              "      <td>95260</td>\n",
              "      <td>Guanfacine</td>\n",
              "      <td>ADHD</td>\n",
              "      <td>\"My son is halfway through his fourth week of ...</td>\n",
              "      <td>8</td>\n",
              "      <td>27-Apr-10</td>\n",
              "      <td>192</td>\n",
              "    </tr>\n",
              "    <tr>\n",
              "      <th>2</th>\n",
              "      <td>92703</td>\n",
              "      <td>Lybrel</td>\n",
              "      <td>Birth Control</td>\n",
              "      <td>\"I used to take another oral contraceptive, wh...</td>\n",
              "      <td>5</td>\n",
              "      <td>14-Dec-09</td>\n",
              "      <td>17</td>\n",
              "    </tr>\n",
              "    <tr>\n",
              "      <th>3</th>\n",
              "      <td>138000</td>\n",
              "      <td>Ortho Evra</td>\n",
              "      <td>Birth Control</td>\n",
              "      <td>\"This is my first time using any form of birth...</td>\n",
              "      <td>8</td>\n",
              "      <td>3-Nov-15</td>\n",
              "      <td>10</td>\n",
              "    </tr>\n",
              "    <tr>\n",
              "      <th>4</th>\n",
              "      <td>35696</td>\n",
              "      <td>Buprenorphine / naloxone</td>\n",
              "      <td>Opiate Dependence</td>\n",
              "      <td>\"Suboxone has completely turned my life around...</td>\n",
              "      <td>9</td>\n",
              "      <td>27-Nov-16</td>\n",
              "      <td>37</td>\n",
              "    </tr>\n",
              "  </tbody>\n",
              "</table>\n",
              "</div>"
            ],
            "text/plain": [
              "   uniqueID                  drugName  ...       date usefulCount\n",
              "0    206461                 Valsartan  ...  20-May-12          27\n",
              "1     95260                Guanfacine  ...  27-Apr-10         192\n",
              "2     92703                    Lybrel  ...  14-Dec-09          17\n",
              "3    138000                Ortho Evra  ...   3-Nov-15          10\n",
              "4     35696  Buprenorphine / naloxone  ...  27-Nov-16          37\n",
              "\n",
              "[5 rows x 7 columns]"
            ]
          },
          "metadata": {
            "tags": []
          },
          "execution_count": 3
        }
      ]
    },
    {
      "cell_type": "code",
      "metadata": {
        "colab": {
          "base_uri": "https://localhost:8080/",
          "height": 195
        },
        "id": "DKpAg1evaL5T",
        "outputId": "ddd32c89-8f47-43b3-b1b1-c8d1094e0c3d"
      },
      "source": [
        "test.head()"
      ],
      "execution_count": 4,
      "outputs": [
        {
          "output_type": "execute_result",
          "data": {
            "text/html": [
              "<div>\n",
              "<style scoped>\n",
              "    .dataframe tbody tr th:only-of-type {\n",
              "        vertical-align: middle;\n",
              "    }\n",
              "\n",
              "    .dataframe tbody tr th {\n",
              "        vertical-align: top;\n",
              "    }\n",
              "\n",
              "    .dataframe thead th {\n",
              "        text-align: right;\n",
              "    }\n",
              "</style>\n",
              "<table border=\"1\" class=\"dataframe\">\n",
              "  <thead>\n",
              "    <tr style=\"text-align: right;\">\n",
              "      <th></th>\n",
              "      <th>uniqueID</th>\n",
              "      <th>drugName</th>\n",
              "      <th>condition</th>\n",
              "      <th>review</th>\n",
              "      <th>rating</th>\n",
              "      <th>date</th>\n",
              "      <th>usefulCount</th>\n",
              "    </tr>\n",
              "  </thead>\n",
              "  <tbody>\n",
              "    <tr>\n",
              "      <th>0</th>\n",
              "      <td>163740</td>\n",
              "      <td>Mirtazapine</td>\n",
              "      <td>Depression</td>\n",
              "      <td>\"I&amp;#039;ve tried a few antidepressants over th...</td>\n",
              "      <td>10</td>\n",
              "      <td>28-Feb-12</td>\n",
              "      <td>22</td>\n",
              "    </tr>\n",
              "    <tr>\n",
              "      <th>1</th>\n",
              "      <td>206473</td>\n",
              "      <td>Mesalamine</td>\n",
              "      <td>Crohn's Disease, Maintenance</td>\n",
              "      <td>\"My son has Crohn&amp;#039;s disease and has done ...</td>\n",
              "      <td>8</td>\n",
              "      <td>17-May-09</td>\n",
              "      <td>17</td>\n",
              "    </tr>\n",
              "    <tr>\n",
              "      <th>2</th>\n",
              "      <td>159672</td>\n",
              "      <td>Bactrim</td>\n",
              "      <td>Urinary Tract Infection</td>\n",
              "      <td>\"Quick reduction of symptoms\"</td>\n",
              "      <td>9</td>\n",
              "      <td>29-Sep-17</td>\n",
              "      <td>3</td>\n",
              "    </tr>\n",
              "    <tr>\n",
              "      <th>3</th>\n",
              "      <td>39293</td>\n",
              "      <td>Contrave</td>\n",
              "      <td>Weight Loss</td>\n",
              "      <td>\"Contrave combines drugs that were used for al...</td>\n",
              "      <td>9</td>\n",
              "      <td>5-Mar-17</td>\n",
              "      <td>35</td>\n",
              "    </tr>\n",
              "    <tr>\n",
              "      <th>4</th>\n",
              "      <td>97768</td>\n",
              "      <td>Cyclafem 1 / 35</td>\n",
              "      <td>Birth Control</td>\n",
              "      <td>\"I have been on this birth control for one cyc...</td>\n",
              "      <td>9</td>\n",
              "      <td>22-Oct-15</td>\n",
              "      <td>4</td>\n",
              "    </tr>\n",
              "  </tbody>\n",
              "</table>\n",
              "</div>"
            ],
            "text/plain": [
              "   uniqueID         drugName  ...       date usefulCount\n",
              "0    163740      Mirtazapine  ...  28-Feb-12          22\n",
              "1    206473       Mesalamine  ...  17-May-09          17\n",
              "2    159672          Bactrim  ...  29-Sep-17           3\n",
              "3     39293         Contrave  ...   5-Mar-17          35\n",
              "4     97768  Cyclafem 1 / 35  ...  22-Oct-15           4\n",
              "\n",
              "[5 rows x 7 columns]"
            ]
          },
          "metadata": {
            "tags": []
          },
          "execution_count": 4
        }
      ]
    },
    {
      "cell_type": "code",
      "metadata": {
        "colab": {
          "base_uri": "https://localhost:8080/"
        },
        "id": "z0R27T0waVC8",
        "outputId": "1f1edaca-ab86-4c84-af50-3ea2bcd0ec9a"
      },
      "source": [
        "# as both the dataset contains same columns we can combine them for better analysis\n",
        "data = pd.concat([train, test])\n",
        "\n",
        "# checking the shape\n",
        "data.shape"
      ],
      "execution_count": 5,
      "outputs": [
        {
          "output_type": "execute_result",
          "data": {
            "text/plain": [
              "(215063, 7)"
            ]
          },
          "metadata": {
            "tags": []
          },
          "execution_count": 5
        }
      ]
    },
    {
      "cell_type": "code",
      "metadata": {
        "colab": {
          "base_uri": "https://localhost:8080/",
          "height": 284
        },
        "id": "DlwHUNp7aYWH",
        "outputId": "4d309682-56e6-4908-9b30-2c4dc41dc1cb"
      },
      "source": [
        "data.describe()"
      ],
      "execution_count": 6,
      "outputs": [
        {
          "output_type": "execute_result",
          "data": {
            "text/html": [
              "<div>\n",
              "<style scoped>\n",
              "    .dataframe tbody tr th:only-of-type {\n",
              "        vertical-align: middle;\n",
              "    }\n",
              "\n",
              "    .dataframe tbody tr th {\n",
              "        vertical-align: top;\n",
              "    }\n",
              "\n",
              "    .dataframe thead th {\n",
              "        text-align: right;\n",
              "    }\n",
              "</style>\n",
              "<table border=\"1\" class=\"dataframe\">\n",
              "  <thead>\n",
              "    <tr style=\"text-align: right;\">\n",
              "      <th></th>\n",
              "      <th>uniqueID</th>\n",
              "      <th>rating</th>\n",
              "      <th>usefulCount</th>\n",
              "    </tr>\n",
              "  </thead>\n",
              "  <tbody>\n",
              "    <tr>\n",
              "      <th>count</th>\n",
              "      <td>215063.000000</td>\n",
              "      <td>215063.000000</td>\n",
              "      <td>215063.000000</td>\n",
              "    </tr>\n",
              "    <tr>\n",
              "      <th>mean</th>\n",
              "      <td>116039.364814</td>\n",
              "      <td>6.990008</td>\n",
              "      <td>28.001004</td>\n",
              "    </tr>\n",
              "    <tr>\n",
              "      <th>std</th>\n",
              "      <td>67007.913366</td>\n",
              "      <td>3.275554</td>\n",
              "      <td>36.346069</td>\n",
              "    </tr>\n",
              "    <tr>\n",
              "      <th>min</th>\n",
              "      <td>0.000000</td>\n",
              "      <td>1.000000</td>\n",
              "      <td>0.000000</td>\n",
              "    </tr>\n",
              "    <tr>\n",
              "      <th>25%</th>\n",
              "      <td>58115.500000</td>\n",
              "      <td>5.000000</td>\n",
              "      <td>6.000000</td>\n",
              "    </tr>\n",
              "    <tr>\n",
              "      <th>50%</th>\n",
              "      <td>115867.000000</td>\n",
              "      <td>8.000000</td>\n",
              "      <td>16.000000</td>\n",
              "    </tr>\n",
              "    <tr>\n",
              "      <th>75%</th>\n",
              "      <td>173963.500000</td>\n",
              "      <td>10.000000</td>\n",
              "      <td>36.000000</td>\n",
              "    </tr>\n",
              "    <tr>\n",
              "      <th>max</th>\n",
              "      <td>232291.000000</td>\n",
              "      <td>10.000000</td>\n",
              "      <td>1291.000000</td>\n",
              "    </tr>\n",
              "  </tbody>\n",
              "</table>\n",
              "</div>"
            ],
            "text/plain": [
              "            uniqueID         rating    usefulCount\n",
              "count  215063.000000  215063.000000  215063.000000\n",
              "mean   116039.364814       6.990008      28.001004\n",
              "std     67007.913366       3.275554      36.346069\n",
              "min         0.000000       1.000000       0.000000\n",
              "25%     58115.500000       5.000000       6.000000\n",
              "50%    115867.000000       8.000000      16.000000\n",
              "75%    173963.500000      10.000000      36.000000\n",
              "max    232291.000000      10.000000    1291.000000"
            ]
          },
          "metadata": {
            "tags": []
          },
          "execution_count": 6
        }
      ]
    },
    {
      "cell_type": "code",
      "metadata": {
        "colab": {
          "base_uri": "https://localhost:8080/"
        },
        "id": "Sut-6SlkagTE",
        "outputId": "380575e3-c6f6-4043-f264-6f5646d9c244"
      },
      "source": [
        "data.info()"
      ],
      "execution_count": 7,
      "outputs": [
        {
          "output_type": "stream",
          "text": [
            "<class 'pandas.core.frame.DataFrame'>\n",
            "Int64Index: 215063 entries, 0 to 53765\n",
            "Data columns (total 7 columns):\n",
            " #   Column       Non-Null Count   Dtype \n",
            "---  ------       --------------   ----- \n",
            " 0   uniqueID     215063 non-null  int64 \n",
            " 1   drugName     215063 non-null  object\n",
            " 2   condition    213869 non-null  object\n",
            " 3   review       215063 non-null  object\n",
            " 4   rating       215063 non-null  int64 \n",
            " 5   date         215063 non-null  object\n",
            " 6   usefulCount  215063 non-null  int64 \n",
            "dtypes: int64(3), object(4)\n",
            "memory usage: 13.1+ MB\n"
          ],
          "name": "stdout"
        }
      ]
    },
    {
      "cell_type": "markdown",
      "metadata": {
        "id": "-JjG_Jlml-zM"
      },
      "source": [
        "Extracting year,month and day from the date column"
      ]
    },
    {
      "cell_type": "code",
      "metadata": {
        "id": "OdDWY8OYbnCY"
      },
      "source": [
        "# converting the date into datetime format\n",
        "data['date'] = pd.to_datetime(data['date'], errors = 'coerce')\n",
        "\n",
        "# now extracting year from date\n",
        "data['Year'] = data['date'].dt.year\n",
        "\n",
        "# extracting the month from the date\n",
        "data['month'] = data['date'].dt.month\n",
        "\n",
        "# extracting the days from the date\n",
        "data['day'] = data['date'].dt.day"
      ],
      "execution_count": 8,
      "outputs": []
    },
    {
      "cell_type": "markdown",
      "metadata": {
        "id": "5wI66HLlaqe0"
      },
      "source": [
        "Check for null values"
      ]
    },
    {
      "cell_type": "code",
      "metadata": {
        "colab": {
          "base_uri": "https://localhost:8080/"
        },
        "id": "-pzoIy09aoFV",
        "outputId": "657e1d34-2e05-43b1-96a4-c3fc374cbf95"
      },
      "source": [
        "data.isnull().any()"
      ],
      "execution_count": 9,
      "outputs": [
        {
          "output_type": "execute_result",
          "data": {
            "text/plain": [
              "uniqueID       False\n",
              "drugName       False\n",
              "condition       True\n",
              "review         False\n",
              "rating         False\n",
              "date           False\n",
              "usefulCount    False\n",
              "Year           False\n",
              "month          False\n",
              "day            False\n",
              "dtype: bool"
            ]
          },
          "metadata": {
            "tags": []
          },
          "execution_count": 9
        }
      ]
    },
    {
      "cell_type": "markdown",
      "metadata": {
        "id": "iwGS7Yhpbwmn"
      },
      "source": [
        "Add review sentiment column which acts as target variable. It gives a (good,bad)-(1,0) value based on rating of the drug"
      ]
    },
    {
      "cell_type": "code",
      "metadata": {
        "colab": {
          "base_uri": "https://localhost:8080/"
        },
        "id": "N-s4FDirbboO",
        "outputId": "4f63cd35-6f12-4989-c68d-6efd9ff40d6b"
      },
      "source": [
        "# feature engineering \n",
        "# let's make a new column review sentiment \n",
        "\n",
        "data.loc[(data['rating'] >= 5), 'Review_Sentiment'] = 1\n",
        "data.loc[(data['rating'] < 5), 'Review_Sentiment'] = 0\n",
        "\n",
        "data['Review_Sentiment'].value_counts()"
      ],
      "execution_count": 10,
      "outputs": [
        {
          "output_type": "execute_result",
          "data": {
            "text/plain": [
              "1.0    161491\n",
              "0.0     53572\n",
              "Name: Review_Sentiment, dtype: int64"
            ]
          },
          "metadata": {
            "tags": []
          },
          "execution_count": 10
        }
      ]
    },
    {
      "cell_type": "code",
      "metadata": {
        "colab": {
          "base_uri": "https://localhost:8080/"
        },
        "id": "JAWr-Wp0a6LS",
        "outputId": "99be71d3-4d63-48df-dbc2-56ec204c76d9"
      },
      "source": [
        "data['condition'].isnull().sum()"
      ],
      "execution_count": 11,
      "outputs": [
        {
          "output_type": "execute_result",
          "data": {
            "text/plain": [
              "1194"
            ]
          },
          "metadata": {
            "tags": []
          },
          "execution_count": 11
        }
      ]
    },
    {
      "cell_type": "code",
      "metadata": {
        "colab": {
          "base_uri": "https://localhost:8080/"
        },
        "id": "cz-1dTzKa9JP",
        "outputId": "bd741a18-a4dc-462c-9803-db03e9ab010e"
      },
      "source": [
        "# we will delete the rows so that the data does not overfits \n",
        "\n",
        "data = data.dropna(axis = 0)\n",
        "\n",
        "# checking the new shape of the data\n",
        "data.shape"
      ],
      "execution_count": 12,
      "outputs": [
        {
          "output_type": "execute_result",
          "data": {
            "text/plain": [
              "(213869, 11)"
            ]
          },
          "metadata": {
            "tags": []
          },
          "execution_count": 12
        }
      ]
    },
    {
      "cell_type": "code",
      "metadata": {
        "colab": {
          "base_uri": "https://localhost:8080/"
        },
        "id": "XKDGZDYxcPNo",
        "outputId": "0f0e2893-4096-45b8-e092-bb16f9d0f5d8"
      },
      "source": [
        "# importing the important libraries \n",
        "\n",
        "import re\n",
        "from bs4 import BeautifulSoup\n",
        "import nltk\n",
        "nltk.download('stopwords')\n",
        "from nltk.corpus import stopwords\n",
        "from nltk.stem.snowball import SnowballStemmer\n",
        "from nltk.stem.porter import PorterStemmer"
      ],
      "execution_count": 13,
      "outputs": [
        {
          "output_type": "stream",
          "text": [
            "[nltk_data] Downloading package stopwords to /root/nltk_data...\n",
            "[nltk_data]   Package stopwords is already up-to-date!\n"
          ],
          "name": "stdout"
        }
      ]
    },
    {
      "cell_type": "code",
      "metadata": {
        "id": "H-927tAecSS-"
      },
      "source": [
        "# removing some stopwords from the list of stopwords as they are important for drug recommendation\n",
        "\n",
        "stops = set(stopwords.words('english'))\n",
        "\n",
        "not_stop = [\"aren't\",\"couldn't\",\"didn't\",\"doesn't\",\"don't\",\"hadn't\",\"hasn't\",\"haven't\",\"isn't\",\"mightn't\",\n",
        "            \"mustn't\",\"needn't\",\"no\",\"nor\",\"not\",\"shan't\",\"shouldn't\",\"wasn't\",\"weren't\",\"wouldn't\"]\n",
        "for i in not_stop:\n",
        "    stops.remove(i)"
      ],
      "execution_count": 14,
      "outputs": []
    },
    {
      "cell_type": "code",
      "metadata": {
        "colab": {
          "base_uri": "https://localhost:8080/"
        },
        "id": "OketBEXTcm-2",
        "outputId": "f3f45242-5118-4c47-be09-9ee2eeb3fc68"
      },
      "source": [
        "data.columns"
      ],
      "execution_count": 15,
      "outputs": [
        {
          "output_type": "execute_result",
          "data": {
            "text/plain": [
              "Index(['uniqueID', 'drugName', 'condition', 'review', 'rating', 'date',\n",
              "       'usefulCount', 'Year', 'month', 'day', 'Review_Sentiment'],\n",
              "      dtype='object')"
            ]
          },
          "metadata": {
            "tags": []
          },
          "execution_count": 15
        }
      ]
    },
    {
      "cell_type": "code",
      "metadata": {
        "colab": {
          "base_uri": "https://localhost:8080/",
          "height": 639
        },
        "id": "oxuSrIqgcp31",
        "outputId": "af4c5203-528a-4bd8-c1b1-184898a3edfc"
      },
      "source": [
        "df_condition = data.groupby(['condition'])['drugName'].nunique().sort_values(ascending=False)\n",
        "df_condition = pd.DataFrame(df_condition).reset_index()\n",
        "df_condition.tail(20)"
      ],
      "execution_count": 16,
      "outputs": [
        {
          "output_type": "execute_result",
          "data": {
            "text/html": [
              "<div>\n",
              "<style scoped>\n",
              "    .dataframe tbody tr th:only-of-type {\n",
              "        vertical-align: middle;\n",
              "    }\n",
              "\n",
              "    .dataframe tbody tr th {\n",
              "        vertical-align: top;\n",
              "    }\n",
              "\n",
              "    .dataframe thead th {\n",
              "        text-align: right;\n",
              "    }\n",
              "</style>\n",
              "<table border=\"1\" class=\"dataframe\">\n",
              "  <thead>\n",
              "    <tr style=\"text-align: right;\">\n",
              "      <th></th>\n",
              "      <th>condition</th>\n",
              "      <th>drugName</th>\n",
              "    </tr>\n",
              "  </thead>\n",
              "  <tbody>\n",
              "    <tr>\n",
              "      <th>896</th>\n",
              "      <td>Short Stature</td>\n",
              "      <td>1</td>\n",
              "    </tr>\n",
              "    <tr>\n",
              "      <th>897</th>\n",
              "      <td>Hemangioma</td>\n",
              "      <td>1</td>\n",
              "    </tr>\n",
              "    <tr>\n",
              "      <th>898</th>\n",
              "      <td>Short Stature for Age</td>\n",
              "      <td>1</td>\n",
              "    </tr>\n",
              "    <tr>\n",
              "      <th>899</th>\n",
              "      <td>Sleep Paralysis</td>\n",
              "      <td>1</td>\n",
              "    </tr>\n",
              "    <tr>\n",
              "      <th>900</th>\n",
              "      <td>Gestational Diabetes</td>\n",
              "      <td>1</td>\n",
              "    </tr>\n",
              "    <tr>\n",
              "      <th>901</th>\n",
              "      <td>Gastric Cance</td>\n",
              "      <td>1</td>\n",
              "    </tr>\n",
              "    <tr>\n",
              "      <th>902</th>\n",
              "      <td>Gallbladder Disease</td>\n",
              "      <td>1</td>\n",
              "    </tr>\n",
              "    <tr>\n",
              "      <th>903</th>\n",
              "      <td>Dermatitis Herpetiformis</td>\n",
              "      <td>1</td>\n",
              "    </tr>\n",
              "    <tr>\n",
              "      <th>904</th>\n",
              "      <td>Somatoform Pain Disorde</td>\n",
              "      <td>1</td>\n",
              "    </tr>\n",
              "    <tr>\n",
              "      <th>905</th>\n",
              "      <td>Esophageal Variceal Hemorrhage Prophylaxis</td>\n",
              "      <td>1</td>\n",
              "    </tr>\n",
              "    <tr>\n",
              "      <th>906</th>\n",
              "      <td>Esophageal Spasm</td>\n",
              "      <td>1</td>\n",
              "    </tr>\n",
              "    <tr>\n",
              "      <th>907</th>\n",
              "      <td>Sporotrichosis</td>\n",
              "      <td>1</td>\n",
              "    </tr>\n",
              "    <tr>\n",
              "      <th>908</th>\n",
              "      <td>Epididymitis, Sexually Transmitted</td>\n",
              "      <td>1</td>\n",
              "    </tr>\n",
              "    <tr>\n",
              "      <th>909</th>\n",
              "      <td>Pertussis</td>\n",
              "      <td>1</td>\n",
              "    </tr>\n",
              "    <tr>\n",
              "      <th>910</th>\n",
              "      <td>Ehrlichiosis</td>\n",
              "      <td>1</td>\n",
              "    </tr>\n",
              "    <tr>\n",
              "      <th>911</th>\n",
              "      <td>Steroid Responsive Inflammatory Conditions</td>\n",
              "      <td>1</td>\n",
              "    </tr>\n",
              "    <tr>\n",
              "      <th>912</th>\n",
              "      <td>Ectopic Pregnancy</td>\n",
              "      <td>1</td>\n",
              "    </tr>\n",
              "    <tr>\n",
              "      <th>913</th>\n",
              "      <td>Diagnostic Bronchograms</td>\n",
              "      <td>1</td>\n",
              "    </tr>\n",
              "    <tr>\n",
              "      <th>914</th>\n",
              "      <td>Systemic Candidiasis</td>\n",
              "      <td>1</td>\n",
              "    </tr>\n",
              "    <tr>\n",
              "      <th>915</th>\n",
              "      <td>Epicondylitis, Tennis Elbow</td>\n",
              "      <td>1</td>\n",
              "    </tr>\n",
              "  </tbody>\n",
              "</table>\n",
              "</div>"
            ],
            "text/plain": [
              "                                      condition  drugName\n",
              "896                               Short Stature         1\n",
              "897                                  Hemangioma         1\n",
              "898                       Short Stature for Age         1\n",
              "899                             Sleep Paralysis         1\n",
              "900                        Gestational Diabetes         1\n",
              "901                               Gastric Cance         1\n",
              "902                         Gallbladder Disease         1\n",
              "903                    Dermatitis Herpetiformis         1\n",
              "904                     Somatoform Pain Disorde         1\n",
              "905  Esophageal Variceal Hemorrhage Prophylaxis         1\n",
              "906                            Esophageal Spasm         1\n",
              "907                              Sporotrichosis         1\n",
              "908          Epididymitis, Sexually Transmitted         1\n",
              "909                                   Pertussis         1\n",
              "910                                Ehrlichiosis         1\n",
              "911  Steroid Responsive Inflammatory Conditions         1\n",
              "912                           Ectopic Pregnancy         1\n",
              "913                     Diagnostic Bronchograms         1\n",
              "914                        Systemic Candidiasis         1\n",
              "915                 Epicondylitis, Tennis Elbow         1"
            ]
          },
          "metadata": {
            "tags": []
          },
          "execution_count": 16
        }
      ]
    },
    {
      "cell_type": "markdown",
      "metadata": {
        "id": "pflJ6Q65c7pV"
      },
      "source": [
        "Removing medical conditions which have only one drug associated with it in the dataset"
      ]
    },
    {
      "cell_type": "code",
      "metadata": {
        "id": "mvkCOuhNc03T"
      },
      "source": [
        "# setting a df with conditions with only one drug\n",
        "df_condition_1 = df_condition[df_condition['drugName'] == 1].reset_index()\n",
        "\n",
        "all_list = set(data.index)\n",
        "\n",
        "# deleting them\n",
        "condition_list = []\n",
        "for i,j in enumerate(data['condition']):\n",
        "    for c in list(df_condition_1['condition']):\n",
        "        if j == c:\n",
        "            condition_list.append(i)\n",
        "            \n",
        "new_idx = all_list.difference(set(condition_list))\n",
        "data = data.iloc[list(new_idx)].reset_index()\n",
        "del data['index']"
      ],
      "execution_count": 17,
      "outputs": []
    },
    {
      "cell_type": "markdown",
      "metadata": {
        "id": "JAgoNQ4IdHSZ"
      },
      "source": [
        "removing the conditions with the word \"\\span\" in it.\n"
      ]
    },
    {
      "cell_type": "code",
      "metadata": {
        "id": "y6FCE4DRdDdF"
      },
      "source": [
        "all_list = set(data.index)\n",
        "span_list = []\n",
        "for i,j in enumerate(data['condition']):\n",
        "    if '</span>' in j:\n",
        "        span_list.append(i)\n",
        "new_idx = all_list.difference(set(span_list))\n",
        "data = data.iloc[list(new_idx)].reset_index()\n",
        "del data['index']"
      ],
      "execution_count": 18,
      "outputs": []
    },
    {
      "cell_type": "code",
      "metadata": {
        "colab": {
          "base_uri": "https://localhost:8080/"
        },
        "id": "BcePLbJ9dJEB",
        "outputId": "5f8813d1-ac4a-4f7d-e7c2-c98bd2498795"
      },
      "source": [
        "data.shape"
      ],
      "execution_count": 19,
      "outputs": [
        {
          "output_type": "execute_result",
          "data": {
            "text/plain": [
              "(159332, 11)"
            ]
          },
          "metadata": {
            "tags": []
          },
          "execution_count": 19
        }
      ]
    },
    {
      "cell_type": "markdown",
      "metadata": {
        "id": "m2zxwNQDdhyv"
      },
      "source": [
        "Applying data cleanup with -\n",
        "\n",
        "\n",
        "1.   Removing HTML tags\n",
        "2.   Removing non letters\n",
        "3.   Convert all to lower case\n",
        "4.   Remove stopwords\n",
        "5.   Apply stemming\n",
        "\n"
      ]
    },
    {
      "cell_type": "code",
      "metadata": {
        "id": "7CMWLiGBdO7L"
      },
      "source": [
        "stemmer = SnowballStemmer('english')\n",
        "\n",
        "def review_to_words(raw_review):\n",
        "    # 1. Delete HTML \n",
        "    review_text = BeautifulSoup(raw_review, 'html.parser').get_text()\n",
        "    # 2. Make a space\n",
        "    letters_only = re.sub('[^a-zA-Z]', ' ', review_text)\n",
        "    # 3. lower letters\n",
        "    words = letters_only.lower().split()\n",
        "    # 4. Stopwords \n",
        "    meaningful_words = [w for w in words if not w in stops]\n",
        "    # 5. Stemming\n",
        "    stemming_words = [stemmer.stem(w) for w in meaningful_words]\n",
        "    # 6. space join words\n",
        "    return( ' '.join(stemming_words))"
      ],
      "execution_count": 20,
      "outputs": []
    },
    {
      "cell_type": "code",
      "metadata": {
        "colab": {
          "base_uri": "https://localhost:8080/"
        },
        "id": "RxvlgxTcdS87",
        "outputId": "08dfbe7f-2e77-430c-c5be-6117c182217b"
      },
      "source": [
        "%time data['review_clean'] = data['review'].apply(review_to_words)"
      ],
      "execution_count": 21,
      "outputs": [
        {
          "output_type": "stream",
          "text": [
            "CPU times: user 2min 7s, sys: 1.31 s, total: 2min 9s\n",
            "Wall time: 2min 9s\n"
          ],
          "name": "stdout"
        }
      ]
    },
    {
      "cell_type": "markdown",
      "metadata": {
        "id": "A-SVWIpfeRxw"
      },
      "source": [
        "Using the entire data as for test and train instead of the original breakup since all have same columns"
      ]
    },
    {
      "cell_type": "code",
      "metadata": {
        "colab": {
          "base_uri": "https://localhost:8080/"
        },
        "id": "NBibZHsDeQny",
        "outputId": "27e39a60-88a5-442d-9058-e218417f39f6"
      },
      "source": [
        "df_train, df_test = train_test_split(data, test_size = 0.25, random_state = 0)\n",
        "\n",
        "# checking the shape \n",
        "print(\"Shape of train:\", df_train.shape)\n",
        "print(\"Shape of test: \", df_test.shape)"
      ],
      "execution_count": 22,
      "outputs": [
        {
          "output_type": "stream",
          "text": [
            "Shape of train: (119499, 12)\n",
            "Shape of test:  (39833, 12)\n"
          ],
          "name": "stdout"
        }
      ]
    },
    {
      "cell_type": "markdown",
      "metadata": {
        "id": "i2yw7Yi-ed-1"
      },
      "source": [
        "Making a bag of words using CountVectorise"
      ]
    },
    {
      "cell_type": "code",
      "metadata": {
        "colab": {
          "base_uri": "https://localhost:8080/"
        },
        "id": "88W6oNE8ear6",
        "outputId": "5771fff8-ac62-4c56-bb38-6796a8d8166c"
      },
      "source": [
        "from sklearn.feature_extraction.text import CountVectorizer\n",
        "from sklearn.pipeline import Pipeline\n",
        "\n",
        "cv = CountVectorizer(max_features = 10000, ngram_range = (4, 4))\n",
        "# cv = CountVectorizer()\n",
        "pipeline = Pipeline([('vect',cv)])\n",
        "\n",
        "# df_train_features = pipeline.fit_transform(df_train['review_clean'])\n",
        "df_train_features = cv.fit_transform(df_train['review_clean']).toarray()\n",
        "df_test_features = pipeline.fit_transform(df_test['review_clean'])\n",
        "\n",
        "print(\"Performing Bag of Words - CountVectorise\\n\")\n",
        "print(\"df_train_features :\", df_train_features.shape)\n",
        "print(\"df_test_features :\", df_test_features.shape)"
      ],
      "execution_count": 23,
      "outputs": [
        {
          "output_type": "stream",
          "text": [
            "Performing Bag of Words - CountVectorise\n",
            "\n",
            "df_train_features : (119499, 10000)\n",
            "df_test_features : (39833, 10000)\n"
          ],
          "name": "stdout"
        }
      ]
    },
    {
      "cell_type": "code",
      "metadata": {
        "id": "2AIqLbZcx9iZ"
      },
      "source": [
        "# df_train_features = df_train_features.to_array()"
      ],
      "execution_count": 24,
      "outputs": []
    },
    {
      "cell_type": "markdown",
      "metadata": {
        "id": "v34AhANzRQqP"
      },
      "source": [
        "Deep Learning Model"
      ]
    },
    {
      "cell_type": "code",
      "metadata": {
        "id": "o8mLA_0AOZTy"
      },
      "source": [
        "import keras \n",
        "from keras.models import Sequential, Model\n",
        "from keras.layers import Dense, Input\n",
        "from keras.layers import Activation\n",
        "from keras.layers import Dropout\n",
        "from keras.layers import Bidirectional\n",
        "from keras.layers import BatchNormalization\n",
        "from keras.layers import LSTM\n",
        "from keras.preprocessing.sequence import pad_sequences"
      ],
      "execution_count": 25,
      "outputs": []
    },
    {
      "cell_type": "code",
      "metadata": {
        "id": "NpNwaDDlWM9U"
      },
      "source": [
        "# making our dependent variable\n",
        "\n",
        "y_train = df_train['Review_Sentiment']\n",
        "y_test = df_test['Review_Sentiment']\n",
        "solution = y_test.copy()\n",
        "\n",
        "# Model Structure\n",
        "model = Sequential()\n",
        "model.add(Input(shape=(df_train_features.shape[1],)))\n",
        "model.add(Dense(200))\n",
        "model.add(BatchNormalization())\n",
        "model.add(Activation('relu'))\n",
        "model.add(Dropout(0.5))\n",
        "\n",
        "model.add(Dense(300))\n",
        "model.add(BatchNormalization())\n",
        "model.add(Activation('relu'))\n",
        "model.add(Dropout(0.5))\n",
        "\n",
        "model.add(Dense(100, activation = 'relu'))\n",
        "model.add(Dense(1, activation = 'sigmoid'))\n",
        "\n",
        "#  Model compile\n",
        "model.compile(optimizer='adam', loss='binary_crossentropy', metrics=['accuracy'])\n",
        "# inputs = Input(shape=(df_train_features.shape[1],), sparse=True)\n",
        "# L1 = (Dense(200))(inputs)\n",
        "# L1_N = (BatchNormalization())(L1)\n",
        "# L1_Act = (Activation('relu'))(L1_N)\n",
        "# L1_Drop = (Dropout(0.5))(L1_Act)\n",
        "# L2 = (Dense(200))(L1_Drop)\n",
        "# L2_N = (BatchNormalization())(L2)\n",
        "# L2_Act = (Activation('relu'))(L2_N)\n",
        "# L2_Drop = Dropout(0.5)(L2_Act)\n",
        "# L3 = (Dense(100, activation = 'relu'))(L2_Drop)\n",
        "# outputs = (Dense(1, activation = 'sigmoid'))(L3)\n",
        "# model = Model(inputs=inputs, outputs=outputs)\n",
        "# model.compile(loss='categorical_crossentropy', optimizer='adam', metrics=['accuracy'])"
      ],
      "execution_count": 26,
      "outputs": []
    },
    {
      "cell_type": "code",
      "metadata": {
        "colab": {
          "base_uri": "https://localhost:8080/"
        },
        "id": "mxulRqO4WSkc",
        "outputId": "d8e0c532-b640-49ac-a232-847b7f60b051"
      },
      "source": [
        "model.summary()"
      ],
      "execution_count": 27,
      "outputs": [
        {
          "output_type": "stream",
          "text": [
            "Model: \"sequential\"\n",
            "_________________________________________________________________\n",
            "Layer (type)                 Output Shape              Param #   \n",
            "=================================================================\n",
            "dense (Dense)                (None, 200)               2000200   \n",
            "_________________________________________________________________\n",
            "batch_normalization (BatchNo (None, 200)               800       \n",
            "_________________________________________________________________\n",
            "activation (Activation)      (None, 200)               0         \n",
            "_________________________________________________________________\n",
            "dropout (Dropout)            (None, 200)               0         \n",
            "_________________________________________________________________\n",
            "dense_1 (Dense)              (None, 300)               60300     \n",
            "_________________________________________________________________\n",
            "batch_normalization_1 (Batch (None, 300)               1200      \n",
            "_________________________________________________________________\n",
            "activation_1 (Activation)    (None, 300)               0         \n",
            "_________________________________________________________________\n",
            "dropout_1 (Dropout)          (None, 300)               0         \n",
            "_________________________________________________________________\n",
            "dense_2 (Dense)              (None, 100)               30100     \n",
            "_________________________________________________________________\n",
            "dense_3 (Dense)              (None, 1)                 101       \n",
            "=================================================================\n",
            "Total params: 2,092,701\n",
            "Trainable params: 2,091,701\n",
            "Non-trainable params: 1,000\n",
            "_________________________________________________________________\n"
          ],
          "name": "stdout"
        }
      ]
    },
    {
      "cell_type": "code",
      "metadata": {
        "colab": {
          "base_uri": "https://localhost:8080/"
        },
        "id": "px_jGO3wpGSW",
        "outputId": "746d2c24-cf7c-495e-d01e-8812af01a67d"
      },
      "source": [
        "print(df_train_features)"
      ],
      "execution_count": 28,
      "outputs": [
        {
          "output_type": "stream",
          "text": [
            "[[0 0 0 ... 0 0 0]\n",
            " [0 0 0 ... 0 0 0]\n",
            " [0 0 0 ... 0 0 0]\n",
            " ...\n",
            " [0 0 0 ... 0 0 0]\n",
            " [0 0 0 ... 0 0 0]\n",
            " [0 0 0 ... 0 0 0]]\n"
          ],
          "name": "stdout"
        }
      ]
    },
    {
      "cell_type": "code",
      "metadata": {
        "colab": {
          "base_uri": "https://localhost:8080/"
        },
        "id": "Ed5xLKccpTTd",
        "outputId": "881f16a5-bb40-406e-f37c-3e89404a2620"
      },
      "source": [
        "df_train['review_clean']"
      ],
      "execution_count": 29,
      "outputs": [
        {
          "output_type": "execute_result",
          "data": {
            "text/plain": [
              "87674     well tri lose weight sinc gave birth son yrs a...\n",
              "32578     take calan year truli amaz sever life alter mi...\n",
              "83874     help life entir product clinic learner realiz ...\n",
              "31622     invega month signific improv qualiti live prio...\n",
              "149049    differ birth control one other gave horribl sy...\n",
              "                                ...                        \n",
              "97639     never tri product allerg microcrystallin cellu...\n",
              "95939     diagnos adenomyosi due heavi control period ex...\n",
              "152315    fibromyalgia rheumatoid arthriti wait find med...\n",
              "117952    prescript ever help doctor gave free sampl aff...\n",
              "43567     pleas run drug side effect insomnia race heart...\n",
              "Name: review_clean, Length: 119499, dtype: object"
            ]
          },
          "metadata": {
            "tags": []
          },
          "execution_count": 29
        }
      ]
    },
    {
      "cell_type": "code",
      "metadata": {
        "id": "HLEuRnMQFH6O"
      },
      "source": [
        "def batch_generator(X, y, batch_size):\n",
        "    number_of_batches = X.shape[0]/batch_size\n",
        "    counter=0\n",
        "    shuffle_index = np.arange(np.shape(y)[0])\n",
        "    np.random.shuffle(shuffle_index)\n",
        "    X =  X[shuffle_index, :]\n",
        "    y =  y[shuffle_index]\n",
        "    while 1:\n",
        "        index_batch = shuffle_index[batch_size*counter:batch_size*(counter+1)]\n",
        "        X_batch = X[index_batch,:].todense()\n",
        "        y_batch = y[index_batch]\n",
        "        counter += 1\n",
        "        yield(np.array(X_batch),y_batch)\n",
        "        if (counter < number_of_batches):\n",
        "            np.random.shuffle(shuffle_index)\n",
        "            counter=0"
      ],
      "execution_count": 30,
      "outputs": []
    },
    {
      "cell_type": "code",
      "metadata": {
        "colab": {
          "base_uri": "https://localhost:8080/",
          "height": 619
        },
        "id": "WH0_OaMvWYcv",
        "outputId": "c7ba4eba-2d32-466a-e194-ec1e66e28e74"
      },
      "source": [
        "# 4. Train model\n",
        "hist = model.fit(df_train_features, y_train, epochs=10, batch_size=64)\n",
        "# steps = 10\n",
        "# for i in range(steps):\n",
        "#   print(model.train_on_batch(df_train_features, y_train, ))\n",
        "# print(model.metrics_names)\n",
        "# batch_size = 64\n",
        "# nb_epoch = 5\n",
        "# model.fit_generator(generator=batch_generator(df_train_features, y_train, batch_size),\n",
        "#                     epochs=nb_epoch)\n",
        "# 5. Traing process\n",
        "%matplotlib inline\n",
        "import matplotlib.pyplot as plt\n",
        "\n",
        "fig, loss_ax = plt.subplots()\n",
        "\n",
        "acc_ax = loss_ax.twinx()\n",
        "\n",
        "loss_ax.set_ylim([0.0, 1.0])\n",
        "acc_ax.set_ylim([0.0, 1.0])\n",
        "\n",
        "loss_ax.plot(hist.history['loss'], 'y', label='train loss')\n",
        "acc_ax.plot(hist.history['accuracy'], 'b', label='train acc')\n",
        "\n",
        "loss_ax.set_xlabel('epoch')\n",
        "loss_ax.set_ylabel('loss')\n",
        "acc_ax.set_ylabel('accuray')\n",
        "\n",
        "loss_ax.legend(loc='upper left')\n",
        "acc_ax.legend(loc='lower left')\n",
        "\n",
        "plt.show()"
      ],
      "execution_count": 34,
      "outputs": [
        {
          "output_type": "stream",
          "text": [
            "Epoch 1/10\n",
            "1868/1868 [==============================] - 15s 8ms/step - loss: 0.4242 - accuracy: 0.8053\n",
            "Epoch 2/10\n",
            "1868/1868 [==============================] - 15s 8ms/step - loss: 0.4220 - accuracy: 0.8059\n",
            "Epoch 3/10\n",
            "1868/1868 [==============================] - 15s 8ms/step - loss: 0.4204 - accuracy: 0.8069\n",
            "Epoch 4/10\n",
            "1868/1868 [==============================] - 15s 8ms/step - loss: 0.4172 - accuracy: 0.8081\n",
            "Epoch 5/10\n",
            "1868/1868 [==============================] - 15s 8ms/step - loss: 0.4174 - accuracy: 0.8083\n",
            "Epoch 6/10\n",
            "1868/1868 [==============================] - 15s 8ms/step - loss: 0.4161 - accuracy: 0.8088\n",
            "Epoch 7/10\n",
            "1868/1868 [==============================] - 15s 8ms/step - loss: 0.4143 - accuracy: 0.8098\n",
            "Epoch 8/10\n",
            "1868/1868 [==============================] - 15s 8ms/step - loss: 0.4137 - accuracy: 0.8101\n",
            "Epoch 9/10\n",
            "1868/1868 [==============================] - 15s 8ms/step - loss: 0.4122 - accuracy: 0.8108\n",
            "Epoch 10/10\n",
            "1868/1868 [==============================] - 15s 8ms/step - loss: 0.4114 - accuracy: 0.8108\n"
          ],
          "name": "stdout"
        },
        {
          "output_type": "display_data",
          "data": {
            "image/png": "[encoded data removed]",
            "text/plain": [
              "<Figure size 432x288 with 2 Axes>"
            ]
          },
          "metadata": {
            "tags": [],
            "needs_background": "light"
          }
        }
      ]
    }
  ]
}