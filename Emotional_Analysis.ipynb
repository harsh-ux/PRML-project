{
  "nbformat": 4,
  "nbformat_minor": 0,
  "metadata": {
    "colab": {
      "name": "Emotional_Analysis.ipynb",
      "provenance": [],
      "authorship_tag": "ABX9TyN3OTrzOrixP3buIJjm63Kt",
      "include_colab_link": true
    },
    "kernelspec": {
      "name": "python3",
      "display_name": "Python 3"
    },
    "language_info": {
      "name": "python"
    },
    "widgets": {
      "application/vnd.jupyter.widget-state+json": {
        "567934385802471b927d5b6100f18971": {
          "model_module": "@jupyter-widgets/controls",
          "model_name": "HBoxModel",
          "state": {
            "_view_name": "HBoxView",
            "_dom_classes": [],
            "_model_name": "HBoxModel",
            "_view_module": "@jupyter-widgets/controls",
            "_model_module_version": "1.5.0",
            "_view_count": null,
            "_view_module_version": "1.5.0",
            "box_style": "",
            "layout": "IPY_MODEL_04e54bfae32848d8b87041251fb91405",
            "_model_module": "@jupyter-widgets/controls",
            "children": [
              "IPY_MODEL_825cb7382ded4709a125e80e220a0e41",
              "IPY_MODEL_f3da60d299b84747b97c55e309140050"
            ]
          }
        },
        "04e54bfae32848d8b87041251fb91405": {
          "model_module": "@jupyter-widgets/base",
          "model_name": "LayoutModel",
          "state": {
            "_view_name": "LayoutView",
            "grid_template_rows": null,
            "right": null,
            "justify_content": null,
            "_view_module": "@jupyter-widgets/base",
            "overflow": null,
            "_model_module_version": "1.2.0",
            "_view_count": null,
            "flex_flow": null,
            "width": null,
            "min_width": null,
            "border": null,
            "align_items": null,
            "bottom": null,
            "_model_module": "@jupyter-widgets/base",
            "top": null,
            "grid_column": null,
            "overflow_y": null,
            "overflow_x": null,
            "grid_auto_flow": null,
            "grid_area": null,
            "grid_template_columns": null,
            "flex": null,
            "_model_name": "LayoutModel",
            "justify_items": null,
            "grid_row": null,
            "max_height": null,
            "align_content": null,
            "visibility": null,
            "align_self": null,
            "height": null,
            "min_height": null,
            "padding": null,
            "grid_auto_rows": null,
            "grid_gap": null,
            "max_width": null,
            "order": null,
            "_view_module_version": "1.2.0",
            "grid_template_areas": null,
            "object_position": null,
            "object_fit": null,
            "grid_auto_columns": null,
            "margin": null,
            "display": null,
            "left": null
          }
        },
        "825cb7382ded4709a125e80e220a0e41": {
          "model_module": "@jupyter-widgets/controls",
          "model_name": "FloatProgressModel",
          "state": {
            "_view_name": "ProgressView",
            "style": "IPY_MODEL_740128b0fdfa438da503b7f60ae0dda1",
            "_dom_classes": [],
            "description": "  0%",
            "_model_name": "FloatProgressModel",
            "bar_style": "",
            "max": 156432,
            "_view_module": "@jupyter-widgets/controls",
            "_model_module_version": "1.5.0",
            "value": 234,
            "_view_count": null,
            "_view_module_version": "1.5.0",
            "orientation": "horizontal",
            "min": 0,
            "description_tooltip": null,
            "_model_module": "@jupyter-widgets/controls",
            "layout": "IPY_MODEL_b756a147753443f997fff7b74404b63e"
          }
        },
        "f3da60d299b84747b97c55e309140050": {
          "model_module": "@jupyter-widgets/controls",
          "model_name": "HTMLModel",
          "state": {
            "_view_name": "HTMLView",
            "style": "IPY_MODEL_4d6ca7a98d5949d59c08483eaaeb759f",
            "_dom_classes": [],
            "description": "",
            "_model_name": "HTMLModel",
            "placeholder": "​",
            "_view_module": "@jupyter-widgets/controls",
            "_model_module_version": "1.5.0",
            "value": " 234/156432 [00:26&lt;4:45:06,  9.13it/s]",
            "_view_count": null,
            "_view_module_version": "1.5.0",
            "description_tooltip": null,
            "_model_module": "@jupyter-widgets/controls",
            "layout": "IPY_MODEL_6825a30b4efb4a8f86a03e26ddb1956b"
          }
        },
        "740128b0fdfa438da503b7f60ae0dda1": {
          "model_module": "@jupyter-widgets/controls",
          "model_name": "ProgressStyleModel",
          "state": {
            "_view_name": "StyleView",
            "_model_name": "ProgressStyleModel",
            "description_width": "initial",
            "_view_module": "@jupyter-widgets/base",
            "_model_module_version": "1.5.0",
            "_view_count": null,
            "_view_module_version": "1.2.0",
            "bar_color": null,
            "_model_module": "@jupyter-widgets/controls"
          }
        },
        "b756a147753443f997fff7b74404b63e": {
          "model_module": "@jupyter-widgets/base",
          "model_name": "LayoutModel",
          "state": {
            "_view_name": "LayoutView",
            "grid_template_rows": null,
            "right": null,
            "justify_content": null,
            "_view_module": "@jupyter-widgets/base",
            "overflow": null,
            "_model_module_version": "1.2.0",
            "_view_count": null,
            "flex_flow": null,
            "width": null,
            "min_width": null,
            "border": null,
            "align_items": null,
            "bottom": null,
            "_model_module": "@jupyter-widgets/base",
            "top": null,
            "grid_column": null,
            "overflow_y": null,
            "overflow_x": null,
            "grid_auto_flow": null,
            "grid_area": null,
            "grid_template_columns": null,
            "flex": null,
            "_model_name": "LayoutModel",
            "justify_items": null,
            "grid_row": null,
            "max_height": null,
            "align_content": null,
            "visibility": null,
            "align_self": null,
            "height": null,
            "min_height": null,
            "padding": null,
            "grid_auto_rows": null,
            "grid_gap": null,
            "max_width": null,
            "order": null,
            "_view_module_version": "1.2.0",
            "grid_template_areas": null,
            "object_position": null,
            "object_fit": null,
            "grid_auto_columns": null,
            "margin": null,
            "display": null,
            "left": null
          }
        },
        "4d6ca7a98d5949d59c08483eaaeb759f": {
          "model_module": "@jupyter-widgets/controls",
          "model_name": "DescriptionStyleModel",
          "state": {
            "_view_name": "StyleView",
            "_model_name": "DescriptionStyleModel",
            "description_width": "",
            "_view_module": "@jupyter-widgets/base",
            "_model_module_version": "1.5.0",
            "_view_count": null,
            "_view_module_version": "1.2.0",
            "_model_module": "@jupyter-widgets/controls"
          }
        },
        "6825a30b4efb4a8f86a03e26ddb1956b": {
          "model_module": "@jupyter-widgets/base",
          "model_name": "LayoutModel",
          "state": {
            "_view_name": "LayoutView",
            "grid_template_rows": null,
            "right": null,
            "justify_content": null,
            "_view_module": "@jupyter-widgets/base",
            "overflow": null,
            "_model_module_version": "1.2.0",
            "_view_count": null,
            "flex_flow": null,
            "width": null,
            "min_width": null,
            "border": null,
            "align_items": null,
            "bottom": null,
            "_model_module": "@jupyter-widgets/base",
            "top": null,
            "grid_column": null,
            "overflow_y": null,
            "overflow_x": null,
            "grid_auto_flow": null,
            "grid_area": null,
            "grid_template_columns": null,
            "flex": null,
            "_model_name": "LayoutModel",
            "justify_items": null,
            "grid_row": null,
            "max_height": null,
            "align_content": null,
            "visibility": null,
            "align_self": null,
            "height": null,
            "min_height": null,
            "padding": null,
            "grid_auto_rows": null,
            "grid_gap": null,
            "max_width": null,
            "order": null,
            "_view_module_version": "1.2.0",
            "grid_template_areas": null,
            "object_position": null,
            "object_fit": null,
            "grid_auto_columns": null,
            "margin": null,
            "display": null,
            "left": null
          }
        }
      }
    }
  },
  "cells": [
    {
      "cell_type": "markdown",
      "metadata": {
        "id": "view-in-github",
        "colab_type": "text"
      },
      "source": [
        "<a href=\"https://colab.research.google.com/github/harsh-ux/PRML-project/blob/main/Emotional_Analysis.ipynb\" target=\"_parent\"><img src=\"https://colab.research.google.com/assets/colab-badge.svg\" alt=\"Open In Colab\"/></a>"
      ]
    },
    {
      "cell_type": "markdown",
      "metadata": {
        "id": "SwrqSdYmivmg"
      },
      "source": [
        "#Installing Libraries and Dependencies"
      ]
    },
    {
      "cell_type": "code",
      "metadata": {
        "id": "UQIyDqj0J9ql",
        "colab": {
          "base_uri": "https://localhost:8080/"
        },
        "outputId": "5d405a4d-4d8d-44f0-e0dc-3f10104baa81"
      },
      "source": [
        "import time\n",
        "import pandas as pd\n",
        "import numpy as np\n",
        "import seaborn as sns\n",
        "from matplotlib import pyplot as plt\n",
        "from sklearn.svm import SVC\n",
        "from sklearn.model_selection import train_test_split, StratifiedKFold, cross_val_score\n",
        "from sklearn.pipeline import make_pipeline, Pipeline\n",
        "from sklearn.metrics import classification_report\n",
        "from sklearn.model_selection import GridSearchCV\n",
        "from sklearn.metrics import accuracy_score, f1_score, roc_curve, auc, confusion_matrix, roc_auc_score, recall_score, precision_score\n",
        "\n",
        "from sklearn.ensemble import RandomForestClassifier\n",
        "from sklearn.naive_bayes import MultinomialNB\n",
        "from sklearn.linear_model import LogisticRegression\n",
        "from wordcloud import WordCloud, STOPWORDS\n",
        "from nltk import word_tokenize\n",
        "from nltk.stem.snowball import SnowballStemmer\n",
        "from tqdm import tqdm_notebook as tqdm\n",
        "from tqdm import trange\n",
        "from sklearn.preprocessing import Normalizer\n",
        "import nltk\n",
        "nltk.download('punkt')"
      ],
      "execution_count": 1,
      "outputs": [
        {
          "output_type": "stream",
          "text": [
            "[nltk_data] Downloading package punkt to /root/nltk_data...\n",
            "[nltk_data]   Unzipping tokenizers/punkt.zip.\n"
          ],
          "name": "stdout"
        },
        {
          "output_type": "execute_result",
          "data": {
            "text/plain": [
              "True"
            ]
          },
          "metadata": {
            "tags": []
          },
          "execution_count": 1
        }
      ]
    },
    {
      "cell_type": "markdown",
      "metadata": {
        "id": "Z7pTDpAl25pb"
      },
      "source": [
        "#Analysing Emotions"
      ]
    },
    {
      "cell_type": "code",
      "metadata": {
        "colab": {
          "base_uri": "https://localhost:8080/"
        },
        "id": "iuKXAWebthjG",
        "outputId": "844fad68-90f5-4e1b-919b-805ef6937bdc"
      },
      "source": [
        "from google.colab import drive\n",
        "drive.mount('/content/drive',force_remount=True)\n",
        "data = pd.read_csv('/content/drive/MyDrive/ML/datasets/preprocessed_data.csv')"
      ],
      "execution_count": 13,
      "outputs": [
        {
          "output_type": "stream",
          "text": [
            "Mounted at /content/drive\n"
          ],
          "name": "stdout"
        }
      ]
    },
    {
      "cell_type": "code",
      "metadata": {
        "colab": {
          "base_uri": "https://localhost:8080/"
        },
        "id": "EYWCTmB73An9",
        "outputId": "a249d764-6323-4c3b-eaeb-44ede30e7a48"
      },
      "source": [
        "# Make data directory if it doesn't exist\n",
        "!mkdir -p nrcdata\n",
        "!wget -nc https://nyc3.digitaloceanspaces.com/ml-files-distro/v1/upshot-trump-emolex/data/NRC-emotion-lexicon-wordlevel-alphabetized-v0.92.txt -P nrcdata"
      ],
      "execution_count": 2,
      "outputs": [
        {
          "output_type": "stream",
          "text": [
            "--2021-05-15 06:19:11--  https://nyc3.digitaloceanspaces.com/ml-files-distro/v1/upshot-trump-emolex/data/NRC-emotion-lexicon-wordlevel-alphabetized-v0.92.txt\n",
            "Resolving nyc3.digitaloceanspaces.com (nyc3.digitaloceanspaces.com)... 162.243.189.2\n",
            "Connecting to nyc3.digitaloceanspaces.com (nyc3.digitaloceanspaces.com)|162.243.189.2|:443... connected.\n",
            "HTTP request sent, awaiting response... 200 OK\n",
            "Length: 2581050 (2.5M) [text/plain]\n",
            "Saving to: ‘nrcdata/NRC-emotion-lexicon-wordlevel-alphabetized-v0.92.txt’\n",
            "\n",
            "NRC-emotion-lexicon 100%[===================>]   2.46M  5.41MB/s    in 0.5s    \n",
            "\n",
            "2021-05-15 06:19:12 (5.41 MB/s) - ‘nrcdata/NRC-emotion-lexicon-wordlevel-alphabetized-v0.92.txt’ saved [2581050/2581050]\n",
            "\n"
          ],
          "name": "stdout"
        }
      ]
    },
    {
      "cell_type": "code",
      "metadata": {
        "colab": {
          "base_uri": "https://localhost:8080/",
          "height": 402
        },
        "id": "NDgJ14cD317O",
        "outputId": "08865c46-a2cd-4ad5-e565-cdf8bf160821"
      },
      "source": [
        "filepath = \"/content/nrcdata/NRC-emotion-lexicon-wordlevel-alphabetized-v0.92.txt\"\n",
        "emolex_df = pd.read_csv(filepath,  names=[\"word\", \"emotion\", \"association\"], skiprows=45, sep='\\t', keep_default_na=False)\n",
        "emolex_df.head(12)"
      ],
      "execution_count": 3,
      "outputs": [
        {
          "output_type": "execute_result",
          "data": {
            "text/html": [
              "<div>\n",
              "<style scoped>\n",
              "    .dataframe tbody tr th:only-of-type {\n",
              "        vertical-align: middle;\n",
              "    }\n",
              "\n",
              "    .dataframe tbody tr th {\n",
              "        vertical-align: top;\n",
              "    }\n",
              "\n",
              "    .dataframe thead th {\n",
              "        text-align: right;\n",
              "    }\n",
              "</style>\n",
              "<table border=\"1\" class=\"dataframe\">\n",
              "  <thead>\n",
              "    <tr style=\"text-align: right;\">\n",
              "      <th></th>\n",
              "      <th>word</th>\n",
              "      <th>emotion</th>\n",
              "      <th>association</th>\n",
              "    </tr>\n",
              "  </thead>\n",
              "  <tbody>\n",
              "    <tr>\n",
              "      <th>0</th>\n",
              "      <td>aback</td>\n",
              "      <td>anger</td>\n",
              "      <td>0</td>\n",
              "    </tr>\n",
              "    <tr>\n",
              "      <th>1</th>\n",
              "      <td>aback</td>\n",
              "      <td>anticipation</td>\n",
              "      <td>0</td>\n",
              "    </tr>\n",
              "    <tr>\n",
              "      <th>2</th>\n",
              "      <td>aback</td>\n",
              "      <td>disgust</td>\n",
              "      <td>0</td>\n",
              "    </tr>\n",
              "    <tr>\n",
              "      <th>3</th>\n",
              "      <td>aback</td>\n",
              "      <td>fear</td>\n",
              "      <td>0</td>\n",
              "    </tr>\n",
              "    <tr>\n",
              "      <th>4</th>\n",
              "      <td>aback</td>\n",
              "      <td>joy</td>\n",
              "      <td>0</td>\n",
              "    </tr>\n",
              "    <tr>\n",
              "      <th>5</th>\n",
              "      <td>aback</td>\n",
              "      <td>negative</td>\n",
              "      <td>0</td>\n",
              "    </tr>\n",
              "    <tr>\n",
              "      <th>6</th>\n",
              "      <td>aback</td>\n",
              "      <td>positive</td>\n",
              "      <td>0</td>\n",
              "    </tr>\n",
              "    <tr>\n",
              "      <th>7</th>\n",
              "      <td>aback</td>\n",
              "      <td>sadness</td>\n",
              "      <td>0</td>\n",
              "    </tr>\n",
              "    <tr>\n",
              "      <th>8</th>\n",
              "      <td>aback</td>\n",
              "      <td>surprise</td>\n",
              "      <td>0</td>\n",
              "    </tr>\n",
              "    <tr>\n",
              "      <th>9</th>\n",
              "      <td>aback</td>\n",
              "      <td>trust</td>\n",
              "      <td>0</td>\n",
              "    </tr>\n",
              "    <tr>\n",
              "      <th>10</th>\n",
              "      <td>abacus</td>\n",
              "      <td>anger</td>\n",
              "      <td>0</td>\n",
              "    </tr>\n",
              "    <tr>\n",
              "      <th>11</th>\n",
              "      <td>abacus</td>\n",
              "      <td>anticipation</td>\n",
              "      <td>0</td>\n",
              "    </tr>\n",
              "  </tbody>\n",
              "</table>\n",
              "</div>"
            ],
            "text/plain": [
              "      word       emotion  association\n",
              "0    aback         anger            0\n",
              "1    aback  anticipation            0\n",
              "2    aback       disgust            0\n",
              "3    aback          fear            0\n",
              "4    aback           joy            0\n",
              "5    aback      negative            0\n",
              "6    aback      positive            0\n",
              "7    aback       sadness            0\n",
              "8    aback      surprise            0\n",
              "9    aback         trust            0\n",
              "10  abacus         anger            0\n",
              "11  abacus  anticipation            0"
            ]
          },
          "metadata": {
            "tags": []
          },
          "execution_count": 3
        }
      ]
    },
    {
      "cell_type": "code",
      "metadata": {
        "colab": {
          "base_uri": "https://localhost:8080/"
        },
        "id": "n7M-QAwk4zNY",
        "outputId": "d2875aeb-f1bf-4226-fd8b-a7de62e351cd"
      },
      "source": [
        "emolex_df.emotion.unique()"
      ],
      "execution_count": 4,
      "outputs": [
        {
          "output_type": "execute_result",
          "data": {
            "text/plain": [
              "array(['anger', 'anticipation', 'disgust', 'fear', 'joy', 'negative',\n",
              "       'positive', 'sadness', 'surprise', 'trust'], dtype=object)"
            ]
          },
          "metadata": {
            "tags": []
          },
          "execution_count": 4
        }
      ]
    },
    {
      "cell_type": "code",
      "metadata": {
        "colab": {
          "base_uri": "https://localhost:8080/"
        },
        "id": "i9wCpdSx40uv",
        "outputId": "32f8e877-546e-4691-c533-8da091679306"
      },
      "source": [
        "emolex_df.emotion.value_counts()"
      ],
      "execution_count": 5,
      "outputs": [
        {
          "output_type": "execute_result",
          "data": {
            "text/plain": [
              "fear            14182\n",
              "joy             14182\n",
              "negative        14182\n",
              "anticipation    14182\n",
              "trust           14182\n",
              "anger           14182\n",
              "disgust         14182\n",
              "positive        14182\n",
              "surprise        14182\n",
              "sadness         14182\n",
              "Name: emotion, dtype: int64"
            ]
          },
          "metadata": {
            "tags": []
          },
          "execution_count": 5
        }
      ]
    },
    {
      "cell_type": "code",
      "metadata": {
        "colab": {
          "base_uri": "https://localhost:8080/"
        },
        "id": "XGY5IZ7v45_s",
        "outputId": "195d02b8-c489-4553-b4cd-26ccab75c9ef"
      },
      "source": [
        "emolex_df[emolex_df.association == 1].emotion.value_counts()"
      ],
      "execution_count": 6,
      "outputs": [
        {
          "output_type": "execute_result",
          "data": {
            "text/plain": [
              "negative        3324\n",
              "positive        2312\n",
              "fear            1476\n",
              "anger           1247\n",
              "trust           1231\n",
              "sadness         1191\n",
              "disgust         1058\n",
              "anticipation     839\n",
              "joy              689\n",
              "surprise         534\n",
              "Name: emotion, dtype: int64"
            ]
          },
          "metadata": {
            "tags": []
          },
          "execution_count": 6
        }
      ]
    },
    {
      "cell_type": "code",
      "metadata": {
        "colab": {
          "base_uri": "https://localhost:8080/",
          "height": 195
        },
        "id": "cBIlXcUN4_Mh",
        "outputId": "e69b0835-fcda-4328-fcea-247d43fd9b0a"
      },
      "source": [
        "emolex_words = emolex_df.pivot(index='word', columns='emotion', values='association').reset_index()\n",
        "emolex_words.head()"
      ],
      "execution_count": 7,
      "outputs": [
        {
          "output_type": "execute_result",
          "data": {
            "text/html": [
              "<div>\n",
              "<style scoped>\n",
              "    .dataframe tbody tr th:only-of-type {\n",
              "        vertical-align: middle;\n",
              "    }\n",
              "\n",
              "    .dataframe tbody tr th {\n",
              "        vertical-align: top;\n",
              "    }\n",
              "\n",
              "    .dataframe thead th {\n",
              "        text-align: right;\n",
              "    }\n",
              "</style>\n",
              "<table border=\"1\" class=\"dataframe\">\n",
              "  <thead>\n",
              "    <tr style=\"text-align: right;\">\n",
              "      <th>emotion</th>\n",
              "      <th>word</th>\n",
              "      <th>anger</th>\n",
              "      <th>anticipation</th>\n",
              "      <th>disgust</th>\n",
              "      <th>fear</th>\n",
              "      <th>joy</th>\n",
              "      <th>negative</th>\n",
              "      <th>positive</th>\n",
              "      <th>sadness</th>\n",
              "      <th>surprise</th>\n",
              "      <th>trust</th>\n",
              "    </tr>\n",
              "  </thead>\n",
              "  <tbody>\n",
              "    <tr>\n",
              "      <th>0</th>\n",
              "      <td>aback</td>\n",
              "      <td>0</td>\n",
              "      <td>0</td>\n",
              "      <td>0</td>\n",
              "      <td>0</td>\n",
              "      <td>0</td>\n",
              "      <td>0</td>\n",
              "      <td>0</td>\n",
              "      <td>0</td>\n",
              "      <td>0</td>\n",
              "      <td>0</td>\n",
              "    </tr>\n",
              "    <tr>\n",
              "      <th>1</th>\n",
              "      <td>abacus</td>\n",
              "      <td>0</td>\n",
              "      <td>0</td>\n",
              "      <td>0</td>\n",
              "      <td>0</td>\n",
              "      <td>0</td>\n",
              "      <td>0</td>\n",
              "      <td>0</td>\n",
              "      <td>0</td>\n",
              "      <td>0</td>\n",
              "      <td>1</td>\n",
              "    </tr>\n",
              "    <tr>\n",
              "      <th>2</th>\n",
              "      <td>abandon</td>\n",
              "      <td>0</td>\n",
              "      <td>0</td>\n",
              "      <td>0</td>\n",
              "      <td>1</td>\n",
              "      <td>0</td>\n",
              "      <td>1</td>\n",
              "      <td>0</td>\n",
              "      <td>1</td>\n",
              "      <td>0</td>\n",
              "      <td>0</td>\n",
              "    </tr>\n",
              "    <tr>\n",
              "      <th>3</th>\n",
              "      <td>abandoned</td>\n",
              "      <td>1</td>\n",
              "      <td>0</td>\n",
              "      <td>0</td>\n",
              "      <td>1</td>\n",
              "      <td>0</td>\n",
              "      <td>1</td>\n",
              "      <td>0</td>\n",
              "      <td>1</td>\n",
              "      <td>0</td>\n",
              "      <td>0</td>\n",
              "    </tr>\n",
              "    <tr>\n",
              "      <th>4</th>\n",
              "      <td>abandonment</td>\n",
              "      <td>1</td>\n",
              "      <td>0</td>\n",
              "      <td>0</td>\n",
              "      <td>1</td>\n",
              "      <td>0</td>\n",
              "      <td>1</td>\n",
              "      <td>0</td>\n",
              "      <td>1</td>\n",
              "      <td>1</td>\n",
              "      <td>0</td>\n",
              "    </tr>\n",
              "  </tbody>\n",
              "</table>\n",
              "</div>"
            ],
            "text/plain": [
              "emotion         word  anger  anticipation  ...  sadness  surprise  trust\n",
              "0              aback      0             0  ...        0         0      0\n",
              "1             abacus      0             0  ...        0         0      1\n",
              "2            abandon      0             0  ...        1         0      0\n",
              "3          abandoned      1             0  ...        1         0      0\n",
              "4        abandonment      1             0  ...        1         1      0\n",
              "\n",
              "[5 rows x 11 columns]"
            ]
          },
          "metadata": {
            "tags": []
          },
          "execution_count": 7
        }
      ]
    },
    {
      "cell_type": "code",
      "metadata": {
        "id": "W_H0iJAu6kR6"
      },
      "source": [
        "def extract_review_emotion(df,column):\n",
        "    new_df = df.copy()\n",
        "    \n",
        "    emotions = emolex_words.columns.drop('word')\n",
        "    emo_df = pd.DataFrame(0, index=df.index, columns=emotions)    \n",
        "    with tqdm(total=len(list(new_df.iterrows()))) as pbar:\n",
        "        for i, row in new_df.iterrows():\n",
        "            pbar.update(1)\n",
        "            document = word_tokenize(new_df.loc[i][column])\n",
        "            for word in document:\n",
        "                emo_score = emolex_words[emolex_words.word == word]\n",
        "                if not emo_score.empty:\n",
        "                    for emotion in list(emotions):\n",
        "                        emo_df.at[i, emotion] += emo_score[emotion]\n",
        "\n",
        "    new_df = pd.concat([new_df, emo_df], axis=1)\n",
        "\n",
        "    return new_df"
      ],
      "execution_count": 8,
      "outputs": []
    },
    {
      "cell_type": "code",
      "metadata": {
        "id": "Bal7AgRMRlpK"
      },
      "source": [
        "def extract_review_emotion_edit(df,column):\n",
        "    new_df = df.copy()\n",
        "    \n",
        "    emotions = emolex_words.columns.drop('word')\n",
        "    emo_df = pd.DataFrame(0, index=df.index, columns=emotions)    \n",
        "    with tqdm(total=len(list(new_df.iterrows()))) as pbar:\n",
        "        for i, row in new_df.iterrows():\n",
        "            pbar.update(1)\n",
        "            if (i==1): \n",
        "              print(row['review_clean'].split())\n",
        "            #document = word_tokenize(new_df.loc[i][column])\n",
        "            for word in row['review_clean'].split():\n",
        "                emo_score = emolex_words[emolex_words.word == word]\n",
        "                if not emo_score.empty:\n",
        "                    for emotion in list(emotions):\n",
        "                        emo_df.at[i, emotion] += emo_score[emotion]\n",
        "\n",
        "    new_df = pd.concat([new_df, emo_df], axis=1)\n",
        "\n",
        "    return new_df"
      ],
      "execution_count": null,
      "outputs": []
    },
    {
      "cell_type": "code",
      "metadata": {
        "colab": {
          "base_uri": "https://localhost:8080/",
          "height": 99,
          "referenced_widgets": [
            "567934385802471b927d5b6100f18971",
            "04e54bfae32848d8b87041251fb91405",
            "825cb7382ded4709a125e80e220a0e41",
            "f3da60d299b84747b97c55e309140050",
            "740128b0fdfa438da503b7f60ae0dda1",
            "b756a147753443f997fff7b74404b63e",
            "4d6ca7a98d5949d59c08483eaaeb759f",
            "6825a30b4efb4a8f86a03e26ddb1956b"
          ]
        },
        "id": "50wcd_rP7Fqn",
        "outputId": "f8d7ca3b-06d5-4c6c-efd6-89fc3e1d7a7d"
      },
      "source": [
        "emotion_df = extract_review_emotion(data, 'review_clean')"
      ],
      "execution_count": null,
      "outputs": [
        {
          "output_type": "stream",
          "text": [
            "/usr/local/lib/python3.7/dist-packages/ipykernel_launcher.py:6: TqdmDeprecationWarning: This function will be removed in tqdm==5.0.0\n",
            "Please use `tqdm.notebook.tqdm` instead of `tqdm.tqdm_notebook`\n",
            "  \n"
          ],
          "name": "stderr"
        },
        {
          "output_type": "display_data",
          "data": {
            "application/vnd.jupyter.widget-view+json": {
              "model_id": "567934385802471b927d5b6100f18971",
              "version_minor": 0,
              "version_major": 2
            },
            "text/plain": [
              "HBox(children=(FloatProgress(value=0.0, max=156432.0), HTML(value='')))"
            ]
          },
          "metadata": {
            "tags": []
          }
        }
      ]
    },
    {
      "cell_type": "code",
      "metadata": {
        "id": "ldyaOL1VPa7F",
        "colab": {
          "base_uri": "https://localhost:8080/"
        },
        "outputId": "2bec9775-d0ac-434a-bc5f-14bad3f93a09"
      },
      "source": [
        "!pip install NRCLex"
      ],
      "execution_count": 10,
      "outputs": [
        {
          "output_type": "stream",
          "text": [
            "Collecting NRCLex\n",
            "\u001b[?25l  Downloading https://files.pythonhosted.org/packages/41/1c/0097ee39d456c8a92b2eb5dfd59f581a09a6bafede184a058fb0f19bb6ea/NRCLex-3.0.0.tar.gz (396kB)\n",
            "\r\u001b[K     |▉                               | 10kB 12.6MB/s eta 0:00:01\r\u001b[K     |█▋                              | 20kB 18.1MB/s eta 0:00:01\r\u001b[K     |██▌                             | 30kB 15.8MB/s eta 0:00:01\r\u001b[K     |███▎                            | 40kB 11.5MB/s eta 0:00:01\r\u001b[K     |████▏                           | 51kB 7.8MB/s eta 0:00:01\r\u001b[K     |█████                           | 61kB 6.9MB/s eta 0:00:01\r\u001b[K     |█████▉                          | 71kB 7.3MB/s eta 0:00:01\r\u001b[K     |██████▋                         | 81kB 7.7MB/s eta 0:00:01\r\u001b[K     |███████▍                        | 92kB 8.0MB/s eta 0:00:01\r\u001b[K     |████████▎                       | 102kB 7.2MB/s eta 0:00:01\r\u001b[K     |█████████                       | 112kB 7.2MB/s eta 0:00:01\r\u001b[K     |██████████                      | 122kB 7.2MB/s eta 0:00:01\r\u001b[K     |██████████▊                     | 133kB 7.2MB/s eta 0:00:01\r\u001b[K     |███████████▋                    | 143kB 7.2MB/s eta 0:00:01\r\u001b[K     |████████████▍                   | 153kB 7.2MB/s eta 0:00:01\r\u001b[K     |█████████████▎                  | 163kB 7.2MB/s eta 0:00:01\r\u001b[K     |██████████████                  | 174kB 7.2MB/s eta 0:00:01\r\u001b[K     |██████████████▉                 | 184kB 7.2MB/s eta 0:00:01\r\u001b[K     |███████████████▊                | 194kB 7.2MB/s eta 0:00:01\r\u001b[K     |████████████████▌               | 204kB 7.2MB/s eta 0:00:01\r\u001b[K     |█████████████████▍              | 215kB 7.2MB/s eta 0:00:01\r\u001b[K     |██████████████████▏             | 225kB 7.2MB/s eta 0:00:01\r\u001b[K     |███████████████████             | 235kB 7.2MB/s eta 0:00:01\r\u001b[K     |███████████████████▉            | 245kB 7.2MB/s eta 0:00:01\r\u001b[K     |████████████████████▊           | 256kB 7.2MB/s eta 0:00:01\r\u001b[K     |█████████████████████▌          | 266kB 7.2MB/s eta 0:00:01\r\u001b[K     |██████████████████████▎         | 276kB 7.2MB/s eta 0:00:01\r\u001b[K     |███████████████████████▏        | 286kB 7.2MB/s eta 0:00:01\r\u001b[K     |████████████████████████        | 296kB 7.2MB/s eta 0:00:01\r\u001b[K     |████████████████████████▉       | 307kB 7.2MB/s eta 0:00:01\r\u001b[K     |█████████████████████████▋      | 317kB 7.2MB/s eta 0:00:01\r\u001b[K     |██████████████████████████▌     | 327kB 7.2MB/s eta 0:00:01\r\u001b[K     |███████████████████████████▎    | 337kB 7.2MB/s eta 0:00:01\r\u001b[K     |████████████████████████████    | 348kB 7.2MB/s eta 0:00:01\r\u001b[K     |█████████████████████████████   | 358kB 7.2MB/s eta 0:00:01\r\u001b[K     |█████████████████████████████▊  | 368kB 7.2MB/s eta 0:00:01\r\u001b[K     |██████████████████████████████▋ | 378kB 7.2MB/s eta 0:00:01\r\u001b[K     |███████████████████████████████▍| 389kB 7.2MB/s eta 0:00:01\r\u001b[K     |████████████████████████████████| 399kB 7.2MB/s \n",
            "\u001b[?25hRequirement already satisfied: textblob in /usr/local/lib/python3.7/dist-packages (from NRCLex) (0.15.3)\n",
            "Requirement already satisfied: nltk>=3.1 in /usr/local/lib/python3.7/dist-packages (from textblob->NRCLex) (3.2.5)\n",
            "Requirement already satisfied: six in /usr/local/lib/python3.7/dist-packages (from nltk>=3.1->textblob->NRCLex) (1.15.0)\n",
            "Building wheels for collected packages: NRCLex\n",
            "  Building wheel for NRCLex (setup.py) ... \u001b[?25l\u001b[?25hdone\n",
            "  Created wheel for NRCLex: filename=NRCLex-3.0.0-cp37-none-any.whl size=43310 sha256=406d6b98012feb869aa5d3c050936304590863787c1a83f5519f2182daa7545d\n",
            "  Stored in directory: /root/.cache/pip/wheels/17/31/64/035a8d245b4c217aeb8e8a2702d05dc91544b9c2334db72414\n",
            "Successfully built NRCLex\n",
            "Installing collected packages: NRCLex\n",
            "Successfully installed NRCLex-3.0.0\n"
          ],
          "name": "stdout"
        }
      ]
    },
    {
      "cell_type": "code",
      "metadata": {
        "id": "o2ZPGLvyPROm"
      },
      "source": [
        "from nrclex import NRCLex\n",
        "  \n",
        "# Assign list of strings\n",
        "text = ['i']\n",
        "  \n",
        "# Iterate through list\n",
        "for i in range(len(text)):\n",
        "  \n",
        "    # Create object\n",
        "    emotion = NRCLex(text[i])\n",
        "  \n",
        "    # Classify emotion\n",
        "    print('\\n\\n', text[i], ': ', emotion.top_emotions)\n"
      ],
      "execution_count": null,
      "outputs": []
    },
    {
      "cell_type": "code",
      "metadata": {
        "id": "zCkTHeNhI6vl"
      },
      "source": [
        "emotion_df.to_csv('emotion_sentiment.csv',index=False)"
      ],
      "execution_count": null,
      "outputs": []
    }
  ]
}